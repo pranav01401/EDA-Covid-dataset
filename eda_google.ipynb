{
 "cells": [
  {
   "cell_type": "markdown",
   "id": "0a3c02f0",
   "metadata": {},
   "source": [
    "# PROBLEM STATEMENT\n",
    "\n",
    "Q.In this problem we used two datasets:  \n",
    "    1.covid_19_india\\\n",
    "    2.covid_vaccine_statewise  \n",
    "    \n",
    "Using the dataset we analysed the data to find:  \n",
    "    1. Number of active cases   \n",
    "    2. Statewise Mortality and Recovery rates  \n",
    "    3. States with maximum no. of active cases  \n",
    "    4. States with minimum no. of active cases  \n",
    "    5. Growth trend in 5 states with maximum active users.  \n",
    "    6. Male vs Female vaccination  \n",
    "    7. Top 5 most vaccinated states  \n",
    "    8. Top 5 least vaccinated states  "
   ]
  },
  {
   "cell_type": "code",
   "execution_count": 75,
   "id": "a1a6e947",
   "metadata": {},
   "outputs": [],
   "source": [
    "import pandas as pd\n",
    "import seaborn as sns\n",
    "import numpy as np\n",
    "import plotly.express as px\n",
    "from plotly.subplots import make_subplots\n",
    "from datetime import datetime"
   ]
  },
  {
   "cell_type": "code",
   "execution_count": 76,
   "id": "3ea09831",
   "metadata": {},
   "outputs": [],
   "source": [
    "covid_df=pd.read_csv('covid_19_india.csv')"
   ]
  },
  {
   "cell_type": "code",
   "execution_count": 77,
   "id": "34c12219",
   "metadata": {},
   "outputs": [
    {
     "data": {
      "text/plain": [
       "(18110, 9)"
      ]
     },
     "execution_count": 77,
     "metadata": {},
     "output_type": "execute_result"
    }
   ],
   "source": [
    "## check whether data imported\n",
    "\n",
    "covid_df.shape"
   ]
  },
  {
   "cell_type": "code",
   "execution_count": 78,
   "id": "e2680b15",
   "metadata": {},
   "outputs": [
    {
     "data": {
      "text/html": [
       "<div>\n",
       "<style scoped>\n",
       "    .dataframe tbody tr th:only-of-type {\n",
       "        vertical-align: middle;\n",
       "    }\n",
       "\n",
       "    .dataframe tbody tr th {\n",
       "        vertical-align: top;\n",
       "    }\n",
       "\n",
       "    .dataframe thead th {\n",
       "        text-align: right;\n",
       "    }\n",
       "</style>\n",
       "<table border=\"1\" class=\"dataframe\">\n",
       "  <thead>\n",
       "    <tr style=\"text-align: right;\">\n",
       "      <th></th>\n",
       "      <th>Sno</th>\n",
       "      <th>Date</th>\n",
       "      <th>Time</th>\n",
       "      <th>State/UnionTerritory</th>\n",
       "      <th>ConfirmedIndianNational</th>\n",
       "      <th>ConfirmedForeignNational</th>\n",
       "      <th>Cured</th>\n",
       "      <th>Deaths</th>\n",
       "      <th>Confirmed</th>\n",
       "    </tr>\n",
       "  </thead>\n",
       "  <tbody>\n",
       "    <tr>\n",
       "      <th>18100</th>\n",
       "      <td>18101</td>\n",
       "      <td>2021-08-11</td>\n",
       "      <td>8:00 AM</td>\n",
       "      <td>Puducherry</td>\n",
       "      <td>-</td>\n",
       "      <td>-</td>\n",
       "      <td>119115</td>\n",
       "      <td>1800</td>\n",
       "      <td>121766</td>\n",
       "    </tr>\n",
       "    <tr>\n",
       "      <th>18101</th>\n",
       "      <td>18102</td>\n",
       "      <td>2021-08-11</td>\n",
       "      <td>8:00 AM</td>\n",
       "      <td>Punjab</td>\n",
       "      <td>-</td>\n",
       "      <td>-</td>\n",
       "      <td>582791</td>\n",
       "      <td>16322</td>\n",
       "      <td>599573</td>\n",
       "    </tr>\n",
       "    <tr>\n",
       "      <th>18102</th>\n",
       "      <td>18103</td>\n",
       "      <td>2021-08-11</td>\n",
       "      <td>8:00 AM</td>\n",
       "      <td>Rajasthan</td>\n",
       "      <td>-</td>\n",
       "      <td>-</td>\n",
       "      <td>944700</td>\n",
       "      <td>8954</td>\n",
       "      <td>953851</td>\n",
       "    </tr>\n",
       "    <tr>\n",
       "      <th>18103</th>\n",
       "      <td>18104</td>\n",
       "      <td>2021-08-11</td>\n",
       "      <td>8:00 AM</td>\n",
       "      <td>Sikkim</td>\n",
       "      <td>-</td>\n",
       "      <td>-</td>\n",
       "      <td>25095</td>\n",
       "      <td>356</td>\n",
       "      <td>28018</td>\n",
       "    </tr>\n",
       "    <tr>\n",
       "      <th>18104</th>\n",
       "      <td>18105</td>\n",
       "      <td>2021-08-11</td>\n",
       "      <td>8:00 AM</td>\n",
       "      <td>Tamil Nadu</td>\n",
       "      <td>-</td>\n",
       "      <td>-</td>\n",
       "      <td>2524400</td>\n",
       "      <td>34367</td>\n",
       "      <td>2579130</td>\n",
       "    </tr>\n",
       "    <tr>\n",
       "      <th>18105</th>\n",
       "      <td>18106</td>\n",
       "      <td>2021-08-11</td>\n",
       "      <td>8:00 AM</td>\n",
       "      <td>Telangana</td>\n",
       "      <td>-</td>\n",
       "      <td>-</td>\n",
       "      <td>638410</td>\n",
       "      <td>3831</td>\n",
       "      <td>650353</td>\n",
       "    </tr>\n",
       "    <tr>\n",
       "      <th>18106</th>\n",
       "      <td>18107</td>\n",
       "      <td>2021-08-11</td>\n",
       "      <td>8:00 AM</td>\n",
       "      <td>Tripura</td>\n",
       "      <td>-</td>\n",
       "      <td>-</td>\n",
       "      <td>77811</td>\n",
       "      <td>773</td>\n",
       "      <td>80660</td>\n",
       "    </tr>\n",
       "    <tr>\n",
       "      <th>18107</th>\n",
       "      <td>18108</td>\n",
       "      <td>2021-08-11</td>\n",
       "      <td>8:00 AM</td>\n",
       "      <td>Uttarakhand</td>\n",
       "      <td>-</td>\n",
       "      <td>-</td>\n",
       "      <td>334650</td>\n",
       "      <td>7368</td>\n",
       "      <td>342462</td>\n",
       "    </tr>\n",
       "    <tr>\n",
       "      <th>18108</th>\n",
       "      <td>18109</td>\n",
       "      <td>2021-08-11</td>\n",
       "      <td>8:00 AM</td>\n",
       "      <td>Uttar Pradesh</td>\n",
       "      <td>-</td>\n",
       "      <td>-</td>\n",
       "      <td>1685492</td>\n",
       "      <td>22775</td>\n",
       "      <td>1708812</td>\n",
       "    </tr>\n",
       "    <tr>\n",
       "      <th>18109</th>\n",
       "      <td>18110</td>\n",
       "      <td>2021-08-11</td>\n",
       "      <td>8:00 AM</td>\n",
       "      <td>West Bengal</td>\n",
       "      <td>-</td>\n",
       "      <td>-</td>\n",
       "      <td>1506532</td>\n",
       "      <td>18252</td>\n",
       "      <td>1534999</td>\n",
       "    </tr>\n",
       "  </tbody>\n",
       "</table>\n",
       "</div>"
      ],
      "text/plain": [
       "         Sno        Date     Time State/UnionTerritory  \\\n",
       "18100  18101  2021-08-11  8:00 AM           Puducherry   \n",
       "18101  18102  2021-08-11  8:00 AM               Punjab   \n",
       "18102  18103  2021-08-11  8:00 AM            Rajasthan   \n",
       "18103  18104  2021-08-11  8:00 AM               Sikkim   \n",
       "18104  18105  2021-08-11  8:00 AM           Tamil Nadu   \n",
       "18105  18106  2021-08-11  8:00 AM            Telangana   \n",
       "18106  18107  2021-08-11  8:00 AM              Tripura   \n",
       "18107  18108  2021-08-11  8:00 AM          Uttarakhand   \n",
       "18108  18109  2021-08-11  8:00 AM        Uttar Pradesh   \n",
       "18109  18110  2021-08-11  8:00 AM          West Bengal   \n",
       "\n",
       "      ConfirmedIndianNational ConfirmedForeignNational    Cured  Deaths  \\\n",
       "18100                       -                        -   119115    1800   \n",
       "18101                       -                        -   582791   16322   \n",
       "18102                       -                        -   944700    8954   \n",
       "18103                       -                        -    25095     356   \n",
       "18104                       -                        -  2524400   34367   \n",
       "18105                       -                        -   638410    3831   \n",
       "18106                       -                        -    77811     773   \n",
       "18107                       -                        -   334650    7368   \n",
       "18108                       -                        -  1685492   22775   \n",
       "18109                       -                        -  1506532   18252   \n",
       "\n",
       "       Confirmed  \n",
       "18100     121766  \n",
       "18101     599573  \n",
       "18102     953851  \n",
       "18103      28018  \n",
       "18104    2579130  \n",
       "18105     650353  \n",
       "18106      80660  \n",
       "18107     342462  \n",
       "18108    1708812  \n",
       "18109    1534999  "
      ]
     },
     "execution_count": 78,
     "metadata": {},
     "output_type": "execute_result"
    }
   ],
   "source": [
    "##last 10 columns\n",
    "covid_df.tail(10)"
   ]
  },
  {
   "cell_type": "code",
   "execution_count": 79,
   "id": "eb8940f2",
   "metadata": {},
   "outputs": [],
   "source": [
    "covid_df.drop(['Sno','Time','ConfirmedIndianNational','ConfirmedForeignNational'],inplace=True,axis=1)"
   ]
  },
  {
   "cell_type": "code",
   "execution_count": 80,
   "id": "32eeaaad",
   "metadata": {},
   "outputs": [
    {
     "data": {
      "text/html": [
       "<div>\n",
       "<style scoped>\n",
       "    .dataframe tbody tr th:only-of-type {\n",
       "        vertical-align: middle;\n",
       "    }\n",
       "\n",
       "    .dataframe tbody tr th {\n",
       "        vertical-align: top;\n",
       "    }\n",
       "\n",
       "    .dataframe thead th {\n",
       "        text-align: right;\n",
       "    }\n",
       "</style>\n",
       "<table border=\"1\" class=\"dataframe\">\n",
       "  <thead>\n",
       "    <tr style=\"text-align: right;\">\n",
       "      <th></th>\n",
       "      <th>Date</th>\n",
       "      <th>State/UnionTerritory</th>\n",
       "      <th>Cured</th>\n",
       "      <th>Deaths</th>\n",
       "      <th>Confirmed</th>\n",
       "    </tr>\n",
       "  </thead>\n",
       "  <tbody>\n",
       "    <tr>\n",
       "      <th>0</th>\n",
       "      <td>2020-01-30</td>\n",
       "      <td>Kerala</td>\n",
       "      <td>0</td>\n",
       "      <td>0</td>\n",
       "      <td>1</td>\n",
       "    </tr>\n",
       "    <tr>\n",
       "      <th>1</th>\n",
       "      <td>2020-01-31</td>\n",
       "      <td>Kerala</td>\n",
       "      <td>0</td>\n",
       "      <td>0</td>\n",
       "      <td>1</td>\n",
       "    </tr>\n",
       "    <tr>\n",
       "      <th>2</th>\n",
       "      <td>2020-02-01</td>\n",
       "      <td>Kerala</td>\n",
       "      <td>0</td>\n",
       "      <td>0</td>\n",
       "      <td>2</td>\n",
       "    </tr>\n",
       "  </tbody>\n",
       "</table>\n",
       "</div>"
      ],
      "text/plain": [
       "         Date State/UnionTerritory  Cured  Deaths  Confirmed\n",
       "0  2020-01-30               Kerala      0       0          1\n",
       "1  2020-01-31               Kerala      0       0          1\n",
       "2  2020-02-01               Kerala      0       0          2"
      ]
     },
     "execution_count": 80,
     "metadata": {},
     "output_type": "execute_result"
    }
   ],
   "source": [
    "covid_df.head(3)"
   ]
  },
  {
   "cell_type": "code",
   "execution_count": 81,
   "id": "a00c6319",
   "metadata": {},
   "outputs": [
    {
     "name": "stdout",
     "output_type": "stream",
     "text": [
      "<class 'pandas.core.frame.DataFrame'>\n",
      "RangeIndex: 18110 entries, 0 to 18109\n",
      "Data columns (total 5 columns):\n",
      " #   Column                Non-Null Count  Dtype \n",
      "---  ------                --------------  ----- \n",
      " 0   Date                  18110 non-null  object\n",
      " 1   State/UnionTerritory  18110 non-null  object\n",
      " 2   Cured                 18110 non-null  int64 \n",
      " 3   Deaths                18110 non-null  int64 \n",
      " 4   Confirmed             18110 non-null  int64 \n",
      "dtypes: int64(3), object(2)\n",
      "memory usage: 707.5+ KB\n"
     ]
    }
   ],
   "source": [
    "covid_df.info()"
   ]
  },
  {
   "cell_type": "code",
   "execution_count": 82,
   "id": "0ab37480",
   "metadata": {},
   "outputs": [
    {
     "data": {
      "text/html": [
       "<div>\n",
       "<style scoped>\n",
       "    .dataframe tbody tr th:only-of-type {\n",
       "        vertical-align: middle;\n",
       "    }\n",
       "\n",
       "    .dataframe tbody tr th {\n",
       "        vertical-align: top;\n",
       "    }\n",
       "\n",
       "    .dataframe thead th {\n",
       "        text-align: right;\n",
       "    }\n",
       "</style>\n",
       "<table border=\"1\" class=\"dataframe\">\n",
       "  <thead>\n",
       "    <tr style=\"text-align: right;\">\n",
       "      <th></th>\n",
       "      <th>Cured</th>\n",
       "      <th>Deaths</th>\n",
       "      <th>Confirmed</th>\n",
       "    </tr>\n",
       "  </thead>\n",
       "  <tbody>\n",
       "    <tr>\n",
       "      <th>count</th>\n",
       "      <td>1.811000e+04</td>\n",
       "      <td>18110.000000</td>\n",
       "      <td>1.811000e+04</td>\n",
       "    </tr>\n",
       "    <tr>\n",
       "      <th>mean</th>\n",
       "      <td>2.786375e+05</td>\n",
       "      <td>4052.402264</td>\n",
       "      <td>3.010314e+05</td>\n",
       "    </tr>\n",
       "    <tr>\n",
       "      <th>std</th>\n",
       "      <td>6.148909e+05</td>\n",
       "      <td>10919.076411</td>\n",
       "      <td>6.561489e+05</td>\n",
       "    </tr>\n",
       "    <tr>\n",
       "      <th>min</th>\n",
       "      <td>0.000000e+00</td>\n",
       "      <td>0.000000</td>\n",
       "      <td>0.000000e+00</td>\n",
       "    </tr>\n",
       "    <tr>\n",
       "      <th>25%</th>\n",
       "      <td>3.360250e+03</td>\n",
       "      <td>32.000000</td>\n",
       "      <td>4.376750e+03</td>\n",
       "    </tr>\n",
       "    <tr>\n",
       "      <th>50%</th>\n",
       "      <td>3.336400e+04</td>\n",
       "      <td>588.000000</td>\n",
       "      <td>3.977350e+04</td>\n",
       "    </tr>\n",
       "    <tr>\n",
       "      <th>75%</th>\n",
       "      <td>2.788698e+05</td>\n",
       "      <td>3643.750000</td>\n",
       "      <td>3.001498e+05</td>\n",
       "    </tr>\n",
       "    <tr>\n",
       "      <th>max</th>\n",
       "      <td>6.159676e+06</td>\n",
       "      <td>134201.000000</td>\n",
       "      <td>6.363442e+06</td>\n",
       "    </tr>\n",
       "  </tbody>\n",
       "</table>\n",
       "</div>"
      ],
      "text/plain": [
       "              Cured         Deaths     Confirmed\n",
       "count  1.811000e+04   18110.000000  1.811000e+04\n",
       "mean   2.786375e+05    4052.402264  3.010314e+05\n",
       "std    6.148909e+05   10919.076411  6.561489e+05\n",
       "min    0.000000e+00       0.000000  0.000000e+00\n",
       "25%    3.360250e+03      32.000000  4.376750e+03\n",
       "50%    3.336400e+04     588.000000  3.977350e+04\n",
       "75%    2.788698e+05    3643.750000  3.001498e+05\n",
       "max    6.159676e+06  134201.000000  6.363442e+06"
      ]
     },
     "execution_count": 82,
     "metadata": {},
     "output_type": "execute_result"
    }
   ],
   "source": [
    "covid_df.describe()"
   ]
  },
  {
   "cell_type": "code",
   "execution_count": 113,
   "id": "af736755",
   "metadata": {},
   "outputs": [],
   "source": [
    "vaccine_df=pd.read_csv('covid_vaccine_statewise.csv')"
   ]
  },
  {
   "cell_type": "code",
   "execution_count": 114,
   "id": "f05205a3",
   "metadata": {},
   "outputs": [
    {
     "data": {
      "text/html": [
       "<div>\n",
       "<style scoped>\n",
       "    .dataframe tbody tr th:only-of-type {\n",
       "        vertical-align: middle;\n",
       "    }\n",
       "\n",
       "    .dataframe tbody tr th {\n",
       "        vertical-align: top;\n",
       "    }\n",
       "\n",
       "    .dataframe thead th {\n",
       "        text-align: right;\n",
       "    }\n",
       "</style>\n",
       "<table border=\"1\" class=\"dataframe\">\n",
       "  <thead>\n",
       "    <tr style=\"text-align: right;\">\n",
       "      <th></th>\n",
       "      <th>Updated On</th>\n",
       "      <th>State</th>\n",
       "      <th>Total Doses Administered</th>\n",
       "      <th>Sessions</th>\n",
       "      <th>Sites</th>\n",
       "      <th>First Dose Administered</th>\n",
       "      <th>Second Dose Administered</th>\n",
       "      <th>Male (Doses Administered)</th>\n",
       "      <th>Female (Doses Administered)</th>\n",
       "      <th>Transgender (Doses Administered)</th>\n",
       "      <th>...</th>\n",
       "      <th>18-44 Years (Doses Administered)</th>\n",
       "      <th>45-60 Years (Doses Administered)</th>\n",
       "      <th>60+ Years (Doses Administered)</th>\n",
       "      <th>18-44 Years(Individuals Vaccinated)</th>\n",
       "      <th>45-60 Years(Individuals Vaccinated)</th>\n",
       "      <th>60+ Years(Individuals Vaccinated)</th>\n",
       "      <th>Male(Individuals Vaccinated)</th>\n",
       "      <th>Female(Individuals Vaccinated)</th>\n",
       "      <th>Transgender(Individuals Vaccinated)</th>\n",
       "      <th>Total Individuals Vaccinated</th>\n",
       "    </tr>\n",
       "  </thead>\n",
       "  <tbody>\n",
       "    <tr>\n",
       "      <th>0</th>\n",
       "      <td>16-01-2021</td>\n",
       "      <td>India</td>\n",
       "      <td>48276.0</td>\n",
       "      <td>3455.0</td>\n",
       "      <td>2957.0</td>\n",
       "      <td>48276.0</td>\n",
       "      <td>0.0</td>\n",
       "      <td>NaN</td>\n",
       "      <td>NaN</td>\n",
       "      <td>NaN</td>\n",
       "      <td>...</td>\n",
       "      <td>NaN</td>\n",
       "      <td>NaN</td>\n",
       "      <td>NaN</td>\n",
       "      <td>NaN</td>\n",
       "      <td>NaN</td>\n",
       "      <td>NaN</td>\n",
       "      <td>23757.0</td>\n",
       "      <td>24517.0</td>\n",
       "      <td>2.0</td>\n",
       "      <td>48276.0</td>\n",
       "    </tr>\n",
       "    <tr>\n",
       "      <th>1</th>\n",
       "      <td>17-01-2021</td>\n",
       "      <td>India</td>\n",
       "      <td>58604.0</td>\n",
       "      <td>8532.0</td>\n",
       "      <td>4954.0</td>\n",
       "      <td>58604.0</td>\n",
       "      <td>0.0</td>\n",
       "      <td>NaN</td>\n",
       "      <td>NaN</td>\n",
       "      <td>NaN</td>\n",
       "      <td>...</td>\n",
       "      <td>NaN</td>\n",
       "      <td>NaN</td>\n",
       "      <td>NaN</td>\n",
       "      <td>NaN</td>\n",
       "      <td>NaN</td>\n",
       "      <td>NaN</td>\n",
       "      <td>27348.0</td>\n",
       "      <td>31252.0</td>\n",
       "      <td>4.0</td>\n",
       "      <td>58604.0</td>\n",
       "    </tr>\n",
       "    <tr>\n",
       "      <th>2</th>\n",
       "      <td>18-01-2021</td>\n",
       "      <td>India</td>\n",
       "      <td>99449.0</td>\n",
       "      <td>13611.0</td>\n",
       "      <td>6583.0</td>\n",
       "      <td>99449.0</td>\n",
       "      <td>0.0</td>\n",
       "      <td>NaN</td>\n",
       "      <td>NaN</td>\n",
       "      <td>NaN</td>\n",
       "      <td>...</td>\n",
       "      <td>NaN</td>\n",
       "      <td>NaN</td>\n",
       "      <td>NaN</td>\n",
       "      <td>NaN</td>\n",
       "      <td>NaN</td>\n",
       "      <td>NaN</td>\n",
       "      <td>41361.0</td>\n",
       "      <td>58083.0</td>\n",
       "      <td>5.0</td>\n",
       "      <td>99449.0</td>\n",
       "    </tr>\n",
       "    <tr>\n",
       "      <th>3</th>\n",
       "      <td>19-01-2021</td>\n",
       "      <td>India</td>\n",
       "      <td>195525.0</td>\n",
       "      <td>17855.0</td>\n",
       "      <td>7951.0</td>\n",
       "      <td>195525.0</td>\n",
       "      <td>0.0</td>\n",
       "      <td>NaN</td>\n",
       "      <td>NaN</td>\n",
       "      <td>NaN</td>\n",
       "      <td>...</td>\n",
       "      <td>NaN</td>\n",
       "      <td>NaN</td>\n",
       "      <td>NaN</td>\n",
       "      <td>NaN</td>\n",
       "      <td>NaN</td>\n",
       "      <td>NaN</td>\n",
       "      <td>81901.0</td>\n",
       "      <td>113613.0</td>\n",
       "      <td>11.0</td>\n",
       "      <td>195525.0</td>\n",
       "    </tr>\n",
       "    <tr>\n",
       "      <th>4</th>\n",
       "      <td>20-01-2021</td>\n",
       "      <td>India</td>\n",
       "      <td>251280.0</td>\n",
       "      <td>25472.0</td>\n",
       "      <td>10504.0</td>\n",
       "      <td>251280.0</td>\n",
       "      <td>0.0</td>\n",
       "      <td>NaN</td>\n",
       "      <td>NaN</td>\n",
       "      <td>NaN</td>\n",
       "      <td>...</td>\n",
       "      <td>NaN</td>\n",
       "      <td>NaN</td>\n",
       "      <td>NaN</td>\n",
       "      <td>NaN</td>\n",
       "      <td>NaN</td>\n",
       "      <td>NaN</td>\n",
       "      <td>98111.0</td>\n",
       "      <td>153145.0</td>\n",
       "      <td>24.0</td>\n",
       "      <td>251280.0</td>\n",
       "    </tr>\n",
       "    <tr>\n",
       "      <th>5</th>\n",
       "      <td>21-01-2021</td>\n",
       "      <td>India</td>\n",
       "      <td>365965.0</td>\n",
       "      <td>32226.0</td>\n",
       "      <td>12600.0</td>\n",
       "      <td>365965.0</td>\n",
       "      <td>0.0</td>\n",
       "      <td>NaN</td>\n",
       "      <td>NaN</td>\n",
       "      <td>NaN</td>\n",
       "      <td>...</td>\n",
       "      <td>NaN</td>\n",
       "      <td>NaN</td>\n",
       "      <td>NaN</td>\n",
       "      <td>NaN</td>\n",
       "      <td>NaN</td>\n",
       "      <td>NaN</td>\n",
       "      <td>132784.0</td>\n",
       "      <td>233143.0</td>\n",
       "      <td>38.0</td>\n",
       "      <td>365965.0</td>\n",
       "    </tr>\n",
       "    <tr>\n",
       "      <th>6</th>\n",
       "      <td>22-01-2021</td>\n",
       "      <td>India</td>\n",
       "      <td>549381.0</td>\n",
       "      <td>36988.0</td>\n",
       "      <td>14115.0</td>\n",
       "      <td>549381.0</td>\n",
       "      <td>0.0</td>\n",
       "      <td>NaN</td>\n",
       "      <td>NaN</td>\n",
       "      <td>NaN</td>\n",
       "      <td>...</td>\n",
       "      <td>NaN</td>\n",
       "      <td>NaN</td>\n",
       "      <td>NaN</td>\n",
       "      <td>NaN</td>\n",
       "      <td>NaN</td>\n",
       "      <td>NaN</td>\n",
       "      <td>193899.0</td>\n",
       "      <td>355402.0</td>\n",
       "      <td>80.0</td>\n",
       "      <td>549381.0</td>\n",
       "    </tr>\n",
       "  </tbody>\n",
       "</table>\n",
       "<p>7 rows × 24 columns</p>\n",
       "</div>"
      ],
      "text/plain": [
       "   Updated On  State  Total Doses Administered  Sessions   Sites   \\\n",
       "0  16-01-2021  India                   48276.0    3455.0   2957.0   \n",
       "1  17-01-2021  India                   58604.0    8532.0   4954.0   \n",
       "2  18-01-2021  India                   99449.0   13611.0   6583.0   \n",
       "3  19-01-2021  India                  195525.0   17855.0   7951.0   \n",
       "4  20-01-2021  India                  251280.0   25472.0  10504.0   \n",
       "5  21-01-2021  India                  365965.0   32226.0  12600.0   \n",
       "6  22-01-2021  India                  549381.0   36988.0  14115.0   \n",
       "\n",
       "   First Dose Administered  Second Dose Administered  \\\n",
       "0                  48276.0                       0.0   \n",
       "1                  58604.0                       0.0   \n",
       "2                  99449.0                       0.0   \n",
       "3                 195525.0                       0.0   \n",
       "4                 251280.0                       0.0   \n",
       "5                 365965.0                       0.0   \n",
       "6                 549381.0                       0.0   \n",
       "\n",
       "   Male (Doses Administered)  Female (Doses Administered)  \\\n",
       "0                        NaN                          NaN   \n",
       "1                        NaN                          NaN   \n",
       "2                        NaN                          NaN   \n",
       "3                        NaN                          NaN   \n",
       "4                        NaN                          NaN   \n",
       "5                        NaN                          NaN   \n",
       "6                        NaN                          NaN   \n",
       "\n",
       "   Transgender (Doses Administered)  ...  18-44 Years (Doses Administered)  \\\n",
       "0                               NaN  ...                               NaN   \n",
       "1                               NaN  ...                               NaN   \n",
       "2                               NaN  ...                               NaN   \n",
       "3                               NaN  ...                               NaN   \n",
       "4                               NaN  ...                               NaN   \n",
       "5                               NaN  ...                               NaN   \n",
       "6                               NaN  ...                               NaN   \n",
       "\n",
       "   45-60 Years (Doses Administered)  60+ Years (Doses Administered)  \\\n",
       "0                               NaN                             NaN   \n",
       "1                               NaN                             NaN   \n",
       "2                               NaN                             NaN   \n",
       "3                               NaN                             NaN   \n",
       "4                               NaN                             NaN   \n",
       "5                               NaN                             NaN   \n",
       "6                               NaN                             NaN   \n",
       "\n",
       "   18-44 Years(Individuals Vaccinated)  45-60 Years(Individuals Vaccinated)  \\\n",
       "0                                  NaN                                  NaN   \n",
       "1                                  NaN                                  NaN   \n",
       "2                                  NaN                                  NaN   \n",
       "3                                  NaN                                  NaN   \n",
       "4                                  NaN                                  NaN   \n",
       "5                                  NaN                                  NaN   \n",
       "6                                  NaN                                  NaN   \n",
       "\n",
       "   60+ Years(Individuals Vaccinated)  Male(Individuals Vaccinated)  \\\n",
       "0                                NaN                       23757.0   \n",
       "1                                NaN                       27348.0   \n",
       "2                                NaN                       41361.0   \n",
       "3                                NaN                       81901.0   \n",
       "4                                NaN                       98111.0   \n",
       "5                                NaN                      132784.0   \n",
       "6                                NaN                      193899.0   \n",
       "\n",
       "   Female(Individuals Vaccinated)  Transgender(Individuals Vaccinated)  \\\n",
       "0                         24517.0                                  2.0   \n",
       "1                         31252.0                                  4.0   \n",
       "2                         58083.0                                  5.0   \n",
       "3                        113613.0                                 11.0   \n",
       "4                        153145.0                                 24.0   \n",
       "5                        233143.0                                 38.0   \n",
       "6                        355402.0                                 80.0   \n",
       "\n",
       "   Total Individuals Vaccinated  \n",
       "0                       48276.0  \n",
       "1                       58604.0  \n",
       "2                       99449.0  \n",
       "3                      195525.0  \n",
       "4                      251280.0  \n",
       "5                      365965.0  \n",
       "6                      549381.0  \n",
       "\n",
       "[7 rows x 24 columns]"
      ]
     },
     "execution_count": 114,
     "metadata": {},
     "output_type": "execute_result"
    }
   ],
   "source": [
    "vaccine_df.head(7)"
   ]
  },
  {
   "cell_type": "code",
   "execution_count": 85,
   "id": "ac2c7cfa",
   "metadata": {},
   "outputs": [],
   "source": [
    "covid_df['Date']=pd.to_datetime(covid_df['Date'],format='%Y-%m-%d')"
   ]
  },
  {
   "cell_type": "code",
   "execution_count": 86,
   "id": "69e4966d",
   "metadata": {},
   "outputs": [],
   "source": [
    "##vaccine_df['Updated On']=pd.to_datetime(vaccine_df['Updated On'],format='%Y-%m-%d')"
   ]
  },
  {
   "cell_type": "code",
   "execution_count": 87,
   "id": "32284ca5",
   "metadata": {},
   "outputs": [
    {
     "data": {
      "text/plain": [
       "Kerala                                      560\n",
       "Delhi                                       528\n",
       "Rajasthan                                   527\n",
       "Uttar Pradesh                               526\n",
       "Haryana                                     526\n",
       "Ladakh                                      523\n",
       "Tamil Nadu                                  523\n",
       "Punjab                                      521\n",
       "Jammu and Kashmir                           521\n",
       "Maharashtra                                 520\n",
       "Karnataka                                   520\n",
       "Andhra Pradesh                              518\n",
       "Uttarakhand                                 515\n",
       "Odisha                                      514\n",
       "Puducherry                                  512\n",
       "West Bengal                                 512\n",
       "Chhattisgarh                                511\n",
       "Chandigarh                                  511\n",
       "Gujarat                                     510\n",
       "Himachal Pradesh                            508\n",
       "Madhya Pradesh                              508\n",
       "Bihar                                       506\n",
       "Manipur                                     506\n",
       "Mizoram                                     505\n",
       "Andaman and Nicobar Islands                 504\n",
       "Goa                                         504\n",
       "Assam                                       498\n",
       "Jharkhand                                   498\n",
       "Arunachal Pradesh                           496\n",
       "Tripura                                     492\n",
       "Meghalaya                                   485\n",
       "Dadra and Nagar Haveli and Daman and Diu    461\n",
       "Nagaland                                    452\n",
       "Sikkim                                      445\n",
       "Telengana                                   426\n",
       "Lakshadweep                                 244\n",
       "Telangana                                   102\n",
       "Cases being reassigned to states             60\n",
       "Unassigned                                    3\n",
       "Dadra and Nagar Haveli                        2\n",
       "Bihar****                                     2\n",
       "Daman & Diu                                   1\n",
       "Madhya Pradesh***                             1\n",
       "Himanchal Pradesh                             1\n",
       "Karanataka                                    1\n",
       "Maharashtra***                                1\n",
       "Name: State/UnionTerritory, dtype: int64"
      ]
     },
     "execution_count": 87,
     "metadata": {},
     "output_type": "execute_result"
    }
   ],
   "source": [
    "covid_df['State/UnionTerritory'].value_counts()"
   ]
  },
  {
   "cell_type": "code",
   "execution_count": 88,
   "id": "fde04e22",
   "metadata": {},
   "outputs": [],
   "source": [
    "##active cases\n",
    "\n",
    "covid_df['Active_case']=covid_df['Confirmed']-covid_df['Cured']-covid_df['Deaths']"
   ]
  },
  {
   "cell_type": "code",
   "execution_count": 89,
   "id": "2f246a21",
   "metadata": {},
   "outputs": [
    {
     "data": {
      "text/html": [
       "<div>\n",
       "<style scoped>\n",
       "    .dataframe tbody tr th:only-of-type {\n",
       "        vertical-align: middle;\n",
       "    }\n",
       "\n",
       "    .dataframe tbody tr th {\n",
       "        vertical-align: top;\n",
       "    }\n",
       "\n",
       "    .dataframe thead th {\n",
       "        text-align: right;\n",
       "    }\n",
       "</style>\n",
       "<table border=\"1\" class=\"dataframe\">\n",
       "  <thead>\n",
       "    <tr style=\"text-align: right;\">\n",
       "      <th></th>\n",
       "      <th>Date</th>\n",
       "      <th>State/UnionTerritory</th>\n",
       "      <th>Cured</th>\n",
       "      <th>Deaths</th>\n",
       "      <th>Confirmed</th>\n",
       "      <th>Active_case</th>\n",
       "    </tr>\n",
       "  </thead>\n",
       "  <tbody>\n",
       "    <tr>\n",
       "      <th>0</th>\n",
       "      <td>2020-01-30</td>\n",
       "      <td>Kerala</td>\n",
       "      <td>0</td>\n",
       "      <td>0</td>\n",
       "      <td>1</td>\n",
       "      <td>1</td>\n",
       "    </tr>\n",
       "    <tr>\n",
       "      <th>1</th>\n",
       "      <td>2020-01-31</td>\n",
       "      <td>Kerala</td>\n",
       "      <td>0</td>\n",
       "      <td>0</td>\n",
       "      <td>1</td>\n",
       "      <td>1</td>\n",
       "    </tr>\n",
       "    <tr>\n",
       "      <th>2</th>\n",
       "      <td>2020-02-01</td>\n",
       "      <td>Kerala</td>\n",
       "      <td>0</td>\n",
       "      <td>0</td>\n",
       "      <td>2</td>\n",
       "      <td>2</td>\n",
       "    </tr>\n",
       "    <tr>\n",
       "      <th>3</th>\n",
       "      <td>2020-02-02</td>\n",
       "      <td>Kerala</td>\n",
       "      <td>0</td>\n",
       "      <td>0</td>\n",
       "      <td>3</td>\n",
       "      <td>3</td>\n",
       "    </tr>\n",
       "    <tr>\n",
       "      <th>4</th>\n",
       "      <td>2020-02-03</td>\n",
       "      <td>Kerala</td>\n",
       "      <td>0</td>\n",
       "      <td>0</td>\n",
       "      <td>3</td>\n",
       "      <td>3</td>\n",
       "    </tr>\n",
       "  </tbody>\n",
       "</table>\n",
       "</div>"
      ],
      "text/plain": [
       "        Date State/UnionTerritory  Cured  Deaths  Confirmed  Active_case\n",
       "0 2020-01-30               Kerala      0       0          1            1\n",
       "1 2020-01-31               Kerala      0       0          1            1\n",
       "2 2020-02-01               Kerala      0       0          2            2\n",
       "3 2020-02-02               Kerala      0       0          3            3\n",
       "4 2020-02-03               Kerala      0       0          3            3"
      ]
     },
     "execution_count": 89,
     "metadata": {},
     "output_type": "execute_result"
    }
   ],
   "source": [
    "covid_df.head()"
   ]
  },
  {
   "cell_type": "code",
   "execution_count": 90,
   "id": "1f6226ea",
   "metadata": {},
   "outputs": [],
   "source": [
    "##pivot tables\n",
    "statewise=pd.pivot_table(covid_df,values=['Confirmed','Cured','Deaths'],\n",
    "                         index='State/UnionTerritory',aggfunc=max)"
   ]
  },
  {
   "cell_type": "code",
   "execution_count": 91,
   "id": "61bb0089",
   "metadata": {},
   "outputs": [
    {
     "data": {
      "text/plain": [
       "(46, 3)"
      ]
     },
     "execution_count": 91,
     "metadata": {},
     "output_type": "execute_result"
    }
   ],
   "source": [
    "statewise.shape"
   ]
  },
  {
   "cell_type": "code",
   "execution_count": 92,
   "id": "bfaf8fbe",
   "metadata": {},
   "outputs": [
    {
     "data": {
      "text/html": [
       "<div>\n",
       "<style scoped>\n",
       "    .dataframe tbody tr th:only-of-type {\n",
       "        vertical-align: middle;\n",
       "    }\n",
       "\n",
       "    .dataframe tbody tr th {\n",
       "        vertical-align: top;\n",
       "    }\n",
       "\n",
       "    .dataframe thead th {\n",
       "        text-align: right;\n",
       "    }\n",
       "</style>\n",
       "<table border=\"1\" class=\"dataframe\">\n",
       "  <thead>\n",
       "    <tr style=\"text-align: right;\">\n",
       "      <th></th>\n",
       "      <th>Confirmed</th>\n",
       "      <th>Cured</th>\n",
       "      <th>Deaths</th>\n",
       "    </tr>\n",
       "    <tr>\n",
       "      <th>State/UnionTerritory</th>\n",
       "      <th></th>\n",
       "      <th></th>\n",
       "      <th></th>\n",
       "    </tr>\n",
       "  </thead>\n",
       "  <tbody>\n",
       "    <tr>\n",
       "      <th>Andaman and Nicobar Islands</th>\n",
       "      <td>7548</td>\n",
       "      <td>7412</td>\n",
       "      <td>129</td>\n",
       "    </tr>\n",
       "    <tr>\n",
       "      <th>Andhra Pradesh</th>\n",
       "      <td>1985182</td>\n",
       "      <td>1952736</td>\n",
       "      <td>13564</td>\n",
       "    </tr>\n",
       "    <tr>\n",
       "      <th>Arunachal Pradesh</th>\n",
       "      <td>50605</td>\n",
       "      <td>47821</td>\n",
       "      <td>248</td>\n",
       "    </tr>\n",
       "  </tbody>\n",
       "</table>\n",
       "</div>"
      ],
      "text/plain": [
       "                             Confirmed    Cured  Deaths\n",
       "State/UnionTerritory                                   \n",
       "Andaman and Nicobar Islands       7548     7412     129\n",
       "Andhra Pradesh                 1985182  1952736   13564\n",
       "Arunachal Pradesh                50605    47821     248"
      ]
     },
     "execution_count": 92,
     "metadata": {},
     "output_type": "execute_result"
    }
   ],
   "source": [
    "statewise.head(3)"
   ]
  },
  {
   "cell_type": "code",
   "execution_count": 93,
   "id": "42d60b6d",
   "metadata": {},
   "outputs": [],
   "source": [
    "statewise['Recovery_Rate']=(statewise['Cured']*100)/statewise['Confirmed']"
   ]
  },
  {
   "cell_type": "code",
   "execution_count": 94,
   "id": "83d8d316",
   "metadata": {},
   "outputs": [],
   "source": [
    "statewise['Mortality_Rate']=(statewise['Deaths']*100)/statewise['Confirmed']"
   ]
  },
  {
   "cell_type": "code",
   "execution_count": 95,
   "id": "f511740b",
   "metadata": {},
   "outputs": [
    {
     "data": {
      "text/html": [
       "<div>\n",
       "<style scoped>\n",
       "    .dataframe tbody tr th:only-of-type {\n",
       "        vertical-align: middle;\n",
       "    }\n",
       "\n",
       "    .dataframe tbody tr th {\n",
       "        vertical-align: top;\n",
       "    }\n",
       "\n",
       "    .dataframe thead th {\n",
       "        text-align: right;\n",
       "    }\n",
       "</style>\n",
       "<table border=\"1\" class=\"dataframe\">\n",
       "  <thead>\n",
       "    <tr style=\"text-align: right;\">\n",
       "      <th></th>\n",
       "      <th>Confirmed</th>\n",
       "      <th>Cured</th>\n",
       "      <th>Deaths</th>\n",
       "      <th>Recovery_Rate</th>\n",
       "      <th>Mortality_Rate</th>\n",
       "    </tr>\n",
       "    <tr>\n",
       "      <th>State/UnionTerritory</th>\n",
       "      <th></th>\n",
       "      <th></th>\n",
       "      <th></th>\n",
       "      <th></th>\n",
       "      <th></th>\n",
       "    </tr>\n",
       "  </thead>\n",
       "  <tbody>\n",
       "    <tr>\n",
       "      <th>Andaman and Nicobar Islands</th>\n",
       "      <td>7548</td>\n",
       "      <td>7412</td>\n",
       "      <td>129</td>\n",
       "      <td>98.198198</td>\n",
       "      <td>1.709062</td>\n",
       "    </tr>\n",
       "    <tr>\n",
       "      <th>Andhra Pradesh</th>\n",
       "      <td>1985182</td>\n",
       "      <td>1952736</td>\n",
       "      <td>13564</td>\n",
       "      <td>98.365591</td>\n",
       "      <td>0.683262</td>\n",
       "    </tr>\n",
       "    <tr>\n",
       "      <th>Arunachal Pradesh</th>\n",
       "      <td>50605</td>\n",
       "      <td>47821</td>\n",
       "      <td>248</td>\n",
       "      <td>94.498567</td>\n",
       "      <td>0.490070</td>\n",
       "    </tr>\n",
       "    <tr>\n",
       "      <th>Assam</th>\n",
       "      <td>576149</td>\n",
       "      <td>559684</td>\n",
       "      <td>5420</td>\n",
       "      <td>97.142232</td>\n",
       "      <td>0.940729</td>\n",
       "    </tr>\n",
       "    <tr>\n",
       "      <th>Bihar</th>\n",
       "      <td>725279</td>\n",
       "      <td>715352</td>\n",
       "      <td>9646</td>\n",
       "      <td>98.631285</td>\n",
       "      <td>1.329971</td>\n",
       "    </tr>\n",
       "  </tbody>\n",
       "</table>\n",
       "</div>"
      ],
      "text/plain": [
       "                             Confirmed    Cured  Deaths  Recovery_Rate  \\\n",
       "State/UnionTerritory                                                     \n",
       "Andaman and Nicobar Islands       7548     7412     129      98.198198   \n",
       "Andhra Pradesh                 1985182  1952736   13564      98.365591   \n",
       "Arunachal Pradesh                50605    47821     248      94.498567   \n",
       "Assam                           576149   559684    5420      97.142232   \n",
       "Bihar                           725279   715352    9646      98.631285   \n",
       "\n",
       "                             Mortality_Rate  \n",
       "State/UnionTerritory                         \n",
       "Andaman and Nicobar Islands        1.709062  \n",
       "Andhra Pradesh                     0.683262  \n",
       "Arunachal Pradesh                  0.490070  \n",
       "Assam                              0.940729  \n",
       "Bihar                              1.329971  "
      ]
     },
     "execution_count": 95,
     "metadata": {},
     "output_type": "execute_result"
    }
   ],
   "source": [
    "statewise.head()"
   ]
  },
  {
   "cell_type": "code",
   "execution_count": 96,
   "id": "cecd546a",
   "metadata": {},
   "outputs": [],
   "source": [
    "##sorting the values in descending order in order of confirmed case\n",
    "\n",
    "statewise=statewise.sort_values(by='Confirmed',ascending=False)"
   ]
  },
  {
   "cell_type": "code",
   "execution_count": 97,
   "id": "804c83e1",
   "metadata": {},
   "outputs": [
    {
     "data": {
      "text/html": [
       "<style type=\"text/css\">\n",
       "#T_98ca7_row0_col0, #T_98ca7_row0_col1, #T_98ca7_row0_col2, #T_98ca7_row20_col4, #T_98ca7_row39_col3 {\n",
       "  background-color: #ffffff;\n",
       "  color: #000000;\n",
       "}\n",
       "#T_98ca7_row0_col3, #T_98ca7_row31_col3 {\n",
       "  background-color: #f0fbf5;\n",
       "  color: #000000;\n",
       "}\n",
       "#T_98ca7_row0_col4 {\n",
       "  background-color: #c3bff2;\n",
       "  color: #000000;\n",
       "}\n",
       "#T_98ca7_row1_col0, #T_98ca7_row3_col3, #T_98ca7_row4_col3, #T_98ca7_row5_col3, #T_98ca7_row24_col3, #T_98ca7_row27_col3, #T_98ca7_row28_col3, #T_98ca7_row29_col3 {\n",
       "  background-color: #f6fcf8;\n",
       "  color: #000000;\n",
       "}\n",
       "#T_98ca7_row1_col1, #T_98ca7_row1_col2, #T_98ca7_row20_col3, #T_98ca7_row26_col3 {\n",
       "  background-color: #f4fcf7;\n",
       "  color: #000000;\n",
       "}\n",
       "#T_98ca7_row1_col3 {\n",
       "  background-color: #effaf4;\n",
       "  color: #000000;\n",
       "}\n",
       "#T_98ca7_row1_col4 {\n",
       "  background-color: #c4bdf1;\n",
       "  color: #000000;\n",
       "}\n",
       "#T_98ca7_row2_col0 {\n",
       "  background-color: #c57a76;\n",
       "  color: #f1f1f1;\n",
       "}\n",
       "#T_98ca7_row2_col1 {\n",
       "  background-color: #bf796d;\n",
       "  color: #f1f1f1;\n",
       "}\n",
       "#T_98ca7_row2_col2, #T_98ca7_row8_col2, #T_98ca7_row35_col4 {\n",
       "  background-color: #1a213e;\n",
       "  color: #f1f1f1;\n",
       "}\n",
       "#T_98ca7_row2_col3, #T_98ca7_row34_col3 {\n",
       "  background-color: #e7f8f1;\n",
       "  color: #000000;\n",
       "}\n",
       "#T_98ca7_row2_col4, #T_98ca7_row9_col2 {\n",
       "  background-color: #17364c;\n",
       "  color: #f1f1f1;\n",
       "}\n",
       "#T_98ca7_row3_col0, #T_98ca7_row4_col1, #T_98ca7_row4_col4, #T_98ca7_row16_col4 {\n",
       "  background-color: #817a37;\n",
       "  color: #f1f1f1;\n",
       "}\n",
       "#T_98ca7_row3_col1, #T_98ca7_row3_col4 {\n",
       "  background-color: #847a38;\n",
       "  color: #f1f1f1;\n",
       "}\n",
       "#T_98ca7_row3_col2, #T_98ca7_row7_col1 {\n",
       "  background-color: #195d48;\n",
       "  color: #f1f1f1;\n",
       "}\n",
       "#T_98ca7_row4_col0 {\n",
       "  background-color: #7e7a36;\n",
       "  color: #f1f1f1;\n",
       "}\n",
       "#T_98ca7_row4_col2 {\n",
       "  background-color: #185b48;\n",
       "  color: #f1f1f1;\n",
       "}\n",
       "#T_98ca7_row5_col0 {\n",
       "  background-color: #577a2f;\n",
       "  color: #f1f1f1;\n",
       "}\n",
       "#T_98ca7_row5_col1 {\n",
       "  background-color: #5a7a2f;\n",
       "  color: #f1f1f1;\n",
       "}\n",
       "#T_98ca7_row5_col2 {\n",
       "  background-color: #16554b;\n",
       "  color: #f1f1f1;\n",
       "}\n",
       "#T_98ca7_row5_col4, #T_98ca7_row7_col4, #T_98ca7_row17_col4 {\n",
       "  background-color: #997944;\n",
       "  color: #f1f1f1;\n",
       "}\n",
       "#T_98ca7_row6_col0 {\n",
       "  background-color: #22693f;\n",
       "  color: #f1f1f1;\n",
       "}\n",
       "#T_98ca7_row6_col1 {\n",
       "  background-color: #256b3d;\n",
       "  color: #f1f1f1;\n",
       "}\n",
       "#T_98ca7_row6_col2, #T_98ca7_row10_col2 {\n",
       "  background-color: #1a142f;\n",
       "  color: #f1f1f1;\n",
       "}\n",
       "#T_98ca7_row6_col3, #T_98ca7_row7_col3, #T_98ca7_row10_col3, #T_98ca7_row13_col3, #T_98ca7_row14_col3, #T_98ca7_row15_col3, #T_98ca7_row16_col3, #T_98ca7_row17_col3, #T_98ca7_row23_col3, #T_98ca7_row33_col3, #T_98ca7_row38_col3 {\n",
       "  background-color: #fafdfb;\n",
       "  color: #000000;\n",
       "}\n",
       "#T_98ca7_row6_col4 {\n",
       "  background-color: #16534c;\n",
       "  color: #f1f1f1;\n",
       "}\n",
       "#T_98ca7_row7_col0 {\n",
       "  background-color: #175a49;\n",
       "  color: #f1f1f1;\n",
       "}\n",
       "#T_98ca7_row7_col2 {\n",
       "  background-color: #182f49;\n",
       "  color: #f1f1f1;\n",
       "}\n",
       "#T_98ca7_row8_col0 {\n",
       "  background-color: #154e4d;\n",
       "  color: #f1f1f1;\n",
       "}\n",
       "#T_98ca7_row8_col1, #T_98ca7_row11_col4 {\n",
       "  background-color: #15504d;\n",
       "  color: #f1f1f1;\n",
       "}\n",
       "#T_98ca7_row8_col3, #T_98ca7_row9_col3, #T_98ca7_row11_col3, #T_98ca7_row18_col3, #T_98ca7_row19_col3, #T_98ca7_row25_col3, #T_98ca7_row43_col3 {\n",
       "  background-color: #f8fdfa;\n",
       "  color: #000000;\n",
       "}\n",
       "#T_98ca7_row8_col4 {\n",
       "  background-color: #6f7b31;\n",
       "  color: #f1f1f1;\n",
       "}\n",
       "#T_98ca7_row9_col0 {\n",
       "  background-color: #15474e;\n",
       "  color: #f1f1f1;\n",
       "}\n",
       "#T_98ca7_row9_col1 {\n",
       "  background-color: #15494e;\n",
       "  color: #f1f1f1;\n",
       "}\n",
       "#T_98ca7_row9_col4 {\n",
       "  background-color: #d588b5;\n",
       "  color: #f1f1f1;\n",
       "}\n",
       "#T_98ca7_row10_col0, #T_98ca7_row11_col1 {\n",
       "  background-color: #192a46;\n",
       "  color: #f1f1f1;\n",
       "}\n",
       "#T_98ca7_row10_col1 {\n",
       "  background-color: #192c47;\n",
       "  color: #f1f1f1;\n",
       "}\n",
       "#T_98ca7_row10_col4 {\n",
       "  background-color: #9c7946;\n",
       "  color: #f1f1f1;\n",
       "}\n",
       "#T_98ca7_row11_col0, #T_98ca7_row12_col1 {\n",
       "  background-color: #192845;\n",
       "  color: #f1f1f1;\n",
       "}\n",
       "#T_98ca7_row11_col2, #T_98ca7_row25_col0 {\n",
       "  background-color: #110815;\n",
       "  color: #f1f1f1;\n",
       "}\n",
       "#T_98ca7_row12_col0 {\n",
       "  background-color: #1a2744;\n",
       "  color: #f1f1f1;\n",
       "}\n",
       "#T_98ca7_row12_col2, #T_98ca7_row22_col0 {\n",
       "  background-color: #160c1f;\n",
       "  color: #f1f1f1;\n",
       "}\n",
       "#T_98ca7_row12_col3, #T_98ca7_row40_col3, #T_98ca7_row41_col3 {\n",
       "  background-color: #fbfefc;\n",
       "  color: #000000;\n",
       "}\n",
       "#T_98ca7_row12_col4, #T_98ca7_row21_col4 {\n",
       "  background-color: #317236;\n",
       "  color: #f1f1f1;\n",
       "}\n",
       "#T_98ca7_row13_col0, #T_98ca7_row13_col1 {\n",
       "  background-color: #1b1f3d;\n",
       "  color: #f1f1f1;\n",
       "}\n",
       "#T_98ca7_row13_col2 {\n",
       "  background-color: #170e23;\n",
       "  color: #f1f1f1;\n",
       "}\n",
       "#T_98ca7_row13_col4 {\n",
       "  background-color: #787b34;\n",
       "  color: #f1f1f1;\n",
       "}\n",
       "#T_98ca7_row14_col0, #T_98ca7_row15_col0, #T_98ca7_row16_col1, #T_98ca7_row20_col2 {\n",
       "  background-color: #1b1c3a;\n",
       "  color: #f1f1f1;\n",
       "}\n",
       "#T_98ca7_row14_col1, #T_98ca7_row15_col1 {\n",
       "  background-color: #1b1e3b;\n",
       "  color: #f1f1f1;\n",
       "}\n",
       "#T_98ca7_row14_col2, #T_98ca7_row15_col2 {\n",
       "  background-color: #180f25;\n",
       "  color: #f1f1f1;\n",
       "}\n",
       "#T_98ca7_row14_col4, #T_98ca7_row15_col4, #T_98ca7_row18_col4 {\n",
       "  background-color: #967a42;\n",
       "  color: #f1f1f1;\n",
       "}\n",
       "#T_98ca7_row16_col0 {\n",
       "  background-color: #1b1b38;\n",
       "  color: #f1f1f1;\n",
       "}\n",
       "#T_98ca7_row16_col2, #T_98ca7_row17_col2, #T_98ca7_row18_col2 {\n",
       "  background-color: #160d21;\n",
       "  color: #f1f1f1;\n",
       "}\n",
       "#T_98ca7_row17_col0, #T_98ca7_row17_col1, #T_98ca7_row18_col1 {\n",
       "  background-color: #1b1a36;\n",
       "  color: #f1f1f1;\n",
       "}\n",
       "#T_98ca7_row18_col0 {\n",
       "  background-color: #1a1835;\n",
       "  color: #f1f1f1;\n",
       "}\n",
       "#T_98ca7_row19_col0, #T_98ca7_row19_col1 {\n",
       "  background-color: #1a1631;\n",
       "  color: #f1f1f1;\n",
       "}\n",
       "#T_98ca7_row19_col2 {\n",
       "  background-color: #0b040c;\n",
       "  color: #f1f1f1;\n",
       "}\n",
       "#T_98ca7_row19_col4 {\n",
       "  background-color: #15444f;\n",
       "  color: #f1f1f1;\n",
       "}\n",
       "#T_98ca7_row20_col0, #T_98ca7_row20_col1 {\n",
       "  background-color: #19132d;\n",
       "  color: #f1f1f1;\n",
       "}\n",
       "#T_98ca7_row21_col0, #T_98ca7_row21_col1 {\n",
       "  background-color: #19122b;\n",
       "  color: #f1f1f1;\n",
       "}\n",
       "#T_98ca7_row21_col2 {\n",
       "  background-color: #0f0611;\n",
       "  color: #f1f1f1;\n",
       "}\n",
       "#T_98ca7_row21_col3 {\n",
       "  background-color: #f2fbf6;\n",
       "  color: #000000;\n",
       "}\n",
       "#T_98ca7_row22_col1 {\n",
       "  background-color: #140a1b;\n",
       "  color: #f1f1f1;\n",
       "}\n",
       "#T_98ca7_row22_col2, #T_98ca7_row29_col0, #T_98ca7_row29_col1, #T_98ca7_row30_col0, #T_98ca7_row30_col1 {\n",
       "  background-color: #070206;\n",
       "  color: #f1f1f1;\n",
       "}\n",
       "#T_98ca7_row22_col3 {\n",
       "  background-color: #c2d2f3;\n",
       "  color: #000000;\n",
       "}\n",
       "#T_98ca7_row22_col4 {\n",
       "  background-color: #16394d;\n",
       "  color: #f1f1f1;\n",
       "}\n",
       "#T_98ca7_row23_col0, #T_98ca7_row24_col0, #T_98ca7_row24_col1, #T_98ca7_row25_col1 {\n",
       "  background-color: #120817;\n",
       "  color: #f1f1f1;\n",
       "}\n",
       "#T_98ca7_row23_col1, #T_98ca7_row24_col2 {\n",
       "  background-color: #130919;\n",
       "  color: #f1f1f1;\n",
       "}\n",
       "#T_98ca7_row23_col2 {\n",
       "  background-color: #0e050f;\n",
       "  color: #f1f1f1;\n",
       "}\n",
       "#T_98ca7_row23_col4 {\n",
       "  background-color: #b97964;\n",
       "  color: #f1f1f1;\n",
       "}\n",
       "#T_98ca7_row24_col4 {\n",
       "  background-color: #c2c6f3;\n",
       "  color: #000000;\n",
       "}\n",
       "#T_98ca7_row25_col2, #T_98ca7_row26_col0, #T_98ca7_row26_col1, #T_98ca7_row27_col0, #T_98ca7_row27_col1 {\n",
       "  background-color: #0c050e;\n",
       "  color: #f1f1f1;\n",
       "}\n",
       "#T_98ca7_row25_col4 {\n",
       "  background-color: #9f7948;\n",
       "  color: #f1f1f1;\n",
       "}\n",
       "#T_98ca7_row26_col2, #T_98ca7_row27_col2, #T_98ca7_row28_col0, #T_98ca7_row28_col1, #T_98ca7_row28_col2 {\n",
       "  background-color: #0a030a;\n",
       "  color: #f1f1f1;\n",
       "}\n",
       "#T_98ca7_row26_col4, #T_98ca7_row32_col4 {\n",
       "  background-color: #d383a6;\n",
       "  color: #f1f1f1;\n",
       "}\n",
       "#T_98ca7_row27_col4 {\n",
       "  background-color: #d485ac;\n",
       "  color: #f1f1f1;\n",
       "}\n",
       "#T_98ca7_row28_col4 {\n",
       "  background-color: #d392cb;\n",
       "  color: #f1f1f1;\n",
       "}\n",
       "#T_98ca7_row29_col2, #T_98ca7_row30_col2, #T_98ca7_row31_col0, #T_98ca7_row31_col1, #T_98ca7_row39_col4, #T_98ca7_row40_col4 {\n",
       "  background-color: #050205;\n",
       "  color: #f1f1f1;\n",
       "}\n",
       "#T_98ca7_row29_col4 {\n",
       "  background-color: #bc7967;\n",
       "  color: #f1f1f1;\n",
       "}\n",
       "#T_98ca7_row30_col3, #T_98ca7_row32_col3 {\n",
       "  background-color: #dbf3ef;\n",
       "  color: #000000;\n",
       "}\n",
       "#T_98ca7_row30_col4 {\n",
       "  background-color: #ca7c83;\n",
       "  color: #f1f1f1;\n",
       "}\n",
       "#T_98ca7_row31_col2, #T_98ca7_row33_col2, #T_98ca7_row34_col1, #T_98ca7_row35_col0, #T_98ca7_row35_col1, #T_98ca7_row36_col0, #T_98ca7_row36_col1, #T_98ca7_row36_col2, #T_98ca7_row37_col0, #T_98ca7_row37_col1 {\n",
       "  background-color: #020102;\n",
       "  color: #f1f1f1;\n",
       "}\n",
       "#T_98ca7_row31_col4 {\n",
       "  background-color: #357435;\n",
       "  color: #f1f1f1;\n",
       "}\n",
       "#T_98ca7_row32_col0, #T_98ca7_row32_col1, #T_98ca7_row32_col2, #T_98ca7_row33_col0, #T_98ca7_row33_col1, #T_98ca7_row34_col0 {\n",
       "  background-color: #030103;\n",
       "  color: #f1f1f1;\n",
       "}\n",
       "#T_98ca7_row33_col4 {\n",
       "  background-color: #937a40;\n",
       "  color: #f1f1f1;\n",
       "}\n",
       "#T_98ca7_row34_col2, #T_98ca7_row35_col2, #T_98ca7_row37_col2, #T_98ca7_row38_col0, #T_98ca7_row38_col1, #T_98ca7_row38_col2, #T_98ca7_row39_col0, #T_98ca7_row39_col1, #T_98ca7_row39_col2, #T_98ca7_row40_col0, #T_98ca7_row40_col1, #T_98ca7_row40_col2, #T_98ca7_row41_col0, #T_98ca7_row41_col1, #T_98ca7_row41_col2, #T_98ca7_row42_col0, #T_98ca7_row42_col1, #T_98ca7_row42_col2, #T_98ca7_row42_col3, #T_98ca7_row42_col4, #T_98ca7_row43_col0, #T_98ca7_row43_col1, #T_98ca7_row43_col2, #T_98ca7_row44_col0, #T_98ca7_row44_col1, #T_98ca7_row44_col2, #T_98ca7_row44_col3, #T_98ca7_row44_col4, #T_98ca7_row45_col0, #T_98ca7_row45_col1, #T_98ca7_row45_col2, #T_98ca7_row45_col3, #T_98ca7_row45_col4 {\n",
       "  background-color: #000000;\n",
       "  color: #f1f1f1;\n",
       "}\n",
       "#T_98ca7_row34_col4, #T_98ca7_row41_col4 {\n",
       "  background-color: #17344c;\n",
       "  color: #f1f1f1;\n",
       "}\n",
       "#T_98ca7_row35_col3 {\n",
       "  background-color: #caa9e7;\n",
       "  color: #000000;\n",
       "}\n",
       "#T_98ca7_row36_col3 {\n",
       "  background-color: #e0f5f0;\n",
       "  color: #000000;\n",
       "}\n",
       "#T_98ca7_row36_col4 {\n",
       "  background-color: #c8b1ec;\n",
       "  color: #000000;\n",
       "}\n",
       "#T_98ca7_row37_col3 {\n",
       "  background-color: #d1edef;\n",
       "  color: #000000;\n",
       "}\n",
       "#T_98ca7_row37_col4 {\n",
       "  background-color: #877a3a;\n",
       "  color: #f1f1f1;\n",
       "}\n",
       "#T_98ca7_row38_col4 {\n",
       "  background-color: #417731;\n",
       "  color: #f1f1f1;\n",
       "}\n",
       "#T_98ca7_row43_col4 {\n",
       "  background-color: #d484a9;\n",
       "  color: #f1f1f1;\n",
       "}\n",
       "</style>\n",
       "<table id=\"T_98ca7\">\n",
       "  <thead>\n",
       "    <tr>\n",
       "      <th class=\"blank level0\" >&nbsp;</th>\n",
       "      <th id=\"T_98ca7_level0_col0\" class=\"col_heading level0 col0\" >Confirmed</th>\n",
       "      <th id=\"T_98ca7_level0_col1\" class=\"col_heading level0 col1\" >Cured</th>\n",
       "      <th id=\"T_98ca7_level0_col2\" class=\"col_heading level0 col2\" >Deaths</th>\n",
       "      <th id=\"T_98ca7_level0_col3\" class=\"col_heading level0 col3\" >Recovery_Rate</th>\n",
       "      <th id=\"T_98ca7_level0_col4\" class=\"col_heading level0 col4\" >Mortality_Rate</th>\n",
       "    </tr>\n",
       "    <tr>\n",
       "      <th class=\"index_name level0\" >State/UnionTerritory</th>\n",
       "      <th class=\"blank col0\" >&nbsp;</th>\n",
       "      <th class=\"blank col1\" >&nbsp;</th>\n",
       "      <th class=\"blank col2\" >&nbsp;</th>\n",
       "      <th class=\"blank col3\" >&nbsp;</th>\n",
       "      <th class=\"blank col4\" >&nbsp;</th>\n",
       "    </tr>\n",
       "  </thead>\n",
       "  <tbody>\n",
       "    <tr>\n",
       "      <th id=\"T_98ca7_level0_row0\" class=\"row_heading level0 row0\" >Maharashtra</th>\n",
       "      <td id=\"T_98ca7_row0_col0\" class=\"data row0 col0\" >6363442</td>\n",
       "      <td id=\"T_98ca7_row0_col1\" class=\"data row0 col1\" >6159676</td>\n",
       "      <td id=\"T_98ca7_row0_col2\" class=\"data row0 col2\" >134201</td>\n",
       "      <td id=\"T_98ca7_row0_col3\" class=\"data row0 col3\" >96.797865</td>\n",
       "      <td id=\"T_98ca7_row0_col4\" class=\"data row0 col4\" >2.108937</td>\n",
       "    </tr>\n",
       "    <tr>\n",
       "      <th id=\"T_98ca7_level0_row1\" class=\"row_heading level0 row1\" >Maharashtra***</th>\n",
       "      <td id=\"T_98ca7_row1_col0\" class=\"data row1 col0\" >6229596</td>\n",
       "      <td id=\"T_98ca7_row1_col1\" class=\"data row1 col1\" >6000911</td>\n",
       "      <td id=\"T_98ca7_row1_col2\" class=\"data row1 col2\" >130753</td>\n",
       "      <td id=\"T_98ca7_row1_col3\" class=\"data row1 col3\" >96.329056</td>\n",
       "      <td id=\"T_98ca7_row1_col4\" class=\"data row1 col4\" >2.098900</td>\n",
       "    </tr>\n",
       "    <tr>\n",
       "      <th id=\"T_98ca7_level0_row2\" class=\"row_heading level0 row2\" >Kerala</th>\n",
       "      <td id=\"T_98ca7_row2_col0\" class=\"data row2 col0\" >3586693</td>\n",
       "      <td id=\"T_98ca7_row2_col1\" class=\"data row2 col1\" >3396184</td>\n",
       "      <td id=\"T_98ca7_row2_col2\" class=\"data row2 col2\" >18004</td>\n",
       "      <td id=\"T_98ca7_row2_col3\" class=\"data row2 col3\" >94.688450</td>\n",
       "      <td id=\"T_98ca7_row2_col4\" class=\"data row2 col4\" >0.501967</td>\n",
       "    </tr>\n",
       "    <tr>\n",
       "      <th id=\"T_98ca7_level0_row3\" class=\"row_heading level0 row3\" >Karnataka</th>\n",
       "      <td id=\"T_98ca7_row3_col0\" class=\"data row3 col0\" >2921049</td>\n",
       "      <td id=\"T_98ca7_row3_col1\" class=\"data row3 col1\" >2861499</td>\n",
       "      <td id=\"T_98ca7_row3_col2\" class=\"data row3 col2\" >36848</td>\n",
       "      <td id=\"T_98ca7_row3_col3\" class=\"data row3 col3\" >97.961349</td>\n",
       "      <td id=\"T_98ca7_row3_col4\" class=\"data row3 col4\" >1.261465</td>\n",
       "    </tr>\n",
       "    <tr>\n",
       "      <th id=\"T_98ca7_level0_row4\" class=\"row_heading level0 row4\" >Karanataka</th>\n",
       "      <td id=\"T_98ca7_row4_col0\" class=\"data row4 col0\" >2885238</td>\n",
       "      <td id=\"T_98ca7_row4_col1\" class=\"data row4 col1\" >2821491</td>\n",
       "      <td id=\"T_98ca7_row4_col2\" class=\"data row4 col2\" >36197</td>\n",
       "      <td id=\"T_98ca7_row4_col3\" class=\"data row4 col3\" >97.790581</td>\n",
       "      <td id=\"T_98ca7_row4_col4\" class=\"data row4 col4\" >1.254559</td>\n",
       "    </tr>\n",
       "    <tr>\n",
       "      <th id=\"T_98ca7_level0_row5\" class=\"row_heading level0 row5\" >Tamil Nadu</th>\n",
       "      <td id=\"T_98ca7_row5_col0\" class=\"data row5 col0\" >2579130</td>\n",
       "      <td id=\"T_98ca7_row5_col1\" class=\"data row5 col1\" >2524400</td>\n",
       "      <td id=\"T_98ca7_row5_col2\" class=\"data row5 col2\" >34367</td>\n",
       "      <td id=\"T_98ca7_row5_col3\" class=\"data row5 col3\" >97.877967</td>\n",
       "      <td id=\"T_98ca7_row5_col4\" class=\"data row5 col4\" >1.332504</td>\n",
       "    </tr>\n",
       "    <tr>\n",
       "      <th id=\"T_98ca7_level0_row6\" class=\"row_heading level0 row6\" >Andhra Pradesh</th>\n",
       "      <td id=\"T_98ca7_row6_col0\" class=\"data row6 col0\" >1985182</td>\n",
       "      <td id=\"T_98ca7_row6_col1\" class=\"data row6 col1\" >1952736</td>\n",
       "      <td id=\"T_98ca7_row6_col2\" class=\"data row6 col2\" >13564</td>\n",
       "      <td id=\"T_98ca7_row6_col3\" class=\"data row6 col3\" >98.365591</td>\n",
       "      <td id=\"T_98ca7_row6_col4\" class=\"data row6 col4\" >0.683262</td>\n",
       "    </tr>\n",
       "    <tr>\n",
       "      <th id=\"T_98ca7_level0_row7\" class=\"row_heading level0 row7\" >Uttar Pradesh</th>\n",
       "      <td id=\"T_98ca7_row7_col0\" class=\"data row7 col0\" >1708812</td>\n",
       "      <td id=\"T_98ca7_row7_col1\" class=\"data row7 col1\" >1685492</td>\n",
       "      <td id=\"T_98ca7_row7_col2\" class=\"data row7 col2\" >22775</td>\n",
       "      <td id=\"T_98ca7_row7_col3\" class=\"data row7 col3\" >98.635309</td>\n",
       "      <td id=\"T_98ca7_row7_col4\" class=\"data row7 col4\" >1.332797</td>\n",
       "    </tr>\n",
       "    <tr>\n",
       "      <th id=\"T_98ca7_level0_row8\" class=\"row_heading level0 row8\" >West Bengal</th>\n",
       "      <td id=\"T_98ca7_row8_col0\" class=\"data row8 col0\" >1534999</td>\n",
       "      <td id=\"T_98ca7_row8_col1\" class=\"data row8 col1\" >1506532</td>\n",
       "      <td id=\"T_98ca7_row8_col2\" class=\"data row8 col2\" >18252</td>\n",
       "      <td id=\"T_98ca7_row8_col3\" class=\"data row8 col3\" >98.145471</td>\n",
       "      <td id=\"T_98ca7_row8_col4\" class=\"data row8 col4\" >1.189056</td>\n",
       "    </tr>\n",
       "    <tr>\n",
       "      <th id=\"T_98ca7_level0_row9\" class=\"row_heading level0 row9\" >Delhi</th>\n",
       "      <td id=\"T_98ca7_row9_col0\" class=\"data row9 col0\" >1436852</td>\n",
       "      <td id=\"T_98ca7_row9_col1\" class=\"data row9 col1\" >1411280</td>\n",
       "      <td id=\"T_98ca7_row9_col2\" class=\"data row9 col2\" >25068</td>\n",
       "      <td id=\"T_98ca7_row9_col3\" class=\"data row9 col3\" >98.220276</td>\n",
       "      <td id=\"T_98ca7_row9_col4\" class=\"data row9 col4\" >1.744647</td>\n",
       "    </tr>\n",
       "    <tr>\n",
       "      <th id=\"T_98ca7_level0_row10\" class=\"row_heading level0 row10\" >Chhattisgarh</th>\n",
       "      <td id=\"T_98ca7_row10_col0\" class=\"data row10 col0\" >1003356</td>\n",
       "      <td id=\"T_98ca7_row10_col1\" class=\"data row10 col1\" >988189</td>\n",
       "      <td id=\"T_98ca7_row10_col2\" class=\"data row10 col2\" >13544</td>\n",
       "      <td id=\"T_98ca7_row10_col3\" class=\"data row10 col3\" >98.488373</td>\n",
       "      <td id=\"T_98ca7_row10_col4\" class=\"data row10 col4\" >1.349870</td>\n",
       "    </tr>\n",
       "    <tr>\n",
       "      <th id=\"T_98ca7_level0_row11\" class=\"row_heading level0 row11\" >Odisha</th>\n",
       "      <td id=\"T_98ca7_row11_col0\" class=\"data row11 col0\" >988997</td>\n",
       "      <td id=\"T_98ca7_row11_col1\" class=\"data row11 col1\" >972710</td>\n",
       "      <td id=\"T_98ca7_row11_col2\" class=\"data row11 col2\" >6565</td>\n",
       "      <td id=\"T_98ca7_row11_col3\" class=\"data row11 col3\" >98.353180</td>\n",
       "      <td id=\"T_98ca7_row11_col4\" class=\"data row11 col4\" >0.663804</td>\n",
       "    </tr>\n",
       "    <tr>\n",
       "      <th id=\"T_98ca7_level0_row12\" class=\"row_heading level0 row12\" >Rajasthan</th>\n",
       "      <td id=\"T_98ca7_row12_col0\" class=\"data row12 col0\" >953851</td>\n",
       "      <td id=\"T_98ca7_row12_col1\" class=\"data row12 col1\" >944700</td>\n",
       "      <td id=\"T_98ca7_row12_col2\" class=\"data row12 col2\" >8954</td>\n",
       "      <td id=\"T_98ca7_row12_col3\" class=\"data row12 col3\" >99.040626</td>\n",
       "      <td id=\"T_98ca7_row12_col4\" class=\"data row12 col4\" >0.938721</td>\n",
       "    </tr>\n",
       "    <tr>\n",
       "      <th id=\"T_98ca7_level0_row13\" class=\"row_heading level0 row13\" >Gujarat</th>\n",
       "      <td id=\"T_98ca7_row13_col0\" class=\"data row13 col0\" >825085</td>\n",
       "      <td id=\"T_98ca7_row13_col1\" class=\"data row13 col1\" >814802</td>\n",
       "      <td id=\"T_98ca7_row13_col2\" class=\"data row13 col2\" >10077</td>\n",
       "      <td id=\"T_98ca7_row13_col3\" class=\"data row13 col3\" >98.753704</td>\n",
       "      <td id=\"T_98ca7_row13_col4\" class=\"data row13 col4\" >1.221329</td>\n",
       "    </tr>\n",
       "    <tr>\n",
       "      <th id=\"T_98ca7_level0_row14\" class=\"row_heading level0 row14\" >Madhya Pradesh</th>\n",
       "      <td id=\"T_98ca7_row14_col0\" class=\"data row14 col0\" >791980</td>\n",
       "      <td id=\"T_98ca7_row14_col1\" class=\"data row14 col1\" >781330</td>\n",
       "      <td id=\"T_98ca7_row14_col2\" class=\"data row14 col2\" >10514</td>\n",
       "      <td id=\"T_98ca7_row14_col3\" class=\"data row14 col3\" >98.655269</td>\n",
       "      <td id=\"T_98ca7_row14_col4\" class=\"data row14 col4\" >1.327559</td>\n",
       "    </tr>\n",
       "    <tr>\n",
       "      <th id=\"T_98ca7_level0_row15\" class=\"row_heading level0 row15\" >Madhya Pradesh***</th>\n",
       "      <td id=\"T_98ca7_row15_col0\" class=\"data row15 col0\" >791656</td>\n",
       "      <td id=\"T_98ca7_row15_col1\" class=\"data row15 col1\" >780735</td>\n",
       "      <td id=\"T_98ca7_row15_col2\" class=\"data row15 col2\" >10506</td>\n",
       "      <td id=\"T_98ca7_row15_col3\" class=\"data row15 col3\" >98.620487</td>\n",
       "      <td id=\"T_98ca7_row15_col4\" class=\"data row15 col4\" >1.327092</td>\n",
       "    </tr>\n",
       "    <tr>\n",
       "      <th id=\"T_98ca7_level0_row16\" class=\"row_heading level0 row16\" >Haryana</th>\n",
       "      <td id=\"T_98ca7_row16_col0\" class=\"data row16 col0\" >770114</td>\n",
       "      <td id=\"T_98ca7_row16_col1\" class=\"data row16 col1\" >759790</td>\n",
       "      <td id=\"T_98ca7_row16_col2\" class=\"data row16 col2\" >9652</td>\n",
       "      <td id=\"T_98ca7_row16_col3\" class=\"data row16 col3\" >98.659419</td>\n",
       "      <td id=\"T_98ca7_row16_col4\" class=\"data row16 col4\" >1.253321</td>\n",
       "    </tr>\n",
       "    <tr>\n",
       "      <th id=\"T_98ca7_level0_row17\" class=\"row_heading level0 row17\" >Bihar</th>\n",
       "      <td id=\"T_98ca7_row17_col0\" class=\"data row17 col0\" >725279</td>\n",
       "      <td id=\"T_98ca7_row17_col1\" class=\"data row17 col1\" >715352</td>\n",
       "      <td id=\"T_98ca7_row17_col2\" class=\"data row17 col2\" >9646</td>\n",
       "      <td id=\"T_98ca7_row17_col3\" class=\"data row17 col3\" >98.631285</td>\n",
       "      <td id=\"T_98ca7_row17_col4\" class=\"data row17 col4\" >1.329971</td>\n",
       "    </tr>\n",
       "    <tr>\n",
       "      <th id=\"T_98ca7_level0_row18\" class=\"row_heading level0 row18\" >Bihar****</th>\n",
       "      <td id=\"T_98ca7_row18_col0\" class=\"data row18 col0\" >715730</td>\n",
       "      <td id=\"T_98ca7_row18_col1\" class=\"data row18 col1\" >701234</td>\n",
       "      <td id=\"T_98ca7_row18_col2\" class=\"data row18 col2\" >9452</td>\n",
       "      <td id=\"T_98ca7_row18_col3\" class=\"data row18 col3\" >97.974655</td>\n",
       "      <td id=\"T_98ca7_row18_col4\" class=\"data row18 col4\" >1.320610</td>\n",
       "    </tr>\n",
       "    <tr>\n",
       "      <th id=\"T_98ca7_level0_row19\" class=\"row_heading level0 row19\" >Telangana</th>\n",
       "      <td id=\"T_98ca7_row19_col0\" class=\"data row19 col0\" >650353</td>\n",
       "      <td id=\"T_98ca7_row19_col1\" class=\"data row19 col1\" >638410</td>\n",
       "      <td id=\"T_98ca7_row19_col2\" class=\"data row19 col2\" >3831</td>\n",
       "      <td id=\"T_98ca7_row19_col3\" class=\"data row19 col3\" >98.163613</td>\n",
       "      <td id=\"T_98ca7_row19_col4\" class=\"data row19 col4\" >0.589065</td>\n",
       "    </tr>\n",
       "    <tr>\n",
       "      <th id=\"T_98ca7_level0_row20\" class=\"row_heading level0 row20\" >Punjab</th>\n",
       "      <td id=\"T_98ca7_row20_col0\" class=\"data row20 col0\" >599573</td>\n",
       "      <td id=\"T_98ca7_row20_col1\" class=\"data row20 col1\" >582791</td>\n",
       "      <td id=\"T_98ca7_row20_col2\" class=\"data row20 col2\" >16322</td>\n",
       "      <td id=\"T_98ca7_row20_col3\" class=\"data row20 col3\" >97.201008</td>\n",
       "      <td id=\"T_98ca7_row20_col4\" class=\"data row20 col4\" >2.722271</td>\n",
       "    </tr>\n",
       "    <tr>\n",
       "      <th id=\"T_98ca7_level0_row21\" class=\"row_heading level0 row21\" >Assam</th>\n",
       "      <td id=\"T_98ca7_row21_col0\" class=\"data row21 col0\" >576149</td>\n",
       "      <td id=\"T_98ca7_row21_col1\" class=\"data row21 col1\" >559684</td>\n",
       "      <td id=\"T_98ca7_row21_col2\" class=\"data row21 col2\" >5420</td>\n",
       "      <td id=\"T_98ca7_row21_col3\" class=\"data row21 col3\" >97.142232</td>\n",
       "      <td id=\"T_98ca7_row21_col4\" class=\"data row21 col4\" >0.940729</td>\n",
       "    </tr>\n",
       "    <tr>\n",
       "      <th id=\"T_98ca7_level0_row22\" class=\"row_heading level0 row22\" >Telengana</th>\n",
       "      <td id=\"T_98ca7_row22_col0\" class=\"data row22 col0\" >443360</td>\n",
       "      <td id=\"T_98ca7_row22_col1\" class=\"data row22 col1\" >362160</td>\n",
       "      <td id=\"T_98ca7_row22_col2\" class=\"data row22 col2\" >2312</td>\n",
       "      <td id=\"T_98ca7_row22_col3\" class=\"data row22 col3\" >81.685312</td>\n",
       "      <td id=\"T_98ca7_row22_col4\" class=\"data row22 col4\" >0.521472</td>\n",
       "    </tr>\n",
       "    <tr>\n",
       "      <th id=\"T_98ca7_level0_row23\" class=\"row_heading level0 row23\" >Jharkhand</th>\n",
       "      <td id=\"T_98ca7_row23_col0\" class=\"data row23 col0\" >347440</td>\n",
       "      <td id=\"T_98ca7_row23_col1\" class=\"data row23 col1\" >342102</td>\n",
       "      <td id=\"T_98ca7_row23_col2\" class=\"data row23 col2\" >5130</td>\n",
       "      <td id=\"T_98ca7_row23_col3\" class=\"data row23 col3\" >98.463620</td>\n",
       "      <td id=\"T_98ca7_row23_col4\" class=\"data row23 col4\" >1.476514</td>\n",
       "    </tr>\n",
       "    <tr>\n",
       "      <th id=\"T_98ca7_level0_row24\" class=\"row_heading level0 row24\" >Uttarakhand</th>\n",
       "      <td id=\"T_98ca7_row24_col0\" class=\"data row24 col0\" >342462</td>\n",
       "      <td id=\"T_98ca7_row24_col1\" class=\"data row24 col1\" >334650</td>\n",
       "      <td id=\"T_98ca7_row24_col2\" class=\"data row24 col2\" >7368</td>\n",
       "      <td id=\"T_98ca7_row24_col3\" class=\"data row24 col3\" >97.718871</td>\n",
       "      <td id=\"T_98ca7_row24_col4\" class=\"data row24 col4\" >2.151480</td>\n",
       "    </tr>\n",
       "    <tr>\n",
       "      <th id=\"T_98ca7_level0_row25\" class=\"row_heading level0 row25\" >Jammu and Kashmir</th>\n",
       "      <td id=\"T_98ca7_row25_col0\" class=\"data row25 col0\" >322771</td>\n",
       "      <td id=\"T_98ca7_row25_col1\" class=\"data row25 col1\" >317081</td>\n",
       "      <td id=\"T_98ca7_row25_col2\" class=\"data row25 col2\" >4392</td>\n",
       "      <td id=\"T_98ca7_row25_col3\" class=\"data row25 col3\" >98.237140</td>\n",
       "      <td id=\"T_98ca7_row25_col4\" class=\"data row25 col4\" >1.360717</td>\n",
       "    </tr>\n",
       "    <tr>\n",
       "      <th id=\"T_98ca7_level0_row26\" class=\"row_heading level0 row26\" >Himachal Pradesh</th>\n",
       "      <td id=\"T_98ca7_row26_col0\" class=\"data row26 col0\" >208616</td>\n",
       "      <td id=\"T_98ca7_row26_col1\" class=\"data row26 col1\" >202761</td>\n",
       "      <td id=\"T_98ca7_row26_col2\" class=\"data row26 col2\" >3537</td>\n",
       "      <td id=\"T_98ca7_row26_col3\" class=\"data row26 col3\" >97.193408</td>\n",
       "      <td id=\"T_98ca7_row26_col4\" class=\"data row26 col4\" >1.695460</td>\n",
       "    </tr>\n",
       "    <tr>\n",
       "      <th id=\"T_98ca7_level0_row27\" class=\"row_heading level0 row27\" >Himanchal Pradesh</th>\n",
       "      <td id=\"T_98ca7_row27_col0\" class=\"data row27 col0\" >204516</td>\n",
       "      <td id=\"T_98ca7_row27_col1\" class=\"data row27 col1\" >200040</td>\n",
       "      <td id=\"T_98ca7_row27_col2\" class=\"data row27 col2\" >3507</td>\n",
       "      <td id=\"T_98ca7_row27_col3\" class=\"data row27 col3\" >97.811418</td>\n",
       "      <td id=\"T_98ca7_row27_col4\" class=\"data row27 col4\" >1.714780</td>\n",
       "    </tr>\n",
       "    <tr>\n",
       "      <th id=\"T_98ca7_level0_row28\" class=\"row_heading level0 row28\" >Goa</th>\n",
       "      <td id=\"T_98ca7_row28_col0\" class=\"data row28 col0\" >172085</td>\n",
       "      <td id=\"T_98ca7_row28_col1\" class=\"data row28 col1\" >167978</td>\n",
       "      <td id=\"T_98ca7_row28_col2\" class=\"data row28 col2\" >3164</td>\n",
       "      <td id=\"T_98ca7_row28_col3\" class=\"data row28 col3\" >97.613389</td>\n",
       "      <td id=\"T_98ca7_row28_col4\" class=\"data row28 col4\" >1.838626</td>\n",
       "    </tr>\n",
       "    <tr>\n",
       "      <th id=\"T_98ca7_level0_row29\" class=\"row_heading level0 row29\" >Puducherry</th>\n",
       "      <td id=\"T_98ca7_row29_col0\" class=\"data row29 col0\" >121766</td>\n",
       "      <td id=\"T_98ca7_row29_col1\" class=\"data row29 col1\" >119115</td>\n",
       "      <td id=\"T_98ca7_row29_col2\" class=\"data row29 col2\" >1800</td>\n",
       "      <td id=\"T_98ca7_row29_col3\" class=\"data row29 col3\" >97.822873</td>\n",
       "      <td id=\"T_98ca7_row29_col4\" class=\"data row29 col4\" >1.478245</td>\n",
       "    </tr>\n",
       "    <tr>\n",
       "      <th id=\"T_98ca7_level0_row30\" class=\"row_heading level0 row30\" >Manipur</th>\n",
       "      <td id=\"T_98ca7_row30_col0\" class=\"data row30 col0\" >105424</td>\n",
       "      <td id=\"T_98ca7_row30_col1\" class=\"data row30 col1\" >96776</td>\n",
       "      <td id=\"T_98ca7_row30_col2\" class=\"data row30 col2\" >1664</td>\n",
       "      <td id=\"T_98ca7_row30_col3\" class=\"data row30 col3\" >91.796934</td>\n",
       "      <td id=\"T_98ca7_row30_col4\" class=\"data row30 col4\" >1.578388</td>\n",
       "    </tr>\n",
       "    <tr>\n",
       "      <th id=\"T_98ca7_level0_row31\" class=\"row_heading level0 row31\" >Tripura</th>\n",
       "      <td id=\"T_98ca7_row31_col0\" class=\"data row31 col0\" >80660</td>\n",
       "      <td id=\"T_98ca7_row31_col1\" class=\"data row31 col1\" >77811</td>\n",
       "      <td id=\"T_98ca7_row31_col2\" class=\"data row31 col2\" >773</td>\n",
       "      <td id=\"T_98ca7_row31_col3\" class=\"data row31 col3\" >96.467890</td>\n",
       "      <td id=\"T_98ca7_row31_col4\" class=\"data row31 col4\" >0.958344</td>\n",
       "    </tr>\n",
       "    <tr>\n",
       "      <th id=\"T_98ca7_level0_row32\" class=\"row_heading level0 row32\" >Meghalaya</th>\n",
       "      <td id=\"T_98ca7_row32_col0\" class=\"data row32 col0\" >69769</td>\n",
       "      <td id=\"T_98ca7_row32_col1\" class=\"data row32 col1\" >64157</td>\n",
       "      <td id=\"T_98ca7_row32_col2\" class=\"data row32 col2\" >1185</td>\n",
       "      <td id=\"T_98ca7_row32_col3\" class=\"data row32 col3\" >91.956313</td>\n",
       "      <td id=\"T_98ca7_row32_col4\" class=\"data row32 col4\" >1.698462</td>\n",
       "    </tr>\n",
       "    <tr>\n",
       "      <th id=\"T_98ca7_level0_row33\" class=\"row_heading level0 row33\" >Chandigarh</th>\n",
       "      <td id=\"T_98ca7_row33_col0\" class=\"data row33 col0\" >61992</td>\n",
       "      <td id=\"T_98ca7_row33_col1\" class=\"data row33 col1\" >61150</td>\n",
       "      <td id=\"T_98ca7_row33_col2\" class=\"data row33 col2\" >811</td>\n",
       "      <td id=\"T_98ca7_row33_col3\" class=\"data row33 col3\" >98.641760</td>\n",
       "      <td id=\"T_98ca7_row33_col4\" class=\"data row33 col4\" >1.308233</td>\n",
       "    </tr>\n",
       "    <tr>\n",
       "      <th id=\"T_98ca7_level0_row34\" class=\"row_heading level0 row34\" >Arunachal Pradesh</th>\n",
       "      <td id=\"T_98ca7_row34_col0\" class=\"data row34 col0\" >50605</td>\n",
       "      <td id=\"T_98ca7_row34_col1\" class=\"data row34 col1\" >47821</td>\n",
       "      <td id=\"T_98ca7_row34_col2\" class=\"data row34 col2\" >248</td>\n",
       "      <td id=\"T_98ca7_row34_col3\" class=\"data row34 col3\" >94.498567</td>\n",
       "      <td id=\"T_98ca7_row34_col4\" class=\"data row34 col4\" >0.490070</td>\n",
       "    </tr>\n",
       "    <tr>\n",
       "      <th id=\"T_98ca7_level0_row35\" class=\"row_heading level0 row35\" >Mizoram</th>\n",
       "      <td id=\"T_98ca7_row35_col0\" class=\"data row35 col0\" >46320</td>\n",
       "      <td id=\"T_98ca7_row35_col1\" class=\"data row35 col1\" >33722</td>\n",
       "      <td id=\"T_98ca7_row35_col2\" class=\"data row35 col2\" >171</td>\n",
       "      <td id=\"T_98ca7_row35_col3\" class=\"data row35 col3\" >72.802245</td>\n",
       "      <td id=\"T_98ca7_row35_col4\" class=\"data row35 col4\" >0.369171</td>\n",
       "    </tr>\n",
       "    <tr>\n",
       "      <th id=\"T_98ca7_level0_row36\" class=\"row_heading level0 row36\" >Nagaland</th>\n",
       "      <td id=\"T_98ca7_row36_col0\" class=\"data row36 col0\" >28811</td>\n",
       "      <td id=\"T_98ca7_row36_col1\" class=\"data row36 col1\" >26852</td>\n",
       "      <td id=\"T_98ca7_row36_col2\" class=\"data row36 col2\" >585</td>\n",
       "      <td id=\"T_98ca7_row36_col3\" class=\"data row36 col3\" >93.200514</td>\n",
       "      <td id=\"T_98ca7_row36_col4\" class=\"data row36 col4\" >2.030474</td>\n",
       "    </tr>\n",
       "    <tr>\n",
       "      <th id=\"T_98ca7_level0_row37\" class=\"row_heading level0 row37\" >Sikkim</th>\n",
       "      <td id=\"T_98ca7_row37_col0\" class=\"data row37 col0\" >28018</td>\n",
       "      <td id=\"T_98ca7_row37_col1\" class=\"data row37 col1\" >25095</td>\n",
       "      <td id=\"T_98ca7_row37_col2\" class=\"data row37 col2\" >356</td>\n",
       "      <td id=\"T_98ca7_row37_col3\" class=\"data row37 col3\" >89.567421</td>\n",
       "      <td id=\"T_98ca7_row37_col4\" class=\"data row37 col4\" >1.270612</td>\n",
       "    </tr>\n",
       "    <tr>\n",
       "      <th id=\"T_98ca7_level0_row38\" class=\"row_heading level0 row38\" >Ladakh</th>\n",
       "      <td id=\"T_98ca7_row38_col0\" class=\"data row38 col0\" >20411</td>\n",
       "      <td id=\"T_98ca7_row38_col1\" class=\"data row38 col1\" >20130</td>\n",
       "      <td id=\"T_98ca7_row38_col2\" class=\"data row38 col2\" >207</td>\n",
       "      <td id=\"T_98ca7_row38_col3\" class=\"data row38 col3\" >98.623291</td>\n",
       "      <td id=\"T_98ca7_row38_col4\" class=\"data row38 col4\" >1.014159</td>\n",
       "    </tr>\n",
       "    <tr>\n",
       "      <th id=\"T_98ca7_level0_row39\" class=\"row_heading level0 row39\" >Dadra and Nagar Haveli and Daman and Diu</th>\n",
       "      <td id=\"T_98ca7_row39_col0\" class=\"data row39 col0\" >10654</td>\n",
       "      <td id=\"T_98ca7_row39_col1\" class=\"data row39 col1\" >10646</td>\n",
       "      <td id=\"T_98ca7_row39_col2\" class=\"data row39 col2\" >4</td>\n",
       "      <td id=\"T_98ca7_row39_col3\" class=\"data row39 col3\" >99.924911</td>\n",
       "      <td id=\"T_98ca7_row39_col4\" class=\"data row39 col4\" >0.037545</td>\n",
       "    </tr>\n",
       "    <tr>\n",
       "      <th id=\"T_98ca7_level0_row40\" class=\"row_heading level0 row40\" >Dadra and Nagar Haveli</th>\n",
       "      <td id=\"T_98ca7_row40_col0\" class=\"data row40 col0\" >10377</td>\n",
       "      <td id=\"T_98ca7_row40_col1\" class=\"data row40 col1\" >10261</td>\n",
       "      <td id=\"T_98ca7_row40_col2\" class=\"data row40 col2\" >4</td>\n",
       "      <td id=\"T_98ca7_row40_col3\" class=\"data row40 col3\" >98.882143</td>\n",
       "      <td id=\"T_98ca7_row40_col4\" class=\"data row40 col4\" >0.038547</td>\n",
       "    </tr>\n",
       "    <tr>\n",
       "      <th id=\"T_98ca7_level0_row41\" class=\"row_heading level0 row41\" >Lakshadweep</th>\n",
       "      <td id=\"T_98ca7_row41_col0\" class=\"data row41 col0\" >10263</td>\n",
       "      <td id=\"T_98ca7_row41_col1\" class=\"data row41 col1\" >10165</td>\n",
       "      <td id=\"T_98ca7_row41_col2\" class=\"data row41 col2\" >51</td>\n",
       "      <td id=\"T_98ca7_row41_col3\" class=\"data row41 col3\" >99.045114</td>\n",
       "      <td id=\"T_98ca7_row41_col4\" class=\"data row41 col4\" >0.496931</td>\n",
       "    </tr>\n",
       "    <tr>\n",
       "      <th id=\"T_98ca7_level0_row42\" class=\"row_heading level0 row42\" >Cases being reassigned to states</th>\n",
       "      <td id=\"T_98ca7_row42_col0\" class=\"data row42 col0\" >9265</td>\n",
       "      <td id=\"T_98ca7_row42_col1\" class=\"data row42 col1\" >0</td>\n",
       "      <td id=\"T_98ca7_row42_col2\" class=\"data row42 col2\" >0</td>\n",
       "      <td id=\"T_98ca7_row42_col3\" class=\"data row42 col3\" >0.000000</td>\n",
       "      <td id=\"T_98ca7_row42_col4\" class=\"data row42 col4\" >0.000000</td>\n",
       "    </tr>\n",
       "    <tr>\n",
       "      <th id=\"T_98ca7_level0_row43\" class=\"row_heading level0 row43\" >Andaman and Nicobar Islands</th>\n",
       "      <td id=\"T_98ca7_row43_col0\" class=\"data row43 col0\" >7548</td>\n",
       "      <td id=\"T_98ca7_row43_col1\" class=\"data row43 col1\" >7412</td>\n",
       "      <td id=\"T_98ca7_row43_col2\" class=\"data row43 col2\" >129</td>\n",
       "      <td id=\"T_98ca7_row43_col3\" class=\"data row43 col3\" >98.198198</td>\n",
       "      <td id=\"T_98ca7_row43_col4\" class=\"data row43 col4\" >1.709062</td>\n",
       "    </tr>\n",
       "    <tr>\n",
       "      <th id=\"T_98ca7_level0_row44\" class=\"row_heading level0 row44\" >Unassigned</th>\n",
       "      <td id=\"T_98ca7_row44_col0\" class=\"data row44 col0\" >77</td>\n",
       "      <td id=\"T_98ca7_row44_col1\" class=\"data row44 col1\" >0</td>\n",
       "      <td id=\"T_98ca7_row44_col2\" class=\"data row44 col2\" >0</td>\n",
       "      <td id=\"T_98ca7_row44_col3\" class=\"data row44 col3\" >0.000000</td>\n",
       "      <td id=\"T_98ca7_row44_col4\" class=\"data row44 col4\" >0.000000</td>\n",
       "    </tr>\n",
       "    <tr>\n",
       "      <th id=\"T_98ca7_level0_row45\" class=\"row_heading level0 row45\" >Daman & Diu</th>\n",
       "      <td id=\"T_98ca7_row45_col0\" class=\"data row45 col0\" >2</td>\n",
       "      <td id=\"T_98ca7_row45_col1\" class=\"data row45 col1\" >0</td>\n",
       "      <td id=\"T_98ca7_row45_col2\" class=\"data row45 col2\" >0</td>\n",
       "      <td id=\"T_98ca7_row45_col3\" class=\"data row45 col3\" >0.000000</td>\n",
       "      <td id=\"T_98ca7_row45_col4\" class=\"data row45 col4\" >0.000000</td>\n",
       "    </tr>\n",
       "  </tbody>\n",
       "</table>\n"
      ],
      "text/plain": [
       "<pandas.io.formats.style.Styler at 0x190414e2040>"
      ]
     },
     "execution_count": 97,
     "metadata": {},
     "output_type": "execute_result"
    }
   ],
   "source": [
    "statewise.style.background_gradient(cmap='cubehelix')"
   ]
  },
  {
   "cell_type": "code",
   "execution_count": 98,
   "id": "1b983559",
   "metadata": {},
   "outputs": [
    {
     "data": {
      "text/plain": [
       "<AxesSubplot:title={'center':'top 10 cities with most deaths'}, xlabel='State/UnionTerritory', ylabel='Deaths'>"
      ]
     },
     "execution_count": 98,
     "metadata": {},
     "output_type": "execute_result"
    },
    {
     "data": {
      "image/png": "[encoded data removed]",
      "text/plain": [
       "<Figure size 1008x504 with 1 Axes>"
      ]
     },
     "metadata": {
      "needs_background": "light"
     },
     "output_type": "display_data"
    }
   ],
   "source": [
    "top_10_death_cases=covid_df.groupby(by=['State/UnionTerritory']).max()[['Deaths', 'Date']].sort_values(by=['Deaths'],ascending=False).reset_index()\n",
    "\n",
    "import  matplotlib.pyplot as plt\n",
    "import matplotlib\n",
    "matplotlib.rcParams['figure.figsize']=(14,7)\n",
    "##plotting top 10 cities with most deaths\n",
    "plt.title('top 10 cities with most deaths',size=12)\n",
    "plt.xlabel('States')\n",
    "plt.ylabel('Deaths')\n",
    "sns.barplot(data=top_10_death_cases.iloc[:12],y='Deaths',x='State/UnionTerritory',linewidth=1)"
   ]
  },
  {
   "cell_type": "code",
   "execution_count": 99,
   "id": "c7c089f2",
   "metadata": {},
   "outputs": [
    {
     "data": {
      "text/plain": [
       "<AxesSubplot:title={'center':'top 10 cities with most active cases'}, xlabel='State/UnionTerritory', ylabel='Active_case'>"
      ]
     },
     "execution_count": 99,
     "metadata": {},
     "output_type": "execute_result"
    },
    {
     "data": {
      "image/png": "[encoded data removed]",
      "text/plain": [
       "<Figure size 864x432 with 1 Axes>"
      ]
     },
     "metadata": {
      "needs_background": "light"
     },
     "output_type": "display_data"
    }
   ],
   "source": [
    "top_10_active_cases=covid_df.groupby(by=['State/UnionTerritory']).max()[['Active_case', 'Date']].sort_values(by=['Active_case'],ascending=False).reset_index()\n",
    "\n",
    "import matplotlib.pyplot as plt\n",
    "\n",
    "import matplotlib\n",
    "matplotlib.rcParams['figure.figsize']=(12,6)\n",
    "\n",
    "\n",
    "##plotting top 10 cities with most active cases\n",
    "plt.title('top 10 cities with most active cases',size=12)\n",
    "plt.xlabel('States')\n",
    "plt.ylabel('Active cases')\n",
    "sns.barplot(data=top_10_active_cases.iloc[:10],y='Active_case',x='State/UnionTerritory',linewidth=2)\n"
   ]
  },
  {
   "cell_type": "code",
   "execution_count": 100,
   "id": "2045ff6a",
   "metadata": {},
   "outputs": [
    {
     "data": {
      "text/plain": [
       "Index(['Date', 'State/UnionTerritory', 'Cured', 'Deaths', 'Confirmed',\n",
       "       'Active_case'],\n",
       "      dtype='object')"
      ]
     },
     "execution_count": 100,
     "metadata": {},
     "output_type": "execute_result"
    }
   ],
   "source": [
    "covid_df.columns"
   ]
  },
  {
   "cell_type": "code",
   "execution_count": 101,
   "id": "e6d76c0b",
   "metadata": {},
   "outputs": [
    {
     "data": {
      "text/plain": [
       "Text(0.5, 1.0, 'Top 5 worst affected states')"
      ]
     },
     "execution_count": 101,
     "metadata": {},
     "output_type": "execute_result"
    },
    {
     "data": {
      "image/png": "[encoded data removed]",
      "text/plain": [
       "<Figure size 1008x504 with 1 Axes>"
      ]
     },
     "metadata": {
      "needs_background": "light"
     },
     "output_type": "display_data"
    }
   ],
   "source": [
    "import matplotlib\n",
    "matplotlib.rcParams['figure.figsize']=(14,7)\n",
    "\n",
    "ax=sns.lineplot(data=covid_df[covid_df['State/UnionTerritory'].isin(['Maharashtra','Karnataka','Kerala','Tamil Nadu'])],x='Date',y='Active_case',hue='State/UnionTerritory')\n",
    "\n",
    "ax.set_title(\"Top 5 worst affected states\",size=16)"
   ]
  },
  {
   "cell_type": "markdown",
   "id": "41fe5a89",
   "metadata": {},
   "source": [
    "## Conclusion\n",
    "\n",
    "1. ACCORDING TO THE CURVE ABOVE THE CASES IN INDIA IN THE 5 STATES STARTED PEAKING AROUND APRIL,MAY AND JULY .\n",
    "\n",
    "2. MAXIMUM IMPACT OF THIS WAVE OF COVID IS IN MAHARASHTRA FOR THIS PERIOD.\n",
    "\n",
    "3. THE OVERALL CASES STARTED DIPPING IN AUGUST OR END OF JULY FOR MOST AFFECTED STATES."
   ]
  },
  {
   "cell_type": "code",
   "execution_count": 115,
   "id": "0d57c9b4",
   "metadata": {},
   "outputs": [
    {
     "data": {
      "text/html": [
       "<div>\n",
       "<style scoped>\n",
       "    .dataframe tbody tr th:only-of-type {\n",
       "        vertical-align: middle;\n",
       "    }\n",
       "\n",
       "    .dataframe tbody tr th {\n",
       "        vertical-align: top;\n",
       "    }\n",
       "\n",
       "    .dataframe thead th {\n",
       "        text-align: right;\n",
       "    }\n",
       "</style>\n",
       "<table border=\"1\" class=\"dataframe\">\n",
       "  <thead>\n",
       "    <tr style=\"text-align: right;\">\n",
       "      <th></th>\n",
       "      <th>Updated On</th>\n",
       "      <th>State</th>\n",
       "      <th>Total Doses Administered</th>\n",
       "      <th>Sessions</th>\n",
       "      <th>Sites</th>\n",
       "      <th>First Dose Administered</th>\n",
       "      <th>Second Dose Administered</th>\n",
       "      <th>Male (Doses Administered)</th>\n",
       "      <th>Female (Doses Administered)</th>\n",
       "      <th>Transgender (Doses Administered)</th>\n",
       "      <th>...</th>\n",
       "      <th>18-44 Years (Doses Administered)</th>\n",
       "      <th>45-60 Years (Doses Administered)</th>\n",
       "      <th>60+ Years (Doses Administered)</th>\n",
       "      <th>18-44 Years(Individuals Vaccinated)</th>\n",
       "      <th>45-60 Years(Individuals Vaccinated)</th>\n",
       "      <th>60+ Years(Individuals Vaccinated)</th>\n",
       "      <th>Male(Individuals Vaccinated)</th>\n",
       "      <th>Female(Individuals Vaccinated)</th>\n",
       "      <th>Transgender(Individuals Vaccinated)</th>\n",
       "      <th>Total Individuals Vaccinated</th>\n",
       "    </tr>\n",
       "  </thead>\n",
       "  <tbody>\n",
       "    <tr>\n",
       "      <th>0</th>\n",
       "      <td>16-01-2021</td>\n",
       "      <td>India</td>\n",
       "      <td>48276.0</td>\n",
       "      <td>3455.0</td>\n",
       "      <td>2957.0</td>\n",
       "      <td>48276.0</td>\n",
       "      <td>0.0</td>\n",
       "      <td>NaN</td>\n",
       "      <td>NaN</td>\n",
       "      <td>NaN</td>\n",
       "      <td>...</td>\n",
       "      <td>NaN</td>\n",
       "      <td>NaN</td>\n",
       "      <td>NaN</td>\n",
       "      <td>NaN</td>\n",
       "      <td>NaN</td>\n",
       "      <td>NaN</td>\n",
       "      <td>23757.0</td>\n",
       "      <td>24517.0</td>\n",
       "      <td>2.0</td>\n",
       "      <td>48276.0</td>\n",
       "    </tr>\n",
       "    <tr>\n",
       "      <th>1</th>\n",
       "      <td>17-01-2021</td>\n",
       "      <td>India</td>\n",
       "      <td>58604.0</td>\n",
       "      <td>8532.0</td>\n",
       "      <td>4954.0</td>\n",
       "      <td>58604.0</td>\n",
       "      <td>0.0</td>\n",
       "      <td>NaN</td>\n",
       "      <td>NaN</td>\n",
       "      <td>NaN</td>\n",
       "      <td>...</td>\n",
       "      <td>NaN</td>\n",
       "      <td>NaN</td>\n",
       "      <td>NaN</td>\n",
       "      <td>NaN</td>\n",
       "      <td>NaN</td>\n",
       "      <td>NaN</td>\n",
       "      <td>27348.0</td>\n",
       "      <td>31252.0</td>\n",
       "      <td>4.0</td>\n",
       "      <td>58604.0</td>\n",
       "    </tr>\n",
       "    <tr>\n",
       "      <th>2</th>\n",
       "      <td>18-01-2021</td>\n",
       "      <td>India</td>\n",
       "      <td>99449.0</td>\n",
       "      <td>13611.0</td>\n",
       "      <td>6583.0</td>\n",
       "      <td>99449.0</td>\n",
       "      <td>0.0</td>\n",
       "      <td>NaN</td>\n",
       "      <td>NaN</td>\n",
       "      <td>NaN</td>\n",
       "      <td>...</td>\n",
       "      <td>NaN</td>\n",
       "      <td>NaN</td>\n",
       "      <td>NaN</td>\n",
       "      <td>NaN</td>\n",
       "      <td>NaN</td>\n",
       "      <td>NaN</td>\n",
       "      <td>41361.0</td>\n",
       "      <td>58083.0</td>\n",
       "      <td>5.0</td>\n",
       "      <td>99449.0</td>\n",
       "    </tr>\n",
       "    <tr>\n",
       "      <th>3</th>\n",
       "      <td>19-01-2021</td>\n",
       "      <td>India</td>\n",
       "      <td>195525.0</td>\n",
       "      <td>17855.0</td>\n",
       "      <td>7951.0</td>\n",
       "      <td>195525.0</td>\n",
       "      <td>0.0</td>\n",
       "      <td>NaN</td>\n",
       "      <td>NaN</td>\n",
       "      <td>NaN</td>\n",
       "      <td>...</td>\n",
       "      <td>NaN</td>\n",
       "      <td>NaN</td>\n",
       "      <td>NaN</td>\n",
       "      <td>NaN</td>\n",
       "      <td>NaN</td>\n",
       "      <td>NaN</td>\n",
       "      <td>81901.0</td>\n",
       "      <td>113613.0</td>\n",
       "      <td>11.0</td>\n",
       "      <td>195525.0</td>\n",
       "    </tr>\n",
       "    <tr>\n",
       "      <th>4</th>\n",
       "      <td>20-01-2021</td>\n",
       "      <td>India</td>\n",
       "      <td>251280.0</td>\n",
       "      <td>25472.0</td>\n",
       "      <td>10504.0</td>\n",
       "      <td>251280.0</td>\n",
       "      <td>0.0</td>\n",
       "      <td>NaN</td>\n",
       "      <td>NaN</td>\n",
       "      <td>NaN</td>\n",
       "      <td>...</td>\n",
       "      <td>NaN</td>\n",
       "      <td>NaN</td>\n",
       "      <td>NaN</td>\n",
       "      <td>NaN</td>\n",
       "      <td>NaN</td>\n",
       "      <td>NaN</td>\n",
       "      <td>98111.0</td>\n",
       "      <td>153145.0</td>\n",
       "      <td>24.0</td>\n",
       "      <td>251280.0</td>\n",
       "    </tr>\n",
       "  </tbody>\n",
       "</table>\n",
       "<p>5 rows × 24 columns</p>\n",
       "</div>"
      ],
      "text/plain": [
       "   Updated On  State  Total Doses Administered  Sessions   Sites   \\\n",
       "0  16-01-2021  India                   48276.0    3455.0   2957.0   \n",
       "1  17-01-2021  India                   58604.0    8532.0   4954.0   \n",
       "2  18-01-2021  India                   99449.0   13611.0   6583.0   \n",
       "3  19-01-2021  India                  195525.0   17855.0   7951.0   \n",
       "4  20-01-2021  India                  251280.0   25472.0  10504.0   \n",
       "\n",
       "   First Dose Administered  Second Dose Administered  \\\n",
       "0                  48276.0                       0.0   \n",
       "1                  58604.0                       0.0   \n",
       "2                  99449.0                       0.0   \n",
       "3                 195525.0                       0.0   \n",
       "4                 251280.0                       0.0   \n",
       "\n",
       "   Male (Doses Administered)  Female (Doses Administered)  \\\n",
       "0                        NaN                          NaN   \n",
       "1                        NaN                          NaN   \n",
       "2                        NaN                          NaN   \n",
       "3                        NaN                          NaN   \n",
       "4                        NaN                          NaN   \n",
       "\n",
       "   Transgender (Doses Administered)  ...  18-44 Years (Doses Administered)  \\\n",
       "0                               NaN  ...                               NaN   \n",
       "1                               NaN  ...                               NaN   \n",
       "2                               NaN  ...                               NaN   \n",
       "3                               NaN  ...                               NaN   \n",
       "4                               NaN  ...                               NaN   \n",
       "\n",
       "   45-60 Years (Doses Administered)  60+ Years (Doses Administered)  \\\n",
       "0                               NaN                             NaN   \n",
       "1                               NaN                             NaN   \n",
       "2                               NaN                             NaN   \n",
       "3                               NaN                             NaN   \n",
       "4                               NaN                             NaN   \n",
       "\n",
       "   18-44 Years(Individuals Vaccinated)  45-60 Years(Individuals Vaccinated)  \\\n",
       "0                                  NaN                                  NaN   \n",
       "1                                  NaN                                  NaN   \n",
       "2                                  NaN                                  NaN   \n",
       "3                                  NaN                                  NaN   \n",
       "4                                  NaN                                  NaN   \n",
       "\n",
       "   60+ Years(Individuals Vaccinated)  Male(Individuals Vaccinated)  \\\n",
       "0                                NaN                       23757.0   \n",
       "1                                NaN                       27348.0   \n",
       "2                                NaN                       41361.0   \n",
       "3                                NaN                       81901.0   \n",
       "4                                NaN                       98111.0   \n",
       "\n",
       "   Female(Individuals Vaccinated)  Transgender(Individuals Vaccinated)  \\\n",
       "0                         24517.0                                  2.0   \n",
       "1                         31252.0                                  4.0   \n",
       "2                         58083.0                                  5.0   \n",
       "3                        113613.0                                 11.0   \n",
       "4                        153145.0                                 24.0   \n",
       "\n",
       "   Total Individuals Vaccinated  \n",
       "0                       48276.0  \n",
       "1                       58604.0  \n",
       "2                       99449.0  \n",
       "3                      195525.0  \n",
       "4                      251280.0  \n",
       "\n",
       "[5 rows x 24 columns]"
      ]
     },
     "execution_count": 115,
     "metadata": {},
     "output_type": "execute_result"
    }
   ],
   "source": [
    "vaccine_df.head(5)"
   ]
  },
  {
   "cell_type": "code",
   "execution_count": 116,
   "id": "7b0b7869",
   "metadata": {},
   "outputs": [
    {
     "data": {
      "text/html": [
       "<div>\n",
       "<style scoped>\n",
       "    .dataframe tbody tr th:only-of-type {\n",
       "        vertical-align: middle;\n",
       "    }\n",
       "\n",
       "    .dataframe tbody tr th {\n",
       "        vertical-align: top;\n",
       "    }\n",
       "\n",
       "    .dataframe thead th {\n",
       "        text-align: right;\n",
       "    }\n",
       "</style>\n",
       "<table border=\"1\" class=\"dataframe\">\n",
       "  <thead>\n",
       "    <tr style=\"text-align: right;\">\n",
       "      <th></th>\n",
       "      <th>Updated On</th>\n",
       "      <th>State</th>\n",
       "      <th>Total Doses Administered</th>\n",
       "      <th>Sessions</th>\n",
       "      <th>Sites</th>\n",
       "      <th>First Dose Administered</th>\n",
       "      <th>Second Dose Administered</th>\n",
       "      <th>Male (Doses Administered)</th>\n",
       "      <th>Female (Doses Administered)</th>\n",
       "      <th>Transgender (Doses Administered)</th>\n",
       "      <th>...</th>\n",
       "      <th>18-44 Years (Doses Administered)</th>\n",
       "      <th>45-60 Years (Doses Administered)</th>\n",
       "      <th>60+ Years (Doses Administered)</th>\n",
       "      <th>18-44 Years(Individuals Vaccinated)</th>\n",
       "      <th>45-60 Years(Individuals Vaccinated)</th>\n",
       "      <th>60+ Years(Individuals Vaccinated)</th>\n",
       "      <th>Male(Individuals Vaccinated)</th>\n",
       "      <th>Female(Individuals Vaccinated)</th>\n",
       "      <th>Transgender(Individuals Vaccinated)</th>\n",
       "      <th>Total Individuals Vaccinated</th>\n",
       "    </tr>\n",
       "  </thead>\n",
       "  <tbody>\n",
       "    <tr>\n",
       "      <th>0</th>\n",
       "      <td>16-01-2021</td>\n",
       "      <td>India</td>\n",
       "      <td>48276.0</td>\n",
       "      <td>3455.0</td>\n",
       "      <td>2957.0</td>\n",
       "      <td>48276.0</td>\n",
       "      <td>0.0</td>\n",
       "      <td>NaN</td>\n",
       "      <td>NaN</td>\n",
       "      <td>NaN</td>\n",
       "      <td>...</td>\n",
       "      <td>NaN</td>\n",
       "      <td>NaN</td>\n",
       "      <td>NaN</td>\n",
       "      <td>NaN</td>\n",
       "      <td>NaN</td>\n",
       "      <td>NaN</td>\n",
       "      <td>23757.0</td>\n",
       "      <td>24517.0</td>\n",
       "      <td>2.0</td>\n",
       "      <td>48276.0</td>\n",
       "    </tr>\n",
       "    <tr>\n",
       "      <th>1</th>\n",
       "      <td>17-01-2021</td>\n",
       "      <td>India</td>\n",
       "      <td>58604.0</td>\n",
       "      <td>8532.0</td>\n",
       "      <td>4954.0</td>\n",
       "      <td>58604.0</td>\n",
       "      <td>0.0</td>\n",
       "      <td>NaN</td>\n",
       "      <td>NaN</td>\n",
       "      <td>NaN</td>\n",
       "      <td>...</td>\n",
       "      <td>NaN</td>\n",
       "      <td>NaN</td>\n",
       "      <td>NaN</td>\n",
       "      <td>NaN</td>\n",
       "      <td>NaN</td>\n",
       "      <td>NaN</td>\n",
       "      <td>27348.0</td>\n",
       "      <td>31252.0</td>\n",
       "      <td>4.0</td>\n",
       "      <td>58604.0</td>\n",
       "    </tr>\n",
       "    <tr>\n",
       "      <th>2</th>\n",
       "      <td>18-01-2021</td>\n",
       "      <td>India</td>\n",
       "      <td>99449.0</td>\n",
       "      <td>13611.0</td>\n",
       "      <td>6583.0</td>\n",
       "      <td>99449.0</td>\n",
       "      <td>0.0</td>\n",
       "      <td>NaN</td>\n",
       "      <td>NaN</td>\n",
       "      <td>NaN</td>\n",
       "      <td>...</td>\n",
       "      <td>NaN</td>\n",
       "      <td>NaN</td>\n",
       "      <td>NaN</td>\n",
       "      <td>NaN</td>\n",
       "      <td>NaN</td>\n",
       "      <td>NaN</td>\n",
       "      <td>41361.0</td>\n",
       "      <td>58083.0</td>\n",
       "      <td>5.0</td>\n",
       "      <td>99449.0</td>\n",
       "    </tr>\n",
       "    <tr>\n",
       "      <th>3</th>\n",
       "      <td>19-01-2021</td>\n",
       "      <td>India</td>\n",
       "      <td>195525.0</td>\n",
       "      <td>17855.0</td>\n",
       "      <td>7951.0</td>\n",
       "      <td>195525.0</td>\n",
       "      <td>0.0</td>\n",
       "      <td>NaN</td>\n",
       "      <td>NaN</td>\n",
       "      <td>NaN</td>\n",
       "      <td>...</td>\n",
       "      <td>NaN</td>\n",
       "      <td>NaN</td>\n",
       "      <td>NaN</td>\n",
       "      <td>NaN</td>\n",
       "      <td>NaN</td>\n",
       "      <td>NaN</td>\n",
       "      <td>81901.0</td>\n",
       "      <td>113613.0</td>\n",
       "      <td>11.0</td>\n",
       "      <td>195525.0</td>\n",
       "    </tr>\n",
       "    <tr>\n",
       "      <th>4</th>\n",
       "      <td>20-01-2021</td>\n",
       "      <td>India</td>\n",
       "      <td>251280.0</td>\n",
       "      <td>25472.0</td>\n",
       "      <td>10504.0</td>\n",
       "      <td>251280.0</td>\n",
       "      <td>0.0</td>\n",
       "      <td>NaN</td>\n",
       "      <td>NaN</td>\n",
       "      <td>NaN</td>\n",
       "      <td>...</td>\n",
       "      <td>NaN</td>\n",
       "      <td>NaN</td>\n",
       "      <td>NaN</td>\n",
       "      <td>NaN</td>\n",
       "      <td>NaN</td>\n",
       "      <td>NaN</td>\n",
       "      <td>98111.0</td>\n",
       "      <td>153145.0</td>\n",
       "      <td>24.0</td>\n",
       "      <td>251280.0</td>\n",
       "    </tr>\n",
       "  </tbody>\n",
       "</table>\n",
       "<p>5 rows × 24 columns</p>\n",
       "</div>"
      ],
      "text/plain": [
       "   Updated On  State  Total Doses Administered  Sessions   Sites   \\\n",
       "0  16-01-2021  India                   48276.0    3455.0   2957.0   \n",
       "1  17-01-2021  India                   58604.0    8532.0   4954.0   \n",
       "2  18-01-2021  India                   99449.0   13611.0   6583.0   \n",
       "3  19-01-2021  India                  195525.0   17855.0   7951.0   \n",
       "4  20-01-2021  India                  251280.0   25472.0  10504.0   \n",
       "\n",
       "   First Dose Administered  Second Dose Administered  \\\n",
       "0                  48276.0                       0.0   \n",
       "1                  58604.0                       0.0   \n",
       "2                  99449.0                       0.0   \n",
       "3                 195525.0                       0.0   \n",
       "4                 251280.0                       0.0   \n",
       "\n",
       "   Male (Doses Administered)  Female (Doses Administered)  \\\n",
       "0                        NaN                          NaN   \n",
       "1                        NaN                          NaN   \n",
       "2                        NaN                          NaN   \n",
       "3                        NaN                          NaN   \n",
       "4                        NaN                          NaN   \n",
       "\n",
       "   Transgender (Doses Administered)  ...  18-44 Years (Doses Administered)  \\\n",
       "0                               NaN  ...                               NaN   \n",
       "1                               NaN  ...                               NaN   \n",
       "2                               NaN  ...                               NaN   \n",
       "3                               NaN  ...                               NaN   \n",
       "4                               NaN  ...                               NaN   \n",
       "\n",
       "   45-60 Years (Doses Administered)  60+ Years (Doses Administered)  \\\n",
       "0                               NaN                             NaN   \n",
       "1                               NaN                             NaN   \n",
       "2                               NaN                             NaN   \n",
       "3                               NaN                             NaN   \n",
       "4                               NaN                             NaN   \n",
       "\n",
       "   18-44 Years(Individuals Vaccinated)  45-60 Years(Individuals Vaccinated)  \\\n",
       "0                                  NaN                                  NaN   \n",
       "1                                  NaN                                  NaN   \n",
       "2                                  NaN                                  NaN   \n",
       "3                                  NaN                                  NaN   \n",
       "4                                  NaN                                  NaN   \n",
       "\n",
       "   60+ Years(Individuals Vaccinated)  Male(Individuals Vaccinated)  \\\n",
       "0                                NaN                       23757.0   \n",
       "1                                NaN                       27348.0   \n",
       "2                                NaN                       41361.0   \n",
       "3                                NaN                       81901.0   \n",
       "4                                NaN                       98111.0   \n",
       "\n",
       "   Female(Individuals Vaccinated)  Transgender(Individuals Vaccinated)  \\\n",
       "0                         24517.0                                  2.0   \n",
       "1                         31252.0                                  4.0   \n",
       "2                         58083.0                                  5.0   \n",
       "3                        113613.0                                 11.0   \n",
       "4                        153145.0                                 24.0   \n",
       "\n",
       "   Total Individuals Vaccinated  \n",
       "0                       48276.0  \n",
       "1                       58604.0  \n",
       "2                       99449.0  \n",
       "3                      195525.0  \n",
       "4                      251280.0  \n",
       "\n",
       "[5 rows x 24 columns]"
      ]
     },
     "execution_count": 116,
     "metadata": {},
     "output_type": "execute_result"
    }
   ],
   "source": [
    "vaccine_df.head()"
   ]
  },
  {
   "cell_type": "code",
   "execution_count": 117,
   "id": "3b1bdb80",
   "metadata": {},
   "outputs": [],
   "source": [
    "##rename updated on column to vaccination date\n",
    "\n",
    "vaccine_df.rename(columns={'Updated On': 'vaccine_date'},inplace=True)"
   ]
  },
  {
   "cell_type": "code",
   "execution_count": 118,
   "id": "48a8467e",
   "metadata": {},
   "outputs": [
    {
     "data": {
      "text/html": [
       "<div>\n",
       "<style scoped>\n",
       "    .dataframe tbody tr th:only-of-type {\n",
       "        vertical-align: middle;\n",
       "    }\n",
       "\n",
       "    .dataframe tbody tr th {\n",
       "        vertical-align: top;\n",
       "    }\n",
       "\n",
       "    .dataframe thead th {\n",
       "        text-align: right;\n",
       "    }\n",
       "</style>\n",
       "<table border=\"1\" class=\"dataframe\">\n",
       "  <thead>\n",
       "    <tr style=\"text-align: right;\">\n",
       "      <th></th>\n",
       "      <th>vaccine_date</th>\n",
       "      <th>State</th>\n",
       "      <th>Total Doses Administered</th>\n",
       "      <th>Sessions</th>\n",
       "      <th>Sites</th>\n",
       "      <th>First Dose Administered</th>\n",
       "      <th>Second Dose Administered</th>\n",
       "      <th>Male (Doses Administered)</th>\n",
       "      <th>Female (Doses Administered)</th>\n",
       "      <th>Transgender (Doses Administered)</th>\n",
       "      <th>...</th>\n",
       "      <th>18-44 Years (Doses Administered)</th>\n",
       "      <th>45-60 Years (Doses Administered)</th>\n",
       "      <th>60+ Years (Doses Administered)</th>\n",
       "      <th>18-44 Years(Individuals Vaccinated)</th>\n",
       "      <th>45-60 Years(Individuals Vaccinated)</th>\n",
       "      <th>60+ Years(Individuals Vaccinated)</th>\n",
       "      <th>Male(Individuals Vaccinated)</th>\n",
       "      <th>Female(Individuals Vaccinated)</th>\n",
       "      <th>Transgender(Individuals Vaccinated)</th>\n",
       "      <th>Total Individuals Vaccinated</th>\n",
       "    </tr>\n",
       "  </thead>\n",
       "  <tbody>\n",
       "    <tr>\n",
       "      <th>0</th>\n",
       "      <td>16-01-2021</td>\n",
       "      <td>India</td>\n",
       "      <td>48276.0</td>\n",
       "      <td>3455.0</td>\n",
       "      <td>2957.0</td>\n",
       "      <td>48276.0</td>\n",
       "      <td>0.0</td>\n",
       "      <td>NaN</td>\n",
       "      <td>NaN</td>\n",
       "      <td>NaN</td>\n",
       "      <td>...</td>\n",
       "      <td>NaN</td>\n",
       "      <td>NaN</td>\n",
       "      <td>NaN</td>\n",
       "      <td>NaN</td>\n",
       "      <td>NaN</td>\n",
       "      <td>NaN</td>\n",
       "      <td>23757.0</td>\n",
       "      <td>24517.0</td>\n",
       "      <td>2.0</td>\n",
       "      <td>48276.0</td>\n",
       "    </tr>\n",
       "    <tr>\n",
       "      <th>1</th>\n",
       "      <td>17-01-2021</td>\n",
       "      <td>India</td>\n",
       "      <td>58604.0</td>\n",
       "      <td>8532.0</td>\n",
       "      <td>4954.0</td>\n",
       "      <td>58604.0</td>\n",
       "      <td>0.0</td>\n",
       "      <td>NaN</td>\n",
       "      <td>NaN</td>\n",
       "      <td>NaN</td>\n",
       "      <td>...</td>\n",
       "      <td>NaN</td>\n",
       "      <td>NaN</td>\n",
       "      <td>NaN</td>\n",
       "      <td>NaN</td>\n",
       "      <td>NaN</td>\n",
       "      <td>NaN</td>\n",
       "      <td>27348.0</td>\n",
       "      <td>31252.0</td>\n",
       "      <td>4.0</td>\n",
       "      <td>58604.0</td>\n",
       "    </tr>\n",
       "    <tr>\n",
       "      <th>2</th>\n",
       "      <td>18-01-2021</td>\n",
       "      <td>India</td>\n",
       "      <td>99449.0</td>\n",
       "      <td>13611.0</td>\n",
       "      <td>6583.0</td>\n",
       "      <td>99449.0</td>\n",
       "      <td>0.0</td>\n",
       "      <td>NaN</td>\n",
       "      <td>NaN</td>\n",
       "      <td>NaN</td>\n",
       "      <td>...</td>\n",
       "      <td>NaN</td>\n",
       "      <td>NaN</td>\n",
       "      <td>NaN</td>\n",
       "      <td>NaN</td>\n",
       "      <td>NaN</td>\n",
       "      <td>NaN</td>\n",
       "      <td>41361.0</td>\n",
       "      <td>58083.0</td>\n",
       "      <td>5.0</td>\n",
       "      <td>99449.0</td>\n",
       "    </tr>\n",
       "  </tbody>\n",
       "</table>\n",
       "<p>3 rows × 24 columns</p>\n",
       "</div>"
      ],
      "text/plain": [
       "  vaccine_date  State  Total Doses Administered  Sessions  Sites   \\\n",
       "0   16-01-2021  India                   48276.0    3455.0  2957.0   \n",
       "1   17-01-2021  India                   58604.0    8532.0  4954.0   \n",
       "2   18-01-2021  India                   99449.0   13611.0  6583.0   \n",
       "\n",
       "   First Dose Administered  Second Dose Administered  \\\n",
       "0                  48276.0                       0.0   \n",
       "1                  58604.0                       0.0   \n",
       "2                  99449.0                       0.0   \n",
       "\n",
       "   Male (Doses Administered)  Female (Doses Administered)  \\\n",
       "0                        NaN                          NaN   \n",
       "1                        NaN                          NaN   \n",
       "2                        NaN                          NaN   \n",
       "\n",
       "   Transgender (Doses Administered)  ...  18-44 Years (Doses Administered)  \\\n",
       "0                               NaN  ...                               NaN   \n",
       "1                               NaN  ...                               NaN   \n",
       "2                               NaN  ...                               NaN   \n",
       "\n",
       "   45-60 Years (Doses Administered)  60+ Years (Doses Administered)  \\\n",
       "0                               NaN                             NaN   \n",
       "1                               NaN                             NaN   \n",
       "2                               NaN                             NaN   \n",
       "\n",
       "   18-44 Years(Individuals Vaccinated)  45-60 Years(Individuals Vaccinated)  \\\n",
       "0                                  NaN                                  NaN   \n",
       "1                                  NaN                                  NaN   \n",
       "2                                  NaN                                  NaN   \n",
       "\n",
       "   60+ Years(Individuals Vaccinated)  Male(Individuals Vaccinated)  \\\n",
       "0                                NaN                       23757.0   \n",
       "1                                NaN                       27348.0   \n",
       "2                                NaN                       41361.0   \n",
       "\n",
       "   Female(Individuals Vaccinated)  Transgender(Individuals Vaccinated)  \\\n",
       "0                         24517.0                                  2.0   \n",
       "1                         31252.0                                  4.0   \n",
       "2                         58083.0                                  5.0   \n",
       "\n",
       "   Total Individuals Vaccinated  \n",
       "0                       48276.0  \n",
       "1                       58604.0  \n",
       "2                       99449.0  \n",
       "\n",
       "[3 rows x 24 columns]"
      ]
     },
     "execution_count": 118,
     "metadata": {},
     "output_type": "execute_result"
    }
   ],
   "source": [
    "vaccine_df.head(3)"
   ]
  },
  {
   "cell_type": "code",
   "execution_count": 121,
   "id": "deafc168",
   "metadata": {},
   "outputs": [],
   "source": [
    "##converting vaccine_date from string to date time format\n",
    "##vaccine_df['vaccine_date']=pd.to_datetime(vaccine_df['vaccine_date'],format='%d-%m-%y')"
   ]
  },
  {
   "cell_type": "code",
   "execution_count": 120,
   "id": "18da5454",
   "metadata": {},
   "outputs": [
    {
     "data": {
      "text/plain": [
       "str"
      ]
     },
     "execution_count": 120,
     "metadata": {},
     "output_type": "execute_result"
    }
   ],
   "source": [
    "type(vaccine_df['vaccine_date'][0])"
   ]
  },
  {
   "cell_type": "code",
   "execution_count": 122,
   "id": "1677e1f4",
   "metadata": {},
   "outputs": [
    {
     "name": "stdout",
     "output_type": "stream",
     "text": [
      "<class 'pandas.core.frame.DataFrame'>\n",
      "RangeIndex: 7845 entries, 0 to 7844\n",
      "Data columns (total 24 columns):\n",
      " #   Column                               Non-Null Count  Dtype  \n",
      "---  ------                               --------------  -----  \n",
      " 0   vaccine_date                         7845 non-null   object \n",
      " 1   State                                7845 non-null   object \n",
      " 2   Total Doses Administered             7621 non-null   float64\n",
      " 3   Sessions                             7621 non-null   float64\n",
      " 4   Sites                                7621 non-null   float64\n",
      " 5   First Dose Administered              7621 non-null   float64\n",
      " 6   Second Dose Administered             7621 non-null   float64\n",
      " 7   Male (Doses Administered)            7461 non-null   float64\n",
      " 8   Female (Doses Administered)          7461 non-null   float64\n",
      " 9   Transgender (Doses Administered)     7461 non-null   float64\n",
      " 10  Covaxin (Doses Administered)         7621 non-null   float64\n",
      " 11  CoviShield (Doses Administered)      7621 non-null   float64\n",
      " 12  Sputnik V (Doses Administered)       2995 non-null   float64\n",
      " 13  AEFI                                 5438 non-null   float64\n",
      " 14  18-44 Years (Doses Administered)     1702 non-null   float64\n",
      " 15  45-60 Years (Doses Administered)     1702 non-null   float64\n",
      " 16  60+ Years (Doses Administered)       1702 non-null   float64\n",
      " 17  18-44 Years(Individuals Vaccinated)  3733 non-null   float64\n",
      " 18  45-60 Years(Individuals Vaccinated)  3734 non-null   float64\n",
      " 19  60+ Years(Individuals Vaccinated)    3734 non-null   float64\n",
      " 20  Male(Individuals Vaccinated)         160 non-null    float64\n",
      " 21  Female(Individuals Vaccinated)       160 non-null    float64\n",
      " 22  Transgender(Individuals Vaccinated)  160 non-null    float64\n",
      " 23  Total Individuals Vaccinated         5919 non-null   float64\n",
      "dtypes: float64(22), object(2)\n",
      "memory usage: 1.4+ MB\n"
     ]
    }
   ],
   "source": [
    "vaccine_df.info()"
   ]
  },
  {
   "cell_type": "code",
   "execution_count": 123,
   "id": "3b6dd8a9",
   "metadata": {},
   "outputs": [
    {
     "data": {
      "text/plain": [
       "vaccine_date                              0\n",
       "State                                     0\n",
       "Total Doses Administered                224\n",
       "Sessions                                224\n",
       "Sites                                   224\n",
       "First Dose Administered                 224\n",
       "Second Dose Administered                224\n",
       "Male (Doses Administered)               384\n",
       "Female (Doses Administered)             384\n",
       "Transgender (Doses Administered)        384\n",
       "Covaxin (Doses Administered)            224\n",
       "CoviShield (Doses Administered)         224\n",
       "Sputnik V (Doses Administered)         4850\n",
       "AEFI                                   2407\n",
       "18-44 Years (Doses Administered)       6143\n",
       "45-60 Years (Doses Administered)       6143\n",
       "60+ Years (Doses Administered)         6143\n",
       "18-44 Years(Individuals Vaccinated)    4112\n",
       "45-60 Years(Individuals Vaccinated)    4111\n",
       "60+ Years(Individuals Vaccinated)      4111\n",
       "Male(Individuals Vaccinated)           7685\n",
       "Female(Individuals Vaccinated)         7685\n",
       "Transgender(Individuals Vaccinated)    7685\n",
       "Total Individuals Vaccinated           1926\n",
       "dtype: int64"
      ]
     },
     "execution_count": 123,
     "metadata": {},
     "output_type": "execute_result"
    }
   ],
   "source": [
    "##find the sum of all missing values in data\n",
    "\n",
    "vaccine_df.isnull().sum()"
   ]
  },
  {
   "cell_type": "code",
   "execution_count": 124,
   "id": "3e4c014b",
   "metadata": {},
   "outputs": [],
   "source": [
    "vaccination=vaccine_df.drop(columns=['Sputnik V (Doses Administered)','18-44 Years (Doses Administered)','AEFI','45-60 Years (Doses Administered)','60+ Years (Doses Administered)'],axis=1)"
   ]
  },
  {
   "cell_type": "code",
   "execution_count": 125,
   "id": "67f2c7bb",
   "metadata": {},
   "outputs": [
    {
     "data": {
      "text/html": [
       "<div>\n",
       "<style scoped>\n",
       "    .dataframe tbody tr th:only-of-type {\n",
       "        vertical-align: middle;\n",
       "    }\n",
       "\n",
       "    .dataframe tbody tr th {\n",
       "        vertical-align: top;\n",
       "    }\n",
       "\n",
       "    .dataframe thead th {\n",
       "        text-align: right;\n",
       "    }\n",
       "</style>\n",
       "<table border=\"1\" class=\"dataframe\">\n",
       "  <thead>\n",
       "    <tr style=\"text-align: right;\">\n",
       "      <th></th>\n",
       "      <th>vaccine_date</th>\n",
       "      <th>State</th>\n",
       "      <th>Total Doses Administered</th>\n",
       "      <th>Sessions</th>\n",
       "      <th>Sites</th>\n",
       "      <th>First Dose Administered</th>\n",
       "      <th>Second Dose Administered</th>\n",
       "      <th>Male (Doses Administered)</th>\n",
       "      <th>Female (Doses Administered)</th>\n",
       "      <th>Transgender (Doses Administered)</th>\n",
       "      <th>Covaxin (Doses Administered)</th>\n",
       "      <th>CoviShield (Doses Administered)</th>\n",
       "      <th>18-44 Years(Individuals Vaccinated)</th>\n",
       "      <th>45-60 Years(Individuals Vaccinated)</th>\n",
       "      <th>60+ Years(Individuals Vaccinated)</th>\n",
       "      <th>Male(Individuals Vaccinated)</th>\n",
       "      <th>Female(Individuals Vaccinated)</th>\n",
       "      <th>Transgender(Individuals Vaccinated)</th>\n",
       "      <th>Total Individuals Vaccinated</th>\n",
       "    </tr>\n",
       "  </thead>\n",
       "  <tbody>\n",
       "    <tr>\n",
       "      <th>0</th>\n",
       "      <td>16-01-2021</td>\n",
       "      <td>India</td>\n",
       "      <td>48276.0</td>\n",
       "      <td>3455.0</td>\n",
       "      <td>2957.0</td>\n",
       "      <td>48276.0</td>\n",
       "      <td>0.0</td>\n",
       "      <td>NaN</td>\n",
       "      <td>NaN</td>\n",
       "      <td>NaN</td>\n",
       "      <td>579.0</td>\n",
       "      <td>47697.0</td>\n",
       "      <td>NaN</td>\n",
       "      <td>NaN</td>\n",
       "      <td>NaN</td>\n",
       "      <td>23757.0</td>\n",
       "      <td>24517.0</td>\n",
       "      <td>2.0</td>\n",
       "      <td>48276.0</td>\n",
       "    </tr>\n",
       "    <tr>\n",
       "      <th>1</th>\n",
       "      <td>17-01-2021</td>\n",
       "      <td>India</td>\n",
       "      <td>58604.0</td>\n",
       "      <td>8532.0</td>\n",
       "      <td>4954.0</td>\n",
       "      <td>58604.0</td>\n",
       "      <td>0.0</td>\n",
       "      <td>NaN</td>\n",
       "      <td>NaN</td>\n",
       "      <td>NaN</td>\n",
       "      <td>635.0</td>\n",
       "      <td>57969.0</td>\n",
       "      <td>NaN</td>\n",
       "      <td>NaN</td>\n",
       "      <td>NaN</td>\n",
       "      <td>27348.0</td>\n",
       "      <td>31252.0</td>\n",
       "      <td>4.0</td>\n",
       "      <td>58604.0</td>\n",
       "    </tr>\n",
       "    <tr>\n",
       "      <th>2</th>\n",
       "      <td>18-01-2021</td>\n",
       "      <td>India</td>\n",
       "      <td>99449.0</td>\n",
       "      <td>13611.0</td>\n",
       "      <td>6583.0</td>\n",
       "      <td>99449.0</td>\n",
       "      <td>0.0</td>\n",
       "      <td>NaN</td>\n",
       "      <td>NaN</td>\n",
       "      <td>NaN</td>\n",
       "      <td>1299.0</td>\n",
       "      <td>98150.0</td>\n",
       "      <td>NaN</td>\n",
       "      <td>NaN</td>\n",
       "      <td>NaN</td>\n",
       "      <td>41361.0</td>\n",
       "      <td>58083.0</td>\n",
       "      <td>5.0</td>\n",
       "      <td>99449.0</td>\n",
       "    </tr>\n",
       "    <tr>\n",
       "      <th>3</th>\n",
       "      <td>19-01-2021</td>\n",
       "      <td>India</td>\n",
       "      <td>195525.0</td>\n",
       "      <td>17855.0</td>\n",
       "      <td>7951.0</td>\n",
       "      <td>195525.0</td>\n",
       "      <td>0.0</td>\n",
       "      <td>NaN</td>\n",
       "      <td>NaN</td>\n",
       "      <td>NaN</td>\n",
       "      <td>3017.0</td>\n",
       "      <td>192508.0</td>\n",
       "      <td>NaN</td>\n",
       "      <td>NaN</td>\n",
       "      <td>NaN</td>\n",
       "      <td>81901.0</td>\n",
       "      <td>113613.0</td>\n",
       "      <td>11.0</td>\n",
       "      <td>195525.0</td>\n",
       "    </tr>\n",
       "    <tr>\n",
       "      <th>4</th>\n",
       "      <td>20-01-2021</td>\n",
       "      <td>India</td>\n",
       "      <td>251280.0</td>\n",
       "      <td>25472.0</td>\n",
       "      <td>10504.0</td>\n",
       "      <td>251280.0</td>\n",
       "      <td>0.0</td>\n",
       "      <td>NaN</td>\n",
       "      <td>NaN</td>\n",
       "      <td>NaN</td>\n",
       "      <td>3946.0</td>\n",
       "      <td>247334.0</td>\n",
       "      <td>NaN</td>\n",
       "      <td>NaN</td>\n",
       "      <td>NaN</td>\n",
       "      <td>98111.0</td>\n",
       "      <td>153145.0</td>\n",
       "      <td>24.0</td>\n",
       "      <td>251280.0</td>\n",
       "    </tr>\n",
       "  </tbody>\n",
       "</table>\n",
       "</div>"
      ],
      "text/plain": [
       "  vaccine_date  State  Total Doses Administered  Sessions   Sites   \\\n",
       "0   16-01-2021  India                   48276.0    3455.0   2957.0   \n",
       "1   17-01-2021  India                   58604.0    8532.0   4954.0   \n",
       "2   18-01-2021  India                   99449.0   13611.0   6583.0   \n",
       "3   19-01-2021  India                  195525.0   17855.0   7951.0   \n",
       "4   20-01-2021  India                  251280.0   25472.0  10504.0   \n",
       "\n",
       "   First Dose Administered  Second Dose Administered  \\\n",
       "0                  48276.0                       0.0   \n",
       "1                  58604.0                       0.0   \n",
       "2                  99449.0                       0.0   \n",
       "3                 195525.0                       0.0   \n",
       "4                 251280.0                       0.0   \n",
       "\n",
       "   Male (Doses Administered)  Female (Doses Administered)  \\\n",
       "0                        NaN                          NaN   \n",
       "1                        NaN                          NaN   \n",
       "2                        NaN                          NaN   \n",
       "3                        NaN                          NaN   \n",
       "4                        NaN                          NaN   \n",
       "\n",
       "   Transgender (Doses Administered)  Covaxin (Doses Administered)  \\\n",
       "0                               NaN                         579.0   \n",
       "1                               NaN                         635.0   \n",
       "2                               NaN                        1299.0   \n",
       "3                               NaN                        3017.0   \n",
       "4                               NaN                        3946.0   \n",
       "\n",
       "   CoviShield (Doses Administered)  18-44 Years(Individuals Vaccinated)  \\\n",
       "0                          47697.0                                  NaN   \n",
       "1                          57969.0                                  NaN   \n",
       "2                          98150.0                                  NaN   \n",
       "3                         192508.0                                  NaN   \n",
       "4                         247334.0                                  NaN   \n",
       "\n",
       "   45-60 Years(Individuals Vaccinated)  60+ Years(Individuals Vaccinated)  \\\n",
       "0                                  NaN                                NaN   \n",
       "1                                  NaN                                NaN   \n",
       "2                                  NaN                                NaN   \n",
       "3                                  NaN                                NaN   \n",
       "4                                  NaN                                NaN   \n",
       "\n",
       "   Male(Individuals Vaccinated)  Female(Individuals Vaccinated)  \\\n",
       "0                       23757.0                         24517.0   \n",
       "1                       27348.0                         31252.0   \n",
       "2                       41361.0                         58083.0   \n",
       "3                       81901.0                        113613.0   \n",
       "4                       98111.0                        153145.0   \n",
       "\n",
       "   Transgender(Individuals Vaccinated)  Total Individuals Vaccinated  \n",
       "0                                  2.0                       48276.0  \n",
       "1                                  4.0                       58604.0  \n",
       "2                                  5.0                       99449.0  \n",
       "3                                 11.0                      195525.0  \n",
       "4                                 24.0                      251280.0  "
      ]
     },
     "execution_count": 125,
     "metadata": {},
     "output_type": "execute_result"
    }
   ],
   "source": [
    "vaccination.head()"
   ]
  },
  {
   "cell_type": "code",
   "execution_count": 138,
   "id": "8b87b4b3",
   "metadata": {},
   "outputs": [],
   "source": [
    "## male vs female vaccination\n",
    "\n",
    "vaccine_male=vaccine_df['Male(Individuals Vaccinated)'].sum()"
   ]
  },
  {
   "cell_type": "code",
   "execution_count": 139,
   "id": "bf8b44ac",
   "metadata": {},
   "outputs": [
    {
     "data": {
      "text/plain": [
       "7138698858.0"
      ]
     },
     "execution_count": 139,
     "metadata": {},
     "output_type": "execute_result"
    }
   ],
   "source": [
    "vaccine_male"
   ]
  },
  {
   "cell_type": "code",
   "execution_count": 140,
   "id": "afd815ba",
   "metadata": {},
   "outputs": [],
   "source": [
    "vaccine_female=vaccine_df['Female(Individuals Vaccinated)'].sum()"
   ]
  },
  {
   "cell_type": "code",
   "execution_count": 149,
   "id": "eb350a22",
   "metadata": {},
   "outputs": [
    {
     "data": {
      "text/plain": [
       "([<matplotlib.patches.Wedge at 0x1904bf79eb0>,\n",
       "  <matplotlib.patches.Wedge at 0x1904bf945e0>],\n",
       " [Text(-0.10472681424709744, 1.0950033307609863, 'Male'),\n",
       "  Text(0.1047268142470973, -1.0950033307609863, 'Female')],\n",
       " [Text(-0.05712371686205314, 0.5972745440514471, '53.04'),\n",
       "  Text(0.057123716862053066, -0.5972745440514471, '46.96')])"
      ]
     },
     "execution_count": 149,
     "metadata": {},
     "output_type": "execute_result"
    },
    {
     "data": {
      "image/png": "[encoded data removed]",
      "text/plain": [
       "<Figure size 1008x504 with 1 Axes>"
      ]
     },
     "metadata": {},
     "output_type": "display_data"
    }
   ],
   "source": [
    "plt.title('Male vs Female vaccination')\n",
    "plt.pie(labels=['Male','Female'],x=[vaccine_male,vaccine_female],autopct='%1.2f')"
   ]
  },
  {
   "cell_type": "code",
   "execution_count": 158,
   "id": "c2e5bff7",
   "metadata": {},
   "outputs": [
    {
     "data": {
      "application/vnd.plotly.v1+json": {
       "config": {
        "plotlyServerURL": "https://plot.ly"
       },
       "data": [
        {
         "domain": {
          "x": [
           0,
           1
          ],
          "y": [
           0,
           1
          ]
         },
         "hovertemplate": "label=%{label}<br>value=%{value}<extra></extra>",
         "labels": [
          "Male",
          "Female"
         ],
         "legendgroup": "",
         "name": "",
         "showlegend": true,
         "type": "pie",
         "values": [
          7138698858,
          6321628736
         ]
        }
       ],
       "layout": {
        "legend": {
         "tracegroupgap": 0
        },
        "template": {
         "data": {
          "bar": [
           {
            "error_x": {
             "color": "#2a3f5f"
            },
            "error_y": {
             "color": "#2a3f5f"
            },
            "marker": {
             "line": {
              "color": "#E5ECF6",
              "width": 0.5
             },
             "pattern": {
              "fillmode": "overlay",
              "size": 10,
              "solidity": 0.2
             }
            },
            "type": "bar"
           }
          ],
          "barpolar": [
           {
            "marker": {
             "line": {
              "color": "#E5ECF6",
              "width": 0.5
             },
             "pattern": {
              "fillmode": "overlay",
              "size": 10,
              "solidity": 0.2
             }
            },
            "type": "barpolar"
           }
          ],
          "carpet": [
           {
            "aaxis": {
             "endlinecolor": "#2a3f5f",
             "gridcolor": "white",
             "linecolor": "white",
             "minorgridcolor": "white",
             "startlinecolor": "#2a3f5f"
            },
            "baxis": {
             "endlinecolor": "#2a3f5f",
             "gridcolor": "white",
             "linecolor": "white",
             "minorgridcolor": "white",
             "startlinecolor": "#2a3f5f"
            },
            "type": "carpet"
           }
          ],
          "choropleth": [
           {
            "colorbar": {
             "outlinewidth": 0,
             "ticks": ""
            },
            "type": "choropleth"
           }
          ],
          "contour": [
           {
            "colorbar": {
             "outlinewidth": 0,
             "ticks": ""
            },
            "colorscale": [
             [
              0,
              "#0d0887"
             ],
             [
              0.1111111111111111,
              "#46039f"
             ],
             [
              0.2222222222222222,
              "#7201a8"
             ],
             [
              0.3333333333333333,
              "#9c179e"
             ],
             [
              0.4444444444444444,
              "#bd3786"
             ],
             [
              0.5555555555555556,
              "#d8576b"
             ],
             [
              0.6666666666666666,
              "#ed7953"
             ],
             [
              0.7777777777777778,
              "#fb9f3a"
             ],
             [
              0.8888888888888888,
              "#fdca26"
             ],
             [
              1,
              "#f0f921"
             ]
            ],
            "type": "contour"
           }
          ],
          "contourcarpet": [
           {
            "colorbar": {
             "outlinewidth": 0,
             "ticks": ""
            },
            "type": "contourcarpet"
           }
          ],
          "heatmap": [
           {
            "colorbar": {
             "outlinewidth": 0,
             "ticks": ""
            },
            "colorscale": [
             [
              0,
              "#0d0887"
             ],
             [
              0.1111111111111111,
              "#46039f"
             ],
             [
              0.2222222222222222,
              "#7201a8"
             ],
             [
              0.3333333333333333,
              "#9c179e"
             ],
             [
              0.4444444444444444,
              "#bd3786"
             ],
             [
              0.5555555555555556,
              "#d8576b"
             ],
             [
              0.6666666666666666,
              "#ed7953"
             ],
             [
              0.7777777777777778,
              "#fb9f3a"
             ],
             [
              0.8888888888888888,
              "#fdca26"
             ],
             [
              1,
              "#f0f921"
             ]
            ],
            "type": "heatmap"
           }
          ],
          "heatmapgl": [
           {
            "colorbar": {
             "outlinewidth": 0,
             "ticks": ""
            },
            "colorscale": [
             [
              0,
              "#0d0887"
             ],
             [
              0.1111111111111111,
              "#46039f"
             ],
             [
              0.2222222222222222,
              "#7201a8"
             ],
             [
              0.3333333333333333,
              "#9c179e"
             ],
             [
              0.4444444444444444,
              "#bd3786"
             ],
             [
              0.5555555555555556,
              "#d8576b"
             ],
             [
              0.6666666666666666,
              "#ed7953"
             ],
             [
              0.7777777777777778,
              "#fb9f3a"
             ],
             [
              0.8888888888888888,
              "#fdca26"
             ],
             [
              1,
              "#f0f921"
             ]
            ],
            "type": "heatmapgl"
           }
          ],
          "histogram": [
           {
            "marker": {
             "pattern": {
              "fillmode": "overlay",
              "size": 10,
              "solidity": 0.2
             }
            },
            "type": "histogram"
           }
          ],
          "histogram2d": [
           {
            "colorbar": {
             "outlinewidth": 0,
             "ticks": ""
            },
            "colorscale": [
             [
              0,
              "#0d0887"
             ],
             [
              0.1111111111111111,
              "#46039f"
             ],
             [
              0.2222222222222222,
              "#7201a8"
             ],
             [
              0.3333333333333333,
              "#9c179e"
             ],
             [
              0.4444444444444444,
              "#bd3786"
             ],
             [
              0.5555555555555556,
              "#d8576b"
             ],
             [
              0.6666666666666666,
              "#ed7953"
             ],
             [
              0.7777777777777778,
              "#fb9f3a"
             ],
             [
              0.8888888888888888,
              "#fdca26"
             ],
             [
              1,
              "#f0f921"
             ]
            ],
            "type": "histogram2d"
           }
          ],
          "histogram2dcontour": [
           {
            "colorbar": {
             "outlinewidth": 0,
             "ticks": ""
            },
            "colorscale": [
             [
              0,
              "#0d0887"
             ],
             [
              0.1111111111111111,
              "#46039f"
             ],
             [
              0.2222222222222222,
              "#7201a8"
             ],
             [
              0.3333333333333333,
              "#9c179e"
             ],
             [
              0.4444444444444444,
              "#bd3786"
             ],
             [
              0.5555555555555556,
              "#d8576b"
             ],
             [
              0.6666666666666666,
              "#ed7953"
             ],
             [
              0.7777777777777778,
              "#fb9f3a"
             ],
             [
              0.8888888888888888,
              "#fdca26"
             ],
             [
              1,
              "#f0f921"
             ]
            ],
            "type": "histogram2dcontour"
           }
          ],
          "mesh3d": [
           {
            "colorbar": {
             "outlinewidth": 0,
             "ticks": ""
            },
            "type": "mesh3d"
           }
          ],
          "parcoords": [
           {
            "line": {
             "colorbar": {
              "outlinewidth": 0,
              "ticks": ""
             }
            },
            "type": "parcoords"
           }
          ],
          "pie": [
           {
            "automargin": true,
            "type": "pie"
           }
          ],
          "scatter": [
           {
            "marker": {
             "colorbar": {
              "outlinewidth": 0,
              "ticks": ""
             }
            },
            "type": "scatter"
           }
          ],
          "scatter3d": [
           {
            "line": {
             "colorbar": {
              "outlinewidth": 0,
              "ticks": ""
             }
            },
            "marker": {
             "colorbar": {
              "outlinewidth": 0,
              "ticks": ""
             }
            },
            "type": "scatter3d"
           }
          ],
          "scattercarpet": [
           {
            "marker": {
             "colorbar": {
              "outlinewidth": 0,
              "ticks": ""
             }
            },
            "type": "scattercarpet"
           }
          ],
          "scattergeo": [
           {
            "marker": {
             "colorbar": {
              "outlinewidth": 0,
              "ticks": ""
             }
            },
            "type": "scattergeo"
           }
          ],
          "scattergl": [
           {
            "marker": {
             "colorbar": {
              "outlinewidth": 0,
              "ticks": ""
             }
            },
            "type": "scattergl"
           }
          ],
          "scattermapbox": [
           {
            "marker": {
             "colorbar": {
              "outlinewidth": 0,
              "ticks": ""
             }
            },
            "type": "scattermapbox"
           }
          ],
          "scatterpolar": [
           {
            "marker": {
             "colorbar": {
              "outlinewidth": 0,
              "ticks": ""
             }
            },
            "type": "scatterpolar"
           }
          ],
          "scatterpolargl": [
           {
            "marker": {
             "colorbar": {
              "outlinewidth": 0,
              "ticks": ""
             }
            },
            "type": "scatterpolargl"
           }
          ],
          "scatterternary": [
           {
            "marker": {
             "colorbar": {
              "outlinewidth": 0,
              "ticks": ""
             }
            },
            "type": "scatterternary"
           }
          ],
          "surface": [
           {
            "colorbar": {
             "outlinewidth": 0,
             "ticks": ""
            },
            "colorscale": [
             [
              0,
              "#0d0887"
             ],
             [
              0.1111111111111111,
              "#46039f"
             ],
             [
              0.2222222222222222,
              "#7201a8"
             ],
             [
              0.3333333333333333,
              "#9c179e"
             ],
             [
              0.4444444444444444,
              "#bd3786"
             ],
             [
              0.5555555555555556,
              "#d8576b"
             ],
             [
              0.6666666666666666,
              "#ed7953"
             ],
             [
              0.7777777777777778,
              "#fb9f3a"
             ],
             [
              0.8888888888888888,
              "#fdca26"
             ],
             [
              1,
              "#f0f921"
             ]
            ],
            "type": "surface"
           }
          ],
          "table": [
           {
            "cells": {
             "fill": {
              "color": "#EBF0F8"
             },
             "line": {
              "color": "white"
             }
            },
            "header": {
             "fill": {
              "color": "#C8D4E3"
             },
             "line": {
              "color": "white"
             }
            },
            "type": "table"
           }
          ]
         },
         "layout": {
          "annotationdefaults": {
           "arrowcolor": "#2a3f5f",
           "arrowhead": 0,
           "arrowwidth": 1
          },
          "autotypenumbers": "strict",
          "coloraxis": {
           "colorbar": {
            "outlinewidth": 0,
            "ticks": ""
           }
          },
          "colorscale": {
           "diverging": [
            [
             0,
             "#8e0152"
            ],
            [
             0.1,
             "#c51b7d"
            ],
            [
             0.2,
             "#de77ae"
            ],
            [
             0.3,
             "#f1b6da"
            ],
            [
             0.4,
             "#fde0ef"
            ],
            [
             0.5,
             "#f7f7f7"
            ],
            [
             0.6,
             "#e6f5d0"
            ],
            [
             0.7,
             "#b8e186"
            ],
            [
             0.8,
             "#7fbc41"
            ],
            [
             0.9,
             "#4d9221"
            ],
            [
             1,
             "#276419"
            ]
           ],
           "sequential": [
            [
             0,
             "#0d0887"
            ],
            [
             0.1111111111111111,
             "#46039f"
            ],
            [
             0.2222222222222222,
             "#7201a8"
            ],
            [
             0.3333333333333333,
             "#9c179e"
            ],
            [
             0.4444444444444444,
             "#bd3786"
            ],
            [
             0.5555555555555556,
             "#d8576b"
            ],
            [
             0.6666666666666666,
             "#ed7953"
            ],
            [
             0.7777777777777778,
             "#fb9f3a"
            ],
            [
             0.8888888888888888,
             "#fdca26"
            ],
            [
             1,
             "#f0f921"
            ]
           ],
           "sequentialminus": [
            [
             0,
             "#0d0887"
            ],
            [
             0.1111111111111111,
             "#46039f"
            ],
            [
             0.2222222222222222,
             "#7201a8"
            ],
            [
             0.3333333333333333,
             "#9c179e"
            ],
            [
             0.4444444444444444,
             "#bd3786"
            ],
            [
             0.5555555555555556,
             "#d8576b"
            ],
            [
             0.6666666666666666,
             "#ed7953"
            ],
            [
             0.7777777777777778,
             "#fb9f3a"
            ],
            [
             0.8888888888888888,
             "#fdca26"
            ],
            [
             1,
             "#f0f921"
            ]
           ]
          },
          "colorway": [
           "#636efa",
           "#EF553B",
           "#00cc96",
           "#ab63fa",
           "#FFA15A",
           "#19d3f3",
           "#FF6692",
           "#B6E880",
           "#FF97FF",
           "#FECB52"
          ],
          "font": {
           "color": "#2a3f5f"
          },
          "geo": {
           "bgcolor": "white",
           "lakecolor": "white",
           "landcolor": "#E5ECF6",
           "showlakes": true,
           "showland": true,
           "subunitcolor": "white"
          },
          "hoverlabel": {
           "align": "left"
          },
          "hovermode": "closest",
          "mapbox": {
           "style": "light"
          },
          "paper_bgcolor": "white",
          "plot_bgcolor": "#E5ECF6",
          "polar": {
           "angularaxis": {
            "gridcolor": "white",
            "linecolor": "white",
            "ticks": ""
           },
           "bgcolor": "#E5ECF6",
           "radialaxis": {
            "gridcolor": "white",
            "linecolor": "white",
            "ticks": ""
           }
          },
          "scene": {
           "xaxis": {
            "backgroundcolor": "#E5ECF6",
            "gridcolor": "white",
            "gridwidth": 2,
            "linecolor": "white",
            "showbackground": true,
            "ticks": "",
            "zerolinecolor": "white"
           },
           "yaxis": {
            "backgroundcolor": "#E5ECF6",
            "gridcolor": "white",
            "gridwidth": 2,
            "linecolor": "white",
            "showbackground": true,
            "ticks": "",
            "zerolinecolor": "white"
           },
           "zaxis": {
            "backgroundcolor": "#E5ECF6",
            "gridcolor": "white",
            "gridwidth": 2,
            "linecolor": "white",
            "showbackground": true,
            "ticks": "",
            "zerolinecolor": "white"
           }
          },
          "shapedefaults": {
           "line": {
            "color": "#2a3f5f"
           }
          },
          "ternary": {
           "aaxis": {
            "gridcolor": "white",
            "linecolor": "white",
            "ticks": ""
           },
           "baxis": {
            "gridcolor": "white",
            "linecolor": "white",
            "ticks": ""
           },
           "bgcolor": "#E5ECF6",
           "caxis": {
            "gridcolor": "white",
            "linecolor": "white",
            "ticks": ""
           }
          },
          "title": {
           "x": 0.05
          },
          "xaxis": {
           "automargin": true,
           "gridcolor": "white",
           "linecolor": "white",
           "ticks": "",
           "title": {
            "standoff": 15
           },
           "zerolinecolor": "white",
           "zerolinewidth": 2
          },
          "yaxis": {
           "automargin": true,
           "gridcolor": "white",
           "linecolor": "white",
           "ticks": "",
           "title": {
            "standoff": 15
           },
           "zerolinecolor": "white",
           "zerolinewidth": 2
          }
         }
        },
        "title": {
         "text": "Male vs Female vaccination"
        }
       }
      },
      "text/html": [
       "<div>                            <div id=\"44eb29dd-9a20-4e8e-b61d-a526ba60c680\" class=\"plotly-graph-div\" style=\"height:525px; width:100%;\"></div>            <script type=\"text/javascript\">                require([\"plotly\"], function(Plotly) {                    window.PLOTLYENV=window.PLOTLYENV || {};                                    if (document.getElementById(\"44eb29dd-9a20-4e8e-b61d-a526ba60c680\")) {                    Plotly.newPlot(                        \"44eb29dd-9a20-4e8e-b61d-a526ba60c680\",                        [{\"domain\":{\"x\":[0.0,1.0],\"y\":[0.0,1.0]},\"hovertemplate\":\"label=%{label}<br>value=%{value}<extra></extra>\",\"labels\":[\"Male\",\"Female\"],\"legendgroup\":\"\",\"name\":\"\",\"showlegend\":true,\"values\":[7138698858.0,6321628736.0],\"type\":\"pie\"}],                        {\"template\":{\"data\":{\"bar\":[{\"error_x\":{\"color\":\"#2a3f5f\"},\"error_y\":{\"color\":\"#2a3f5f\"},\"marker\":{\"line\":{\"color\":\"#E5ECF6\",\"width\":0.5},\"pattern\":{\"fillmode\":\"overlay\",\"size\":10,\"solidity\":0.2}},\"type\":\"bar\"}],\"barpolar\":[{\"marker\":{\"line\":{\"color\":\"#E5ECF6\",\"width\":0.5},\"pattern\":{\"fillmode\":\"overlay\",\"size\":10,\"solidity\":0.2}},\"type\":\"barpolar\"}],\"carpet\":[{\"aaxis\":{\"endlinecolor\":\"#2a3f5f\",\"gridcolor\":\"white\",\"linecolor\":\"white\",\"minorgridcolor\":\"white\",\"startlinecolor\":\"#2a3f5f\"},\"baxis\":{\"endlinecolor\":\"#2a3f5f\",\"gridcolor\":\"white\",\"linecolor\":\"white\",\"minorgridcolor\":\"white\",\"startlinecolor\":\"#2a3f5f\"},\"type\":\"carpet\"}],\"choropleth\":[{\"colorbar\":{\"outlinewidth\":0,\"ticks\":\"\"},\"type\":\"choropleth\"}],\"contour\":[{\"colorbar\":{\"outlinewidth\":0,\"ticks\":\"\"},\"colorscale\":[[0.0,\"#0d0887\"],[0.1111111111111111,\"#46039f\"],[0.2222222222222222,\"#7201a8\"],[0.3333333333333333,\"#9c179e\"],[0.4444444444444444,\"#bd3786\"],[0.5555555555555556,\"#d8576b\"],[0.6666666666666666,\"#ed7953\"],[0.7777777777777778,\"#fb9f3a\"],[0.8888888888888888,\"#fdca26\"],[1.0,\"#f0f921\"]],\"type\":\"contour\"}],\"contourcarpet\":[{\"colorbar\":{\"outlinewidth\":0,\"ticks\":\"\"},\"type\":\"contourcarpet\"}],\"heatmap\":[{\"colorbar\":{\"outlinewidth\":0,\"ticks\":\"\"},\"colorscale\":[[0.0,\"#0d0887\"],[0.1111111111111111,\"#46039f\"],[0.2222222222222222,\"#7201a8\"],[0.3333333333333333,\"#9c179e\"],[0.4444444444444444,\"#bd3786\"],[0.5555555555555556,\"#d8576b\"],[0.6666666666666666,\"#ed7953\"],[0.7777777777777778,\"#fb9f3a\"],[0.8888888888888888,\"#fdca26\"],[1.0,\"#f0f921\"]],\"type\":\"heatmap\"}],\"heatmapgl\":[{\"colorbar\":{\"outlinewidth\":0,\"ticks\":\"\"},\"colorscale\":[[0.0,\"#0d0887\"],[0.1111111111111111,\"#46039f\"],[0.2222222222222222,\"#7201a8\"],[0.3333333333333333,\"#9c179e\"],[0.4444444444444444,\"#bd3786\"],[0.5555555555555556,\"#d8576b\"],[0.6666666666666666,\"#ed7953\"],[0.7777777777777778,\"#fb9f3a\"],[0.8888888888888888,\"#fdca26\"],[1.0,\"#f0f921\"]],\"type\":\"heatmapgl\"}],\"histogram\":[{\"marker\":{\"pattern\":{\"fillmode\":\"overlay\",\"size\":10,\"solidity\":0.2}},\"type\":\"histogram\"}],\"histogram2d\":[{\"colorbar\":{\"outlinewidth\":0,\"ticks\":\"\"},\"colorscale\":[[0.0,\"#0d0887\"],[0.1111111111111111,\"#46039f\"],[0.2222222222222222,\"#7201a8\"],[0.3333333333333333,\"#9c179e\"],[0.4444444444444444,\"#bd3786\"],[0.5555555555555556,\"#d8576b\"],[0.6666666666666666,\"#ed7953\"],[0.7777777777777778,\"#fb9f3a\"],[0.8888888888888888,\"#fdca26\"],[1.0,\"#f0f921\"]],\"type\":\"histogram2d\"}],\"histogram2dcontour\":[{\"colorbar\":{\"outlinewidth\":0,\"ticks\":\"\"},\"colorscale\":[[0.0,\"#0d0887\"],[0.1111111111111111,\"#46039f\"],[0.2222222222222222,\"#7201a8\"],[0.3333333333333333,\"#9c179e\"],[0.4444444444444444,\"#bd3786\"],[0.5555555555555556,\"#d8576b\"],[0.6666666666666666,\"#ed7953\"],[0.7777777777777778,\"#fb9f3a\"],[0.8888888888888888,\"#fdca26\"],[1.0,\"#f0f921\"]],\"type\":\"histogram2dcontour\"}],\"mesh3d\":[{\"colorbar\":{\"outlinewidth\":0,\"ticks\":\"\"},\"type\":\"mesh3d\"}],\"parcoords\":[{\"line\":{\"colorbar\":{\"outlinewidth\":0,\"ticks\":\"\"}},\"type\":\"parcoords\"}],\"pie\":[{\"automargin\":true,\"type\":\"pie\"}],\"scatter\":[{\"marker\":{\"colorbar\":{\"outlinewidth\":0,\"ticks\":\"\"}},\"type\":\"scatter\"}],\"scatter3d\":[{\"line\":{\"colorbar\":{\"outlinewidth\":0,\"ticks\":\"\"}},\"marker\":{\"colorbar\":{\"outlinewidth\":0,\"ticks\":\"\"}},\"type\":\"scatter3d\"}],\"scattercarpet\":[{\"marker\":{\"colorbar\":{\"outlinewidth\":0,\"ticks\":\"\"}},\"type\":\"scattercarpet\"}],\"scattergeo\":[{\"marker\":{\"colorbar\":{\"outlinewidth\":0,\"ticks\":\"\"}},\"type\":\"scattergeo\"}],\"scattergl\":[{\"marker\":{\"colorbar\":{\"outlinewidth\":0,\"ticks\":\"\"}},\"type\":\"scattergl\"}],\"scattermapbox\":[{\"marker\":{\"colorbar\":{\"outlinewidth\":0,\"ticks\":\"\"}},\"type\":\"scattermapbox\"}],\"scatterpolar\":[{\"marker\":{\"colorbar\":{\"outlinewidth\":0,\"ticks\":\"\"}},\"type\":\"scatterpolar\"}],\"scatterpolargl\":[{\"marker\":{\"colorbar\":{\"outlinewidth\":0,\"ticks\":\"\"}},\"type\":\"scatterpolargl\"}],\"scatterternary\":[{\"marker\":{\"colorbar\":{\"outlinewidth\":0,\"ticks\":\"\"}},\"type\":\"scatterternary\"}],\"surface\":[{\"colorbar\":{\"outlinewidth\":0,\"ticks\":\"\"},\"colorscale\":[[0.0,\"#0d0887\"],[0.1111111111111111,\"#46039f\"],[0.2222222222222222,\"#7201a8\"],[0.3333333333333333,\"#9c179e\"],[0.4444444444444444,\"#bd3786\"],[0.5555555555555556,\"#d8576b\"],[0.6666666666666666,\"#ed7953\"],[0.7777777777777778,\"#fb9f3a\"],[0.8888888888888888,\"#fdca26\"],[1.0,\"#f0f921\"]],\"type\":\"surface\"}],\"table\":[{\"cells\":{\"fill\":{\"color\":\"#EBF0F8\"},\"line\":{\"color\":\"white\"}},\"header\":{\"fill\":{\"color\":\"#C8D4E3\"},\"line\":{\"color\":\"white\"}},\"type\":\"table\"}]},\"layout\":{\"annotationdefaults\":{\"arrowcolor\":\"#2a3f5f\",\"arrowhead\":0,\"arrowwidth\":1},\"autotypenumbers\":\"strict\",\"coloraxis\":{\"colorbar\":{\"outlinewidth\":0,\"ticks\":\"\"}},\"colorscale\":{\"diverging\":[[0,\"#8e0152\"],[0.1,\"#c51b7d\"],[0.2,\"#de77ae\"],[0.3,\"#f1b6da\"],[0.4,\"#fde0ef\"],[0.5,\"#f7f7f7\"],[0.6,\"#e6f5d0\"],[0.7,\"#b8e186\"],[0.8,\"#7fbc41\"],[0.9,\"#4d9221\"],[1,\"#276419\"]],\"sequential\":[[0.0,\"#0d0887\"],[0.1111111111111111,\"#46039f\"],[0.2222222222222222,\"#7201a8\"],[0.3333333333333333,\"#9c179e\"],[0.4444444444444444,\"#bd3786\"],[0.5555555555555556,\"#d8576b\"],[0.6666666666666666,\"#ed7953\"],[0.7777777777777778,\"#fb9f3a\"],[0.8888888888888888,\"#fdca26\"],[1.0,\"#f0f921\"]],\"sequentialminus\":[[0.0,\"#0d0887\"],[0.1111111111111111,\"#46039f\"],[0.2222222222222222,\"#7201a8\"],[0.3333333333333333,\"#9c179e\"],[0.4444444444444444,\"#bd3786\"],[0.5555555555555556,\"#d8576b\"],[0.6666666666666666,\"#ed7953\"],[0.7777777777777778,\"#fb9f3a\"],[0.8888888888888888,\"#fdca26\"],[1.0,\"#f0f921\"]]},\"colorway\":[\"#636efa\",\"#EF553B\",\"#00cc96\",\"#ab63fa\",\"#FFA15A\",\"#19d3f3\",\"#FF6692\",\"#B6E880\",\"#FF97FF\",\"#FECB52\"],\"font\":{\"color\":\"#2a3f5f\"},\"geo\":{\"bgcolor\":\"white\",\"lakecolor\":\"white\",\"landcolor\":\"#E5ECF6\",\"showlakes\":true,\"showland\":true,\"subunitcolor\":\"white\"},\"hoverlabel\":{\"align\":\"left\"},\"hovermode\":\"closest\",\"mapbox\":{\"style\":\"light\"},\"paper_bgcolor\":\"white\",\"plot_bgcolor\":\"#E5ECF6\",\"polar\":{\"angularaxis\":{\"gridcolor\":\"white\",\"linecolor\":\"white\",\"ticks\":\"\"},\"bgcolor\":\"#E5ECF6\",\"radialaxis\":{\"gridcolor\":\"white\",\"linecolor\":\"white\",\"ticks\":\"\"}},\"scene\":{\"xaxis\":{\"backgroundcolor\":\"#E5ECF6\",\"gridcolor\":\"white\",\"gridwidth\":2,\"linecolor\":\"white\",\"showbackground\":true,\"ticks\":\"\",\"zerolinecolor\":\"white\"},\"yaxis\":{\"backgroundcolor\":\"#E5ECF6\",\"gridcolor\":\"white\",\"gridwidth\":2,\"linecolor\":\"white\",\"showbackground\":true,\"ticks\":\"\",\"zerolinecolor\":\"white\"},\"zaxis\":{\"backgroundcolor\":\"#E5ECF6\",\"gridcolor\":\"white\",\"gridwidth\":2,\"linecolor\":\"white\",\"showbackground\":true,\"ticks\":\"\",\"zerolinecolor\":\"white\"}},\"shapedefaults\":{\"line\":{\"color\":\"#2a3f5f\"}},\"ternary\":{\"aaxis\":{\"gridcolor\":\"white\",\"linecolor\":\"white\",\"ticks\":\"\"},\"baxis\":{\"gridcolor\":\"white\",\"linecolor\":\"white\",\"ticks\":\"\"},\"bgcolor\":\"#E5ECF6\",\"caxis\":{\"gridcolor\":\"white\",\"linecolor\":\"white\",\"ticks\":\"\"}},\"title\":{\"x\":0.05},\"xaxis\":{\"automargin\":true,\"gridcolor\":\"white\",\"linecolor\":\"white\",\"ticks\":\"\",\"title\":{\"standoff\":15},\"zerolinecolor\":\"white\",\"zerolinewidth\":2},\"yaxis\":{\"automargin\":true,\"gridcolor\":\"white\",\"linecolor\":\"white\",\"ticks\":\"\",\"title\":{\"standoff\":15},\"zerolinecolor\":\"white\",\"zerolinewidth\":2}}},\"legend\":{\"tracegroupgap\":0},\"title\":{\"text\":\"Male vs Female vaccination\"}},                        {\"responsive\": true}                    ).then(function(){\n",
       "                            \n",
       "var gd = document.getElementById('44eb29dd-9a20-4e8e-b61d-a526ba60c680');\n",
       "var x = new MutationObserver(function (mutations, observer) {{\n",
       "        var display = window.getComputedStyle(gd).display;\n",
       "        if (!display || display === 'none') {{\n",
       "            console.log([gd, 'removed!']);\n",
       "            Plotly.purge(gd);\n",
       "            observer.disconnect();\n",
       "        }}\n",
       "}});\n",
       "\n",
       "// Listen for the removal of the full notebook cells\n",
       "var notebookContainer = gd.closest('#notebook-container');\n",
       "if (notebookContainer) {{\n",
       "    x.observe(notebookContainer, {childList: true});\n",
       "}}\n",
       "\n",
       "// Listen for the clearing of the current output cell\n",
       "var outputEl = gd.closest('.output');\n",
       "if (outputEl) {{\n",
       "    x.observe(outputEl, {childList: true});\n",
       "}}\n",
       "\n",
       "                        })                };                });            </script>        </div>"
      ]
     },
     "metadata": {},
     "output_type": "display_data"
    }
   ],
   "source": [
    "##for interactive charts plotly function px is used\n",
    "\n",
    "px.pie(names=['Male','Female'],values=[vaccine_male,vaccine_female],title='Male vs Female vaccination')"
   ]
  },
  {
   "cell_type": "markdown",
   "id": "2b23e790",
   "metadata": {},
   "source": [
    "## Conclusion\n",
    "\n",
    "47% of female citizens in india are vaccinated whereas 53% of male citizens have been vaccinated"
   ]
  },
  {
   "cell_type": "code",
   "execution_count": 160,
   "id": "4938405a",
   "metadata": {},
   "outputs": [
    {
     "data": {
      "text/html": [
       "<div>\n",
       "<style scoped>\n",
       "    .dataframe tbody tr th:only-of-type {\n",
       "        vertical-align: middle;\n",
       "    }\n",
       "\n",
       "    .dataframe tbody tr th {\n",
       "        vertical-align: top;\n",
       "    }\n",
       "\n",
       "    .dataframe thead th {\n",
       "        text-align: right;\n",
       "    }\n",
       "</style>\n",
       "<table border=\"1\" class=\"dataframe\">\n",
       "  <thead>\n",
       "    <tr style=\"text-align: right;\">\n",
       "      <th></th>\n",
       "      <th>vaccine_date</th>\n",
       "      <th>State</th>\n",
       "      <th>Total Doses Administered</th>\n",
       "      <th>Sessions</th>\n",
       "      <th>Sites</th>\n",
       "      <th>First Dose Administered</th>\n",
       "      <th>Second Dose Administered</th>\n",
       "      <th>Male (Doses Administered)</th>\n",
       "      <th>Female (Doses Administered)</th>\n",
       "      <th>Transgender (Doses Administered)</th>\n",
       "      <th>...</th>\n",
       "      <th>18-44 Years (Doses Administered)</th>\n",
       "      <th>45-60 Years (Doses Administered)</th>\n",
       "      <th>60+ Years (Doses Administered)</th>\n",
       "      <th>18-44 Years(Individuals Vaccinated)</th>\n",
       "      <th>45-60 Years(Individuals Vaccinated)</th>\n",
       "      <th>60+ Years(Individuals Vaccinated)</th>\n",
       "      <th>Male(Individuals Vaccinated)</th>\n",
       "      <th>Female(Individuals Vaccinated)</th>\n",
       "      <th>Transgender(Individuals Vaccinated)</th>\n",
       "      <th>Total Individuals Vaccinated</th>\n",
       "    </tr>\n",
       "  </thead>\n",
       "  <tbody>\n",
       "    <tr>\n",
       "      <th>0</th>\n",
       "      <td>16-01-2021</td>\n",
       "      <td>India</td>\n",
       "      <td>48276.0</td>\n",
       "      <td>3455.0</td>\n",
       "      <td>2957.0</td>\n",
       "      <td>48276.0</td>\n",
       "      <td>0.0</td>\n",
       "      <td>NaN</td>\n",
       "      <td>NaN</td>\n",
       "      <td>NaN</td>\n",
       "      <td>...</td>\n",
       "      <td>NaN</td>\n",
       "      <td>NaN</td>\n",
       "      <td>NaN</td>\n",
       "      <td>NaN</td>\n",
       "      <td>NaN</td>\n",
       "      <td>NaN</td>\n",
       "      <td>23757.0</td>\n",
       "      <td>24517.0</td>\n",
       "      <td>2.0</td>\n",
       "      <td>48276.0</td>\n",
       "    </tr>\n",
       "    <tr>\n",
       "      <th>1</th>\n",
       "      <td>17-01-2021</td>\n",
       "      <td>India</td>\n",
       "      <td>58604.0</td>\n",
       "      <td>8532.0</td>\n",
       "      <td>4954.0</td>\n",
       "      <td>58604.0</td>\n",
       "      <td>0.0</td>\n",
       "      <td>NaN</td>\n",
       "      <td>NaN</td>\n",
       "      <td>NaN</td>\n",
       "      <td>...</td>\n",
       "      <td>NaN</td>\n",
       "      <td>NaN</td>\n",
       "      <td>NaN</td>\n",
       "      <td>NaN</td>\n",
       "      <td>NaN</td>\n",
       "      <td>NaN</td>\n",
       "      <td>27348.0</td>\n",
       "      <td>31252.0</td>\n",
       "      <td>4.0</td>\n",
       "      <td>58604.0</td>\n",
       "    </tr>\n",
       "    <tr>\n",
       "      <th>2</th>\n",
       "      <td>18-01-2021</td>\n",
       "      <td>India</td>\n",
       "      <td>99449.0</td>\n",
       "      <td>13611.0</td>\n",
       "      <td>6583.0</td>\n",
       "      <td>99449.0</td>\n",
       "      <td>0.0</td>\n",
       "      <td>NaN</td>\n",
       "      <td>NaN</td>\n",
       "      <td>NaN</td>\n",
       "      <td>...</td>\n",
       "      <td>NaN</td>\n",
       "      <td>NaN</td>\n",
       "      <td>NaN</td>\n",
       "      <td>NaN</td>\n",
       "      <td>NaN</td>\n",
       "      <td>NaN</td>\n",
       "      <td>41361.0</td>\n",
       "      <td>58083.0</td>\n",
       "      <td>5.0</td>\n",
       "      <td>99449.0</td>\n",
       "    </tr>\n",
       "  </tbody>\n",
       "</table>\n",
       "<p>3 rows × 24 columns</p>\n",
       "</div>"
      ],
      "text/plain": [
       "  vaccine_date  State  Total Doses Administered  Sessions  Sites   \\\n",
       "0   16-01-2021  India                   48276.0    3455.0  2957.0   \n",
       "1   17-01-2021  India                   58604.0    8532.0  4954.0   \n",
       "2   18-01-2021  India                   99449.0   13611.0  6583.0   \n",
       "\n",
       "   First Dose Administered  Second Dose Administered  \\\n",
       "0                  48276.0                       0.0   \n",
       "1                  58604.0                       0.0   \n",
       "2                  99449.0                       0.0   \n",
       "\n",
       "   Male (Doses Administered)  Female (Doses Administered)  \\\n",
       "0                        NaN                          NaN   \n",
       "1                        NaN                          NaN   \n",
       "2                        NaN                          NaN   \n",
       "\n",
       "   Transgender (Doses Administered)  ...  18-44 Years (Doses Administered)  \\\n",
       "0                               NaN  ...                               NaN   \n",
       "1                               NaN  ...                               NaN   \n",
       "2                               NaN  ...                               NaN   \n",
       "\n",
       "   45-60 Years (Doses Administered)  60+ Years (Doses Administered)  \\\n",
       "0                               NaN                             NaN   \n",
       "1                               NaN                             NaN   \n",
       "2                               NaN                             NaN   \n",
       "\n",
       "   18-44 Years(Individuals Vaccinated)  45-60 Years(Individuals Vaccinated)  \\\n",
       "0                                  NaN                                  NaN   \n",
       "1                                  NaN                                  NaN   \n",
       "2                                  NaN                                  NaN   \n",
       "\n",
       "   60+ Years(Individuals Vaccinated)  Male(Individuals Vaccinated)  \\\n",
       "0                                NaN                       23757.0   \n",
       "1                                NaN                       27348.0   \n",
       "2                                NaN                       41361.0   \n",
       "\n",
       "   Female(Individuals Vaccinated)  Transgender(Individuals Vaccinated)  \\\n",
       "0                         24517.0                                  2.0   \n",
       "1                         31252.0                                  4.0   \n",
       "2                         58083.0                                  5.0   \n",
       "\n",
       "   Total Individuals Vaccinated  \n",
       "0                       48276.0  \n",
       "1                       58604.0  \n",
       "2                       99449.0  \n",
       "\n",
       "[3 rows x 24 columns]"
      ]
     },
     "execution_count": 160,
     "metadata": {},
     "output_type": "execute_result"
    }
   ],
   "source": [
    "vaccine_df.head(3)"
   ]
  },
  {
   "cell_type": "code",
   "execution_count": 163,
   "id": "8a39b107",
   "metadata": {},
   "outputs": [],
   "source": [
    "##remove rows with state as india\n",
    "\n",
    "vaccine=vaccine_df[vaccine_df['State']!='India']"
   ]
  },
  {
   "cell_type": "code",
   "execution_count": 167,
   "id": "b6227927",
   "metadata": {},
   "outputs": [
    {
     "data": {
      "text/plain": [
       "Series([], dtype: int64)"
      ]
     },
     "execution_count": 167,
     "metadata": {},
     "output_type": "execute_result"
    }
   ],
   "source": [
    "##checking if the values are removed\n",
    "\n",
    "vaccine[vaccine['State']=='India'].value_counts()"
   ]
  },
  {
   "cell_type": "code",
   "execution_count": 170,
   "id": "5728665b",
   "metadata": {},
   "outputs": [
    {
     "name": "stderr",
     "output_type": "stream",
     "text": [
      "C:\\Users\\789456\\AppData\\Local\\Temp\\ipykernel_5992\\2103419069.py:1: SettingWithCopyWarning:\n",
      "\n",
      "\n",
      "A value is trying to be set on a copy of a slice from a DataFrame\n",
      "\n",
      "See the caveats in the documentation: https://pandas.pydata.org/pandas-docs/stable/user_guide/indexing.html#returning-a-view-versus-a-copy\n",
      "\n"
     ]
    }
   ],
   "source": [
    "vaccine.rename(columns={'Total Individuals Vaccinated':'Total'},inplace=True)"
   ]
  },
  {
   "cell_type": "code",
   "execution_count": 175,
   "id": "0e0ab00f",
   "metadata": {},
   "outputs": [
    {
     "data": {
      "text/html": [
       "<div>\n",
       "<style scoped>\n",
       "    .dataframe tbody tr th:only-of-type {\n",
       "        vertical-align: middle;\n",
       "    }\n",
       "\n",
       "    .dataframe tbody tr th {\n",
       "        vertical-align: top;\n",
       "    }\n",
       "\n",
       "    .dataframe thead th {\n",
       "        text-align: right;\n",
       "    }\n",
       "</style>\n",
       "<table border=\"1\" class=\"dataframe\">\n",
       "  <thead>\n",
       "    <tr style=\"text-align: right;\">\n",
       "      <th></th>\n",
       "      <th>vaccine_date</th>\n",
       "      <th>State</th>\n",
       "      <th>Total Doses Administered</th>\n",
       "      <th>Sessions</th>\n",
       "      <th>Sites</th>\n",
       "      <th>First Dose Administered</th>\n",
       "      <th>Second Dose Administered</th>\n",
       "      <th>Male (Doses Administered)</th>\n",
       "      <th>Female (Doses Administered)</th>\n",
       "      <th>Transgender (Doses Administered)</th>\n",
       "      <th>...</th>\n",
       "      <th>18-44 Years (Doses Administered)</th>\n",
       "      <th>45-60 Years (Doses Administered)</th>\n",
       "      <th>60+ Years (Doses Administered)</th>\n",
       "      <th>18-44 Years(Individuals Vaccinated)</th>\n",
       "      <th>45-60 Years(Individuals Vaccinated)</th>\n",
       "      <th>60+ Years(Individuals Vaccinated)</th>\n",
       "      <th>Male(Individuals Vaccinated)</th>\n",
       "      <th>Female(Individuals Vaccinated)</th>\n",
       "      <th>Transgender(Individuals Vaccinated)</th>\n",
       "      <th>Total</th>\n",
       "    </tr>\n",
       "  </thead>\n",
       "  <tbody>\n",
       "    <tr>\n",
       "      <th>212</th>\n",
       "      <td>16-01-2021</td>\n",
       "      <td>Andaman and Nicobar Islands</td>\n",
       "      <td>23.0</td>\n",
       "      <td>2.0</td>\n",
       "      <td>2.0</td>\n",
       "      <td>23.0</td>\n",
       "      <td>0.0</td>\n",
       "      <td>12.0</td>\n",
       "      <td>11.0</td>\n",
       "      <td>0.0</td>\n",
       "      <td>...</td>\n",
       "      <td>NaN</td>\n",
       "      <td>NaN</td>\n",
       "      <td>NaN</td>\n",
       "      <td>NaN</td>\n",
       "      <td>NaN</td>\n",
       "      <td>NaN</td>\n",
       "      <td>NaN</td>\n",
       "      <td>NaN</td>\n",
       "      <td>NaN</td>\n",
       "      <td>23.0</td>\n",
       "    </tr>\n",
       "    <tr>\n",
       "      <th>213</th>\n",
       "      <td>17-01-2021</td>\n",
       "      <td>Andaman and Nicobar Islands</td>\n",
       "      <td>23.0</td>\n",
       "      <td>2.0</td>\n",
       "      <td>2.0</td>\n",
       "      <td>23.0</td>\n",
       "      <td>0.0</td>\n",
       "      <td>12.0</td>\n",
       "      <td>11.0</td>\n",
       "      <td>0.0</td>\n",
       "      <td>...</td>\n",
       "      <td>NaN</td>\n",
       "      <td>NaN</td>\n",
       "      <td>NaN</td>\n",
       "      <td>NaN</td>\n",
       "      <td>NaN</td>\n",
       "      <td>NaN</td>\n",
       "      <td>NaN</td>\n",
       "      <td>NaN</td>\n",
       "      <td>NaN</td>\n",
       "      <td>23.0</td>\n",
       "    </tr>\n",
       "  </tbody>\n",
       "</table>\n",
       "<p>2 rows × 24 columns</p>\n",
       "</div>"
      ],
      "text/plain": [
       "    vaccine_date                        State  Total Doses Administered  \\\n",
       "212   16-01-2021  Andaman and Nicobar Islands                      23.0   \n",
       "213   17-01-2021  Andaman and Nicobar Islands                      23.0   \n",
       "\n",
       "     Sessions  Sites   First Dose Administered  Second Dose Administered  \\\n",
       "212       2.0     2.0                     23.0                       0.0   \n",
       "213       2.0     2.0                     23.0                       0.0   \n",
       "\n",
       "     Male (Doses Administered)  Female (Doses Administered)  \\\n",
       "212                       12.0                         11.0   \n",
       "213                       12.0                         11.0   \n",
       "\n",
       "     Transgender (Doses Administered)  ...  18-44 Years (Doses Administered)  \\\n",
       "212                               0.0  ...                               NaN   \n",
       "213                               0.0  ...                               NaN   \n",
       "\n",
       "     45-60 Years (Doses Administered)  60+ Years (Doses Administered)  \\\n",
       "212                               NaN                             NaN   \n",
       "213                               NaN                             NaN   \n",
       "\n",
       "     18-44 Years(Individuals Vaccinated)  45-60 Years(Individuals Vaccinated)  \\\n",
       "212                                  NaN                                  NaN   \n",
       "213                                  NaN                                  NaN   \n",
       "\n",
       "     60+ Years(Individuals Vaccinated)  Male(Individuals Vaccinated)  \\\n",
       "212                                NaN                           NaN   \n",
       "213                                NaN                           NaN   \n",
       "\n",
       "     Female(Individuals Vaccinated)  Transgender(Individuals Vaccinated)  \\\n",
       "212                             NaN                                  NaN   \n",
       "213                             NaN                                  NaN   \n",
       "\n",
       "     Total  \n",
       "212   23.0  \n",
       "213   23.0  \n",
       "\n",
       "[2 rows x 24 columns]"
      ]
     },
     "execution_count": 175,
     "metadata": {},
     "output_type": "execute_result"
    }
   ],
   "source": [
    "vaccine.head(2)"
   ]
  },
  {
   "cell_type": "code",
   "execution_count": 181,
   "id": "470012c0",
   "metadata": {},
   "outputs": [],
   "source": [
    "##state with maximum vaccinated individuals\n",
    "vaccine_max=vaccine.groupby('State')['Total'].sum().to_frame('Total')\n"
   ]
  },
  {
   "cell_type": "code",
   "execution_count": 204,
   "id": "534980ce",
   "metadata": {},
   "outputs": [],
   "source": [
    "##checking what it does\n",
    "\n",
    "##vaccine_max.to_frame('Total')\n",
    "\n",
    "\n",
    "\n"
   ]
  },
  {
   "cell_type": "code",
   "execution_count": 182,
   "id": "206eb5db",
   "metadata": {},
   "outputs": [
    {
     "data": {
      "text/html": [
       "<div>\n",
       "<style scoped>\n",
       "    .dataframe tbody tr th:only-of-type {\n",
       "        vertical-align: middle;\n",
       "    }\n",
       "\n",
       "    .dataframe tbody tr th {\n",
       "        vertical-align: top;\n",
       "    }\n",
       "\n",
       "    .dataframe thead th {\n",
       "        text-align: right;\n",
       "    }\n",
       "</style>\n",
       "<table border=\"1\" class=\"dataframe\">\n",
       "  <thead>\n",
       "    <tr style=\"text-align: right;\">\n",
       "      <th></th>\n",
       "      <th>Total</th>\n",
       "    </tr>\n",
       "    <tr>\n",
       "      <th>State</th>\n",
       "      <th></th>\n",
       "    </tr>\n",
       "  </thead>\n",
       "  <tbody>\n",
       "    <tr>\n",
       "      <th>Andaman and Nicobar Islands</th>\n",
       "      <td>8102125.0</td>\n",
       "    </tr>\n",
       "    <tr>\n",
       "      <th>Andhra Pradesh</th>\n",
       "      <td>564591113.0</td>\n",
       "    </tr>\n",
       "  </tbody>\n",
       "</table>\n",
       "</div>"
      ],
      "text/plain": [
       "                                   Total\n",
       "State                                   \n",
       "Andaman and Nicobar Islands    8102125.0\n",
       "Andhra Pradesh               564591113.0"
      ]
     },
     "execution_count": 182,
     "metadata": {},
     "output_type": "execute_result"
    }
   ],
   "source": [
    "vaccine_max.head(2)"
   ]
  },
  {
   "cell_type": "code",
   "execution_count": 186,
   "id": "d3cb9030",
   "metadata": {},
   "outputs": [],
   "source": [
    "vaccine_max=vaccine_max.sort_values('Total',ascending=False)[:5]"
   ]
  },
  {
   "cell_type": "code",
   "execution_count": 188,
   "id": "381beb14",
   "metadata": {},
   "outputs": [
    {
     "data": {
      "text/html": [
       "<div>\n",
       "<style scoped>\n",
       "    .dataframe tbody tr th:only-of-type {\n",
       "        vertical-align: middle;\n",
       "    }\n",
       "\n",
       "    .dataframe tbody tr th {\n",
       "        vertical-align: top;\n",
       "    }\n",
       "\n",
       "    .dataframe thead th {\n",
       "        text-align: right;\n",
       "    }\n",
       "</style>\n",
       "<table border=\"1\" class=\"dataframe\">\n",
       "  <thead>\n",
       "    <tr style=\"text-align: right;\">\n",
       "      <th></th>\n",
       "      <th>Total</th>\n",
       "    </tr>\n",
       "    <tr>\n",
       "      <th>State</th>\n",
       "      <th></th>\n",
       "    </tr>\n",
       "  </thead>\n",
       "  <tbody>\n",
       "    <tr>\n",
       "      <th>Maharashtra</th>\n",
       "      <td>1.403075e+09</td>\n",
       "    </tr>\n",
       "    <tr>\n",
       "      <th>Uttar Pradesh</th>\n",
       "      <td>1.200575e+09</td>\n",
       "    </tr>\n",
       "    <tr>\n",
       "      <th>Rajasthan</th>\n",
       "      <td>1.141163e+09</td>\n",
       "    </tr>\n",
       "    <tr>\n",
       "      <th>Gujarat</th>\n",
       "      <td>1.078261e+09</td>\n",
       "    </tr>\n",
       "    <tr>\n",
       "      <th>West Bengal</th>\n",
       "      <td>9.250227e+08</td>\n",
       "    </tr>\n",
       "  </tbody>\n",
       "</table>\n",
       "</div>"
      ],
      "text/plain": [
       "                      Total\n",
       "State                      \n",
       "Maharashtra    1.403075e+09\n",
       "Uttar Pradesh  1.200575e+09\n",
       "Rajasthan      1.141163e+09\n",
       "Gujarat        1.078261e+09\n",
       "West Bengal    9.250227e+08"
      ]
     },
     "execution_count": 188,
     "metadata": {},
     "output_type": "execute_result"
    }
   ],
   "source": [
    "vaccine_max.iloc[:10]"
   ]
  },
  {
   "cell_type": "code",
   "execution_count": 207,
   "id": "b101dbfa",
   "metadata": {},
   "outputs": [
    {
     "data": {
      "text/plain": [
       "<AxesSubplot:title={'center':'Top 5 most vaccinated states'}, xlabel='State', ylabel='Total'>"
      ]
     },
     "execution_count": 207,
     "metadata": {},
     "output_type": "execute_result"
    },
    {
     "data": {
      "image/png": "[encoded data removed]",
      "text/plain": [
       "<Figure size 1008x504 with 1 Axes>"
      ]
     },
     "metadata": {
      "needs_background": "light"
     },
     "output_type": "display_data"
    }
   ],
   "source": [
    "plt.title('Top 5 most vaccinated states')\n",
    "sns.barplot(x=vaccine_max.index,y=vaccine_max.Total,data=vaccine_max)"
   ]
  },
  {
   "cell_type": "markdown",
   "id": "3605e5c4",
   "metadata": {},
   "source": [
    "### Conclusion\n",
    "\n",
    "The maximum no of vaccinations have occured in Maharashtra."
   ]
  },
  {
   "cell_type": "markdown",
   "id": "721e591a",
   "metadata": {},
   "source": [
    "## states with least no of vaccination\n",
    "\n"
   ]
  },
  {
   "cell_type": "code",
   "execution_count": 248,
   "id": "fda9664f",
   "metadata": {},
   "outputs": [
    {
     "data": {
      "text/html": [
       "<div>\n",
       "<style scoped>\n",
       "    .dataframe tbody tr th:only-of-type {\n",
       "        vertical-align: middle;\n",
       "    }\n",
       "\n",
       "    .dataframe tbody tr th {\n",
       "        vertical-align: top;\n",
       "    }\n",
       "\n",
       "    .dataframe thead th {\n",
       "        text-align: right;\n",
       "    }\n",
       "</style>\n",
       "<table border=\"1\" class=\"dataframe\">\n",
       "  <thead>\n",
       "    <tr style=\"text-align: right;\">\n",
       "      <th></th>\n",
       "      <th>Total</th>\n",
       "    </tr>\n",
       "    <tr>\n",
       "      <th>State</th>\n",
       "      <th></th>\n",
       "    </tr>\n",
       "  </thead>\n",
       "  <tbody>\n",
       "    <tr>\n",
       "      <th>Andaman and Nicobar Islands</th>\n",
       "      <td>8102125.0</td>\n",
       "    </tr>\n",
       "    <tr>\n",
       "      <th>Andhra Pradesh</th>\n",
       "      <td>564591113.0</td>\n",
       "    </tr>\n",
       "    <tr>\n",
       "      <th>Arunachal Pradesh</th>\n",
       "      <td>21081557.0</td>\n",
       "    </tr>\n",
       "    <tr>\n",
       "      <th>Assam</th>\n",
       "      <td>239769091.0</td>\n",
       "    </tr>\n",
       "    <tr>\n",
       "      <th>Bihar</th>\n",
       "      <td>660847900.0</td>\n",
       "    </tr>\n",
       "  </tbody>\n",
       "</table>\n",
       "</div>"
      ],
      "text/plain": [
       "                                   Total\n",
       "State                                   \n",
       "Andaman and Nicobar Islands    8102125.0\n",
       "Andhra Pradesh               564591113.0\n",
       "Arunachal Pradesh             21081557.0\n",
       "Assam                        239769091.0\n",
       "Bihar                        660847900.0"
      ]
     },
     "execution_count": 248,
     "metadata": {},
     "output_type": "execute_result"
    }
   ],
   "source": [
    "## Method 1\n",
    "vaccine_min=vaccine.pivot_table(index=['State'],values=['Total'],aggfunc=sum)\n",
    "vaccine_min.head()"
   ]
  },
  {
   "cell_type": "code",
   "execution_count": 249,
   "id": "a071049a",
   "metadata": {},
   "outputs": [],
   "source": [
    "vaccine_min=vaccine_min.sort_values(by=['Total'],ascending=True)[:5]"
   ]
  },
  {
   "cell_type": "code",
   "execution_count": 250,
   "id": "a3a8638a",
   "metadata": {},
   "outputs": [
    {
     "data": {
      "text/html": [
       "<div>\n",
       "<style scoped>\n",
       "    .dataframe tbody tr th:only-of-type {\n",
       "        vertical-align: middle;\n",
       "    }\n",
       "\n",
       "    .dataframe tbody tr th {\n",
       "        vertical-align: top;\n",
       "    }\n",
       "\n",
       "    .dataframe thead th {\n",
       "        text-align: right;\n",
       "    }\n",
       "</style>\n",
       "<table border=\"1\" class=\"dataframe\">\n",
       "  <thead>\n",
       "    <tr style=\"text-align: right;\">\n",
       "      <th></th>\n",
       "      <th>Total</th>\n",
       "    </tr>\n",
       "    <tr>\n",
       "      <th>State</th>\n",
       "      <th></th>\n",
       "    </tr>\n",
       "  </thead>\n",
       "  <tbody>\n",
       "    <tr>\n",
       "      <th>Lakshadweep</th>\n",
       "      <td>2124715.0</td>\n",
       "    </tr>\n",
       "    <tr>\n",
       "      <th>Andaman and Nicobar Islands</th>\n",
       "      <td>8102125.0</td>\n",
       "    </tr>\n",
       "    <tr>\n",
       "      <th>Ladakh</th>\n",
       "      <td>9466289.0</td>\n",
       "    </tr>\n",
       "    <tr>\n",
       "      <th>Dadra and Nagar Haveli and Daman and Diu</th>\n",
       "      <td>11358600.0</td>\n",
       "    </tr>\n",
       "    <tr>\n",
       "      <th>Sikkim</th>\n",
       "      <td>16136752.0</td>\n",
       "    </tr>\n",
       "  </tbody>\n",
       "</table>\n",
       "</div>"
      ],
      "text/plain": [
       "                                               Total\n",
       "State                                               \n",
       "Lakshadweep                                2124715.0\n",
       "Andaman and Nicobar Islands                8102125.0\n",
       "Ladakh                                     9466289.0\n",
       "Dadra and Nagar Haveli and Daman and Diu  11358600.0\n",
       "Sikkim                                    16136752.0"
      ]
     },
     "execution_count": 250,
     "metadata": {},
     "output_type": "execute_result"
    }
   ],
   "source": [
    "vaccine_min"
   ]
  },
  {
   "cell_type": "code",
   "execution_count": 230,
   "id": "fd11be13",
   "metadata": {},
   "outputs": [],
   "source": [
    "##Method 2\n",
    "\n",
    "vaccine_min2=vaccine.groupby('State')['Total'].sum().to_frame('Total')"
   ]
  },
  {
   "cell_type": "code",
   "execution_count": 233,
   "id": "bd7464a8",
   "metadata": {},
   "outputs": [],
   "source": [
    "vaccine_min2=vaccine_min2.sort_values('Total',ascending=True)[:5]"
   ]
  },
  {
   "cell_type": "code",
   "execution_count": 234,
   "id": "e7a66d11",
   "metadata": {},
   "outputs": [
    {
     "data": {
      "text/html": [
       "<div>\n",
       "<style scoped>\n",
       "    .dataframe tbody tr th:only-of-type {\n",
       "        vertical-align: middle;\n",
       "    }\n",
       "\n",
       "    .dataframe tbody tr th {\n",
       "        vertical-align: top;\n",
       "    }\n",
       "\n",
       "    .dataframe thead th {\n",
       "        text-align: right;\n",
       "    }\n",
       "</style>\n",
       "<table border=\"1\" class=\"dataframe\">\n",
       "  <thead>\n",
       "    <tr style=\"text-align: right;\">\n",
       "      <th></th>\n",
       "      <th>Total</th>\n",
       "    </tr>\n",
       "    <tr>\n",
       "      <th>State</th>\n",
       "      <th></th>\n",
       "    </tr>\n",
       "  </thead>\n",
       "  <tbody>\n",
       "    <tr>\n",
       "      <th>Lakshadweep</th>\n",
       "      <td>2124715.0</td>\n",
       "    </tr>\n",
       "    <tr>\n",
       "      <th>Andaman and Nicobar Islands</th>\n",
       "      <td>8102125.0</td>\n",
       "    </tr>\n",
       "    <tr>\n",
       "      <th>Ladakh</th>\n",
       "      <td>9466289.0</td>\n",
       "    </tr>\n",
       "    <tr>\n",
       "      <th>Dadra and Nagar Haveli and Daman and Diu</th>\n",
       "      <td>11358600.0</td>\n",
       "    </tr>\n",
       "    <tr>\n",
       "      <th>Sikkim</th>\n",
       "      <td>16136752.0</td>\n",
       "    </tr>\n",
       "  </tbody>\n",
       "</table>\n",
       "</div>"
      ],
      "text/plain": [
       "                                               Total\n",
       "State                                               \n",
       "Lakshadweep                                2124715.0\n",
       "Andaman and Nicobar Islands                8102125.0\n",
       "Ladakh                                     9466289.0\n",
       "Dadra and Nagar Haveli and Daman and Diu  11358600.0\n",
       "Sikkim                                    16136752.0"
      ]
     },
     "execution_count": 234,
     "metadata": {},
     "output_type": "execute_result"
    }
   ],
   "source": [
    "vaccine_min2"
   ]
  },
  {
   "cell_type": "code",
   "execution_count": null,
   "id": "938c505a",
   "metadata": {},
   "outputs": [],
   "source": []
  },
  {
   "cell_type": "code",
   "execution_count": null,
   "id": "72f9c232",
   "metadata": {},
   "outputs": [],
   "source": []
  }
 ],
 "metadata": {
  "kernelspec": {
   "display_name": "Python 3 (ipykernel)",
   "language": "python",
   "name": "python3"
  },
  "language_info": {
   "codemirror_mode": {
    "name": "ipython",
    "version": 3
   },
   "file_extension": ".py",
   "mimetype": "text/x-python",
   "name": "python",
   "nbconvert_exporter": "python",
   "pygments_lexer": "ipython3",
   "version": "3.9.12"
  }
 },
 "nbformat": 4,
 "nbformat_minor": 5
}
